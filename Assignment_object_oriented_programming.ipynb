{
  "nbformat": 4,
  "nbformat_minor": 0,
  "metadata": {
    "colab": {
      "provenance": [],
      "authorship_tag": "ABX9TyMNWNv7EvB3ugV/U8B9uvGA",
      "include_colab_link": true
    },
    "kernelspec": {
      "name": "python3",
      "display_name": "Python 3"
    },
    "language_info": {
      "name": "python"
    }
  },
  "cells": [
    {
      "cell_type": "markdown",
      "metadata": {
        "id": "view-in-github",
        "colab_type": "text"
      },
      "source": [
        "<a href=\"https://colab.research.google.com/github/aditya-0503/python-assignment/blob/main/Assignment_object_oriented_programming.ipynb\" target=\"_parent\"><img src=\"https://colab.research.google.com/assets/colab-badge.svg\" alt=\"Open In Colab\"/></a>"
      ]
    },
    {
      "cell_type": "code",
      "source": [
        "#1. Explain the importance of functions."
      ],
      "metadata": {
        "id": "BH5f4Td94bLY"
      },
      "execution_count": null,
      "outputs": []
    },
    {
      "cell_type": "code",
      "source": [
        "# 1. Simplifying tasks : Functions are like helpers that you can create to do specific jobs.\n",
        "# Instead of writing the same code again and again, you can make a function to do it once\n",
        "\n",
        "# 2. Keeping Things Organized: In a big problem , there can be lots of code. Functions help\n",
        "# keep things organised. you give each job a name and put the code for that job inside the functions.\n",
        "# so , you know where to find things.\n",
        "\n",
        "# 3. Reusability : Once you create a function , you can use it in different parts of your\n",
        "# program whenever you need that job done. This saves time, reduces mistakes, and makes your code more efficient.\n",
        "\n",
        "# 4. Collaboration : When working with others, functions make it easier to share and\n",
        "# understand the code. You can tell your friends,\"Use this function to do that task\", and they'll understand what it does.\n"
      ],
      "metadata": {
        "id": "lg7-R2dIL5qd"
      },
      "execution_count": null,
      "outputs": []
    },
    {
      "cell_type": "code",
      "source": [
        "#2. Write a basic function to greet students."
      ],
      "metadata": {
        "id": "r8tvybbDRnag"
      },
      "execution_count": null,
      "outputs": []
    },
    {
      "cell_type": "code",
      "source": [
        "def greet(n):\n",
        "    print(\"welcome to class\", n)"
      ],
      "metadata": {
        "id": "zO_MFd134u5-"
      },
      "execution_count": 11,
      "outputs": []
    },
    {
      "cell_type": "code",
      "source": [
        "greet(\"aditya\")"
      ],
      "metadata": {
        "colab": {
          "base_uri": "https://localhost:8080/"
        },
        "id": "9DF6AlCGStdJ",
        "outputId": "066cc029-7866-4699-8867-1d76844875db"
      },
      "execution_count": 12,
      "outputs": [
        {
          "output_type": "stream",
          "name": "stdout",
          "text": [
            "welcome to class aditya\n"
          ]
        }
      ]
    },
    {
      "cell_type": "code",
      "source": [
        "#3. what is difference between print and return statements?"
      ],
      "metadata": {
        "id": "w40uA6KsSwNG"
      },
      "execution_count": null,
      "outputs": []
    },
    {
      "cell_type": "code",
      "source": [
        "# The print statement is a built-in function in Python that is used to display output to the console or terminal\n",
        "\n",
        "# Python return statement is used to exit the function and return a value. The return keyword is used to specify\n",
        "#  a value that a function should return when a function is called. It performs some calculations or operations\n",
        "#  and then returns the value or a set of values to the calling code."
      ],
      "metadata": {
        "id": "-WaCUezFS8v_"
      },
      "execution_count": null,
      "outputs": []
    },
    {
      "cell_type": "code",
      "source": [
        "#4. What are *args and **kwargs?"
      ],
      "metadata": {
        "id": "UzX5_63lTrCn"
      },
      "execution_count": null,
      "outputs": []
    },
    {
      "cell_type": "code",
      "source": [
        "# *args :\n",
        "# >It allows a function to accept any number of positional arguments.\n",
        "# >The asterisk (*) before the parameter name is used to denote that it can take multiple arguments.\n",
        "# >The arguments passed with *args are treated as a tuple.\n",
        "\n",
        "# **kwargs:\n",
        "# >It allows a function to accept any number of keyword arguments.\n",
        "# >The double asterisk (**) before the parameter name is used to denote that it can take multiple keyword\n",
        "# arguments.\n",
        "# >The arguments passed with **kwrgs are treated as a dictionary."
      ],
      "metadata": {
        "id": "wCOxMbk8au6p"
      },
      "execution_count": null,
      "outputs": []
    },
    {
      "cell_type": "code",
      "source": [
        "#5. Explain the iterator function."
      ],
      "metadata": {
        "id": "fL6ua4nwcaHW"
      },
      "execution_count": null,
      "outputs": []
    },
    {
      "cell_type": "code",
      "source": [
        "# Iterator in python is an object that is used to iterate over iterable objects like lists,\n",
        "# tuples, dicts, and set. The iterator object is initialized using the 'iter()' method. It uses\n",
        "# the 'next()'method for iteration."
      ],
      "metadata": {
        "id": "L3pOs9N7cknE"
      },
      "execution_count": null,
      "outputs": []
    },
    {
      "cell_type": "code",
      "source": [
        "#6. Write a code that generates the squares of numbers from 1 to n usingn a generator,"
      ],
      "metadata": {
        "id": "G9BNIACBdy7R"
      },
      "execution_count": null,
      "outputs": []
    },
    {
      "cell_type": "code",
      "source": [
        "def square_num(n):\n",
        "  result = []\n",
        "  for i in range(n):\n",
        "    result.append(i ** 2)\n",
        "  return result"
      ],
      "metadata": {
        "id": "4S24Yk1DeAml"
      },
      "execution_count": null,
      "outputs": []
    },
    {
      "cell_type": "code",
      "source": [
        "square_num(6)"
      ],
      "metadata": {
        "colab": {
          "base_uri": "https://localhost:8080/"
        },
        "id": "MyMMv-Mxfa1r",
        "outputId": "b503554a-f403-49aa-b2fc-1cf97eaef15e"
      },
      "execution_count": null,
      "outputs": [
        {
          "output_type": "execute_result",
          "data": {
            "text/plain": [
              "[0, 1, 4, 9, 16, 25]"
            ]
          },
          "metadata": {},
          "execution_count": 7
        }
      ]
    },
    {
      "cell_type": "code",
      "source": [
        "#7. write a code that generates palindromic numbers up to n using a generator."
      ],
      "metadata": {
        "id": "Ud2cxB8HfdhL"
      },
      "execution_count": null,
      "outputs": []
    },
    {
      "cell_type": "code",
      "source": [
        "s = input(\"enter a value :\")\n",
        "\n",
        "reverse = s[::-1]\n",
        "\n",
        "if (s == reverse ):\n",
        "  print(\"this is palindrome\")\n",
        "else:\n",
        "  print(\"this is not palindrome\")"
      ],
      "metadata": {
        "colab": {
          "base_uri": "https://localhost:8080/"
        },
        "id": "Ui8SXRGipQq9",
        "outputId": "423bfec3-b280-4ad3-d2d1-589ad24c0be7"
      },
      "execution_count": null,
      "outputs": [
        {
          "output_type": "stream",
          "name": "stdout",
          "text": [
            "enter a value :hello\n",
            "this is not palindrome\n"
          ]
        }
      ]
    },
    {
      "cell_type": "code",
      "source": [
        "#8. write a code that generates even numbers from 2 to n using a generator."
      ],
      "metadata": {
        "id": "lEJq-vnnqNB9"
      },
      "execution_count": null,
      "outputs": []
    },
    {
      "cell_type": "code",
      "source": [
        "def evenGen(n):\n",
        "  for i in range(n+1):\n",
        "    if i % 2 == 0:\n",
        "      yield i\n",
        "\n",
        "numbers = []\n",
        "for n in evenGen(10):\n",
        "  numbers.append(str(n))\n",
        "\n",
        "print(\",\".join(numbers))"
      ],
      "metadata": {
        "colab": {
          "base_uri": "https://localhost:8080/"
        },
        "id": "41oEObXV0qID",
        "outputId": "24ca7f60-d36f-4c06-b9f8-0403c6165026"
      },
      "execution_count": null,
      "outputs": [
        {
          "output_type": "stream",
          "name": "stdout",
          "text": [
            "0,2,4,6,8,10\n"
          ]
        }
      ]
    },
    {
      "cell_type": "code",
      "source": [
        "#9. write a code that generates powers of two up to n using a generator."
      ],
      "metadata": {
        "id": "-m2OURuu1d4j"
      },
      "execution_count": null,
      "outputs": []
    },
    {
      "cell_type": "code",
      "source": [
        "def greet(n):\n",
        "    print(\"welcome to class\", n)"
      ],
      "metadata": {
        "id": "ZizK63UnSRlE"
      },
      "execution_count": null,
      "outputs": []
    },
    {
      "cell_type": "code",
      "source": [
        "#10. write a code that generates prime numbers up to n using a generator."
      ],
      "metadata": {
        "id": "cW88bUh54RPk"
      },
      "execution_count": null,
      "outputs": []
    },
    {
      "cell_type": "code",
      "source": [
        "def isPrime(num):\n",
        "  for i in range(2,num):\n",
        "    if num%i == 0:\n",
        "      return False\n",
        "  return True\n",
        "def primeGenerator(n):\n",
        "  num = 2\n",
        "  while n:\n",
        "    if isPrime(num):\n",
        "      yield num\n",
        "      n -= 1\n",
        "    num += 1\n",
        "  return\n",
        "\n",
        "it = primeGenerator(10)\n",
        "for e in it:\n",
        "  print(e,end = ' ')"
      ],
      "metadata": {
        "colab": {
          "base_uri": "https://localhost:8080/"
        },
        "id": "2GC9i0WT8xT2",
        "outputId": "74238b3b-0f75-4647-c31d-8b558a165dfe"
      },
      "execution_count": null,
      "outputs": [
        {
          "output_type": "stream",
          "name": "stdout",
          "text": [
            "2 3 5 7 11 13 17 19 23 29 "
          ]
        }
      ]
    },
    {
      "cell_type": "code",
      "source": [
        "#11. Write a code that uses a lambda function to calculate the sum of two numbers."
      ],
      "metadata": {
        "id": "Dl27THEG9qIV"
      },
      "execution_count": null,
      "outputs": []
    },
    {
      "cell_type": "code",
      "source": [
        "add = lambda a,b: a+b"
      ],
      "metadata": {
        "id": "IaPUTTv9-3-V"
      },
      "execution_count": null,
      "outputs": []
    },
    {
      "cell_type": "code",
      "source": [
        "add(5,88)"
      ],
      "metadata": {
        "colab": {
          "base_uri": "https://localhost:8080/"
        },
        "id": "7u2_TawK_pfg",
        "outputId": "9af0c1a9-ac75-4c2c-995b-68b645cf88f7"
      },
      "execution_count": null,
      "outputs": [
        {
          "output_type": "execute_result",
          "data": {
            "text/plain": [
              "93"
            ]
          },
          "metadata": {},
          "execution_count": 9
        }
      ]
    },
    {
      "cell_type": "code",
      "source": [
        "#12. Write a code that uses a lambda function to calculate the square of a given number."
      ],
      "metadata": {
        "id": "heDt4KbB_sv_"
      },
      "execution_count": null,
      "outputs": []
    },
    {
      "cell_type": "code",
      "source": [
        "sq_num = lambda x: x**2"
      ],
      "metadata": {
        "id": "hdVEZpb2_8ZM"
      },
      "execution_count": null,
      "outputs": []
    },
    {
      "cell_type": "code",
      "source": [
        "sq_num(4)"
      ],
      "metadata": {
        "colab": {
          "base_uri": "https://localhost:8080/"
        },
        "id": "N3j6h3lqFHVq",
        "outputId": "0d26bb06-4d20-48be-d8b9-36c025c57490"
      },
      "execution_count": null,
      "outputs": [
        {
          "output_type": "execute_result",
          "data": {
            "text/plain": [
              "16"
            ]
          },
          "metadata": {},
          "execution_count": 2
        }
      ]
    },
    {
      "cell_type": "code",
      "source": [
        "#13. Write a code that uses a lambda function to check whether a given number is even or odd."
      ],
      "metadata": {
        "id": "QMR4Nuv6FOTZ"
      },
      "execution_count": null,
      "outputs": []
    },
    {
      "cell_type": "code",
      "source": [
        "is_even = lambda x: x%2 == 0"
      ],
      "metadata": {
        "id": "rkqq7so8IWwk"
      },
      "execution_count": null,
      "outputs": []
    },
    {
      "cell_type": "code",
      "source": [
        "is_even(90)"
      ],
      "metadata": {
        "colab": {
          "base_uri": "https://localhost:8080/"
        },
        "id": "K96R4KdhIrRp",
        "outputId": "9ad62a6d-8a9a-4637-cac7-3491dda5f1a9"
      },
      "execution_count": null,
      "outputs": [
        {
          "output_type": "execute_result",
          "data": {
            "text/plain": [
              "True"
            ]
          },
          "metadata": {},
          "execution_count": 6
        }
      ]
    },
    {
      "cell_type": "code",
      "source": [
        "is_even(45)"
      ],
      "metadata": {
        "colab": {
          "base_uri": "https://localhost:8080/"
        },
        "id": "FBayj-DII5UL",
        "outputId": "caafcdeb-be77-4224-aa1b-4c01ede7a675"
      },
      "execution_count": null,
      "outputs": [
        {
          "output_type": "execute_result",
          "data": {
            "text/plain": [
              "False"
            ]
          },
          "metadata": {},
          "execution_count": 7
        }
      ]
    },
    {
      "cell_type": "code",
      "source": [
        "#15. write a code that uses a lambda function to concatenate two strings."
      ],
      "metadata": {
        "id": "XxcC15waI9KM"
      },
      "execution_count": 13,
      "outputs": []
    },
    {
      "cell_type": "code",
      "source": [
        "conc = lambda x,y: x+y"
      ],
      "metadata": {
        "id": "xvzlaCKh6fRY"
      },
      "execution_count": 14,
      "outputs": []
    },
    {
      "cell_type": "code",
      "source": [
        "conc(x=[\"aditya\",\"raj\"],y=[\"currently\",\"studing\",\"datascience\"])"
      ],
      "metadata": {
        "colab": {
          "base_uri": "https://localhost:8080/"
        },
        "id": "19MkWSZs6voE",
        "outputId": "bdf82be9-afb2-492a-ed8d-8d4b67ad8fbf"
      },
      "execution_count": 15,
      "outputs": [
        {
          "output_type": "execute_result",
          "data": {
            "text/plain": [
              "['aditya', 'raj', 'currently', 'studing', 'datascience']"
            ]
          },
          "metadata": {},
          "execution_count": 15
        }
      ]
    },
    {
      "cell_type": "code",
      "source": [
        "#16. Write a code that uses a lambda function to find the maximum of three given numbers."
      ],
      "metadata": {
        "id": "ukhKzYZz7AaV"
      },
      "execution_count": 16,
      "outputs": []
    },
    {
      "cell_type": "code",
      "source": [
        "find_max = lambda a,b,c : max(a,b,c)\n",
        "results = find_max(3,5,77)\n",
        "print(\"maximum no is\", results)"
      ],
      "metadata": {
        "colab": {
          "base_uri": "https://localhost:8080/"
        },
        "id": "C-HlpWjw7bq9",
        "outputId": "ea848a63-f788-4a76-b8eb-48b3220246f5"
      },
      "execution_count": 17,
      "outputs": [
        {
          "output_type": "stream",
          "name": "stdout",
          "text": [
            "maximum no is 77\n"
          ]
        }
      ]
    },
    {
      "cell_type": "code",
      "source": [
        "#17. Write a code that geneartes the squares of even numbers from a given list."
      ],
      "metadata": {
        "id": "4HnWtV2V8fLF"
      },
      "execution_count": 18,
      "outputs": []
    },
    {
      "cell_type": "code",
      "source": [
        "lot1 = [1,2,3,4,5,6]\n",
        "squared_even = list(map(lambda x: x**2, filter(lambda x: x%2 ==0, lot1)))\n",
        "print(\"squared even numbers:\", squared_even)"
      ],
      "metadata": {
        "colab": {
          "base_uri": "https://localhost:8080/"
        },
        "id": "YyRezLh79TP1",
        "outputId": "fffe8282-6fae-4bc1-f97b-83f646d17e50"
      },
      "execution_count": 19,
      "outputs": [
        {
          "output_type": "stream",
          "name": "stdout",
          "text": [
            "squared even numbers: [4, 16, 36]\n"
          ]
        }
      ]
    },
    {
      "cell_type": "code",
      "source": [
        "#18. Write a code that calculate the product of positive numbers from a given list."
      ],
      "metadata": {
        "id": "nAHROIRQ-OhO"
      },
      "execution_count": 20,
      "outputs": []
    },
    {
      "cell_type": "code",
      "source": [
        "pro = [-1,2,-3,4,5,-6]\n",
        "product = list(map(lambda x,y: x*y,pro , filter(lambda x,y: x,y >= 0, pro)))\n",
        "print(\"product of positive numbers are:\", product)"
      ],
      "metadata": {
        "colab": {
          "base_uri": "https://localhost:8080/",
          "height": 176
        },
        "id": "jffYf1NkCTMW",
        "outputId": "736c9b06-9c9a-43c2-db8c-73c2c727fa87"
      },
      "execution_count": 21,
      "outputs": [
        {
          "output_type": "error",
          "ename": "NameError",
          "evalue": "name 'y' is not defined",
          "traceback": [
            "\u001b[0;31m---------------------------------------------------------------------------\u001b[0m",
            "\u001b[0;31mNameError\u001b[0m                                 Traceback (most recent call last)",
            "\u001b[0;32m<ipython-input-21-b5eb4a8dd17c>\u001b[0m in \u001b[0;36m<cell line: 2>\u001b[0;34m()\u001b[0m\n\u001b[1;32m      1\u001b[0m \u001b[0mpro\u001b[0m \u001b[0;34m=\u001b[0m \u001b[0;34m[\u001b[0m\u001b[0;34m-\u001b[0m\u001b[0;36m1\u001b[0m\u001b[0;34m,\u001b[0m\u001b[0;36m2\u001b[0m\u001b[0;34m,\u001b[0m\u001b[0;34m-\u001b[0m\u001b[0;36m3\u001b[0m\u001b[0;34m,\u001b[0m\u001b[0;36m4\u001b[0m\u001b[0;34m,\u001b[0m\u001b[0;36m5\u001b[0m\u001b[0;34m,\u001b[0m\u001b[0;34m-\u001b[0m\u001b[0;36m6\u001b[0m\u001b[0;34m]\u001b[0m\u001b[0;34m\u001b[0m\u001b[0;34m\u001b[0m\u001b[0m\n\u001b[0;32m----> 2\u001b[0;31m \u001b[0mproduct\u001b[0m \u001b[0;34m=\u001b[0m \u001b[0mlist\u001b[0m\u001b[0;34m(\u001b[0m\u001b[0mmap\u001b[0m\u001b[0;34m(\u001b[0m\u001b[0;32mlambda\u001b[0m \u001b[0mx\u001b[0m\u001b[0;34m,\u001b[0m\u001b[0my\u001b[0m\u001b[0;34m:\u001b[0m \u001b[0mx\u001b[0m\u001b[0;34m*\u001b[0m\u001b[0my\u001b[0m\u001b[0;34m,\u001b[0m\u001b[0mpro\u001b[0m \u001b[0;34m,\u001b[0m \u001b[0mfilter\u001b[0m\u001b[0;34m(\u001b[0m\u001b[0;32mlambda\u001b[0m \u001b[0mx\u001b[0m\u001b[0;34m,\u001b[0m\u001b[0my\u001b[0m\u001b[0;34m:\u001b[0m \u001b[0mx\u001b[0m\u001b[0;34m,\u001b[0m\u001b[0my\u001b[0m \u001b[0;34m>=\u001b[0m \u001b[0;36m0\u001b[0m\u001b[0;34m,\u001b[0m \u001b[0mpro\u001b[0m\u001b[0;34m)\u001b[0m\u001b[0;34m)\u001b[0m\u001b[0;34m)\u001b[0m\u001b[0;34m\u001b[0m\u001b[0;34m\u001b[0m\u001b[0m\n\u001b[0m\u001b[1;32m      3\u001b[0m \u001b[0mprint\u001b[0m\u001b[0;34m(\u001b[0m\u001b[0;34m\"product of positive numbers are:\"\u001b[0m\u001b[0;34m,\u001b[0m \u001b[0mproduct\u001b[0m\u001b[0;34m)\u001b[0m\u001b[0;34m\u001b[0m\u001b[0;34m\u001b[0m\u001b[0m\n",
            "\u001b[0;31mNameError\u001b[0m: name 'y' is not defined"
          ]
        }
      ]
    },
    {
      "cell_type": "code",
      "source": [
        "#19. Write a code that doubles the values of odd numbers from a given list."
      ],
      "metadata": {
        "id": "i7RZWC4eDTXv"
      },
      "execution_count": 22,
      "outputs": []
    },
    {
      "cell_type": "code",
      "source": [
        "prof = [34,22,23,35,22,65,90]\n",
        "doubles = list(map(lambda x: 2*x, filter(lambda x: x%2 != 0, prof)))\n",
        "print(\"doubles of odd numbers are:\", doubles)"
      ],
      "metadata": {
        "colab": {
          "base_uri": "https://localhost:8080/"
        },
        "id": "pqETRB5G7BO9",
        "outputId": "6c2473c7-4fb2-4658-c6f0-3c2834b2f2fd"
      },
      "execution_count": 23,
      "outputs": [
        {
          "output_type": "stream",
          "name": "stdout",
          "text": [
            "doubles of odd numbers are: [46, 70, 130]\n"
          ]
        }
      ]
    },
    {
      "cell_type": "code",
      "source": [
        "#20. Write a code that calculates the sum of cubes of numbers from a given list."
      ],
      "metadata": {
        "id": "TNACtr1F7nqE"
      },
      "execution_count": 24,
      "outputs": []
    },
    {
      "cell_type": "code",
      "source": [
        "\n",
        "test_list = [3, 5, 7, 9, 11]\n",
        "\n",
        "for i in test_list:\n",
        "\n",
        "print(i)"
      ],
      "metadata": {
        "colab": {
          "base_uri": "https://localhost:8080/",
          "height": 106
        },
        "id": "uTboyn5b83K4",
        "outputId": "fc6e365c-4b81-4bad-d0a3-952e44396a39"
      },
      "execution_count": 25,
      "outputs": [
        {
          "output_type": "error",
          "ename": "IndentationError",
          "evalue": "expected an indented block after 'for' statement on line 3 (<ipython-input-25-035002d02c4f>, line 5)",
          "traceback": [
            "\u001b[0;36m  File \u001b[0;32m\"<ipython-input-25-035002d02c4f>\"\u001b[0;36m, line \u001b[0;32m5\u001b[0m\n\u001b[0;31m    print(i)\u001b[0m\n\u001b[0m    ^\u001b[0m\n\u001b[0;31mIndentationError\u001b[0m\u001b[0;31m:\u001b[0m expected an indented block after 'for' statement on line 3\n"
          ]
        }
      ]
    },
    {
      "cell_type": "code",
      "source": [
        "#21. Write a code that filters out prime numbers from a given list."
      ],
      "metadata": {
        "id": "pypCYMM_9iuB"
      },
      "execution_count": 26,
      "outputs": []
    },
    {
      "cell_type": "code",
      "source": [
        "def checkPrime(number):\n",
        "  if number == 0 or number == 1:\n",
        "    return 0\n",
        "  for i in range(2,number // 2+1):\n",
        "    if number % i == 0:\n",
        "      return 0\n",
        "  else:\n",
        "    return number\n",
        "\n",
        "if __name__ == \"__main__\":\n",
        "  numberList = [0,1,2,3,4,5,6,7,8,9,10]\n",
        "  ansList = list(map(checkPrime, numberList))\n",
        "  if sum(ansList):\n",
        "    print(\"prime Number :\",end = \"->\")\n",
        "    for ans in ansList:\n",
        "      if ans:\n",
        "        print(ans, end = \",\")\n",
        "  else:\n",
        "    print(\"No any number from the given list is Prime\")"
      ],
      "metadata": {
        "id": "7K2edTY3BI3Q",
        "colab": {
          "base_uri": "https://localhost:8080/"
        },
        "outputId": "75061e83-aafc-4e70-fe9c-aa5303071ff9"
      },
      "execution_count": 27,
      "outputs": [
        {
          "output_type": "stream",
          "name": "stdout",
          "text": [
            "prime Number :->2,3,5,7,"
          ]
        }
      ]
    },
    {
      "cell_type": "code",
      "source": [
        "#22. Write a code that uses a lambda function to calculate the sum of two numbers."
      ],
      "metadata": {
        "id": "2Z169o8E5ner"
      },
      "execution_count": null,
      "outputs": []
    },
    {
      "cell_type": "code",
      "source": [
        "add = lambda a,b: a+b"
      ],
      "metadata": {
        "id": "CiydSMHD55kG"
      },
      "execution_count": 42,
      "outputs": []
    },
    {
      "cell_type": "code",
      "source": [
        "add(99,99)"
      ],
      "metadata": {
        "colab": {
          "base_uri": "https://localhost:8080/"
        },
        "id": "T9SDSNvg6BFq",
        "outputId": "438654a0-799a-4caf-945e-9ac7b4ffd9ff"
      },
      "execution_count": 43,
      "outputs": [
        {
          "output_type": "execute_result",
          "data": {
            "text/plain": [
              "198"
            ]
          },
          "metadata": {},
          "execution_count": 43
        }
      ]
    },
    {
      "cell_type": "code",
      "source": [
        "#23. Write a code that uses a lambda function to calculate the square of a given number."
      ],
      "metadata": {
        "id": "rVl1MPsW6KD9"
      },
      "execution_count": null,
      "outputs": []
    },
    {
      "cell_type": "code",
      "source": [
        "sq_num = lambda x: x**2"
      ],
      "metadata": {
        "id": "M5ebFMAM6J-Q"
      },
      "execution_count": 45,
      "outputs": []
    },
    {
      "cell_type": "code",
      "source": [
        "sq_num(7)"
      ],
      "metadata": {
        "colab": {
          "base_uri": "https://localhost:8080/"
        },
        "id": "mhFRIQ5n6pXp",
        "outputId": "a2cb44e0-88ae-4160-aa0b-2cc17012928b"
      },
      "execution_count": 46,
      "outputs": [
        {
          "output_type": "execute_result",
          "data": {
            "text/plain": [
              "49"
            ]
          },
          "metadata": {},
          "execution_count": 46
        }
      ]
    },
    {
      "cell_type": "code",
      "source": [
        "#24. Write a code that uses a lambda function to check whether a given number is even or odd."
      ],
      "metadata": {
        "id": "du79ehuD6I6-"
      },
      "execution_count": null,
      "outputs": []
    },
    {
      "cell_type": "code",
      "source": [
        "is_even = lambda x: x%2 == 0"
      ],
      "metadata": {
        "id": "GTGntGK96I0h"
      },
      "execution_count": 48,
      "outputs": []
    },
    {
      "cell_type": "code",
      "source": [
        "is_even(99)"
      ],
      "metadata": {
        "colab": {
          "base_uri": "https://localhost:8080/"
        },
        "id": "i72ofZ3H6H4i",
        "outputId": "04debdf2-8326-49dc-ebcc-48f850a7c8e7"
      },
      "execution_count": 49,
      "outputs": [
        {
          "output_type": "execute_result",
          "data": {
            "text/plain": [
              "False"
            ]
          },
          "metadata": {},
          "execution_count": 49
        }
      ]
    },
    {
      "cell_type": "code",
      "source": [
        "is_even(44)"
      ],
      "metadata": {
        "colab": {
          "base_uri": "https://localhost:8080/"
        },
        "id": "iDWy7wV66Hxi",
        "outputId": "9a10895c-3a31-49ba-a0b8-a6f010f4688e"
      },
      "execution_count": 50,
      "outputs": [
        {
          "output_type": "execute_result",
          "data": {
            "text/plain": [
              "True"
            ]
          },
          "metadata": {},
          "execution_count": 50
        }
      ]
    },
    {
      "cell_type": "code",
      "source": [
        "#25. write a code that uses a lambda function to concatenate two strings."
      ],
      "metadata": {
        "id": "1n0Mmcxb6E7y"
      },
      "execution_count": null,
      "outputs": []
    },
    {
      "cell_type": "code",
      "source": [
        "conc = lambda x,y: x+y"
      ],
      "metadata": {
        "id": "wExIWGCo6EdT"
      },
      "execution_count": 51,
      "outputs": []
    },
    {
      "cell_type": "code",
      "source": [
        "conc(x=[\"aditya\",\"raj\"],y=[\"currently\",\"studing\",\"datascience\"])"
      ],
      "metadata": {
        "colab": {
          "base_uri": "https://localhost:8080/"
        },
        "id": "FnNdTUiP7UZs",
        "outputId": "844bbc52-7eb6-4dae-fd78-7b5fd0975fe8"
      },
      "execution_count": 52,
      "outputs": [
        {
          "output_type": "execute_result",
          "data": {
            "text/plain": [
              "['aditya', 'raj', 'currently', 'studing', 'datascience']"
            ]
          },
          "metadata": {},
          "execution_count": 52
        }
      ]
    },
    {
      "cell_type": "code",
      "source": [
        "#26. Write a code that uses a lambda function to find the maximum of three given numbers."
      ],
      "metadata": {
        "id": "_Tp5mnIw7XQN"
      },
      "execution_count": null,
      "outputs": []
    },
    {
      "cell_type": "code",
      "source": [
        "find_max = lambda a,b,c : max(a,b,c)\n",
        "results = find_max(3000,566,77)\n",
        "print(\"maximum no is\", results)"
      ],
      "metadata": {
        "colab": {
          "base_uri": "https://localhost:8080/"
        },
        "id": "IwuGlMro7cit",
        "outputId": "7687a542-830f-425c-ea21-e9fe1d9005e1"
      },
      "execution_count": 53,
      "outputs": [
        {
          "output_type": "stream",
          "name": "stdout",
          "text": [
            "maximum no is 3000\n"
          ]
        }
      ]
    },
    {
      "cell_type": "code",
      "source": [
        "#27. What is encapsulation in OOP?"
      ],
      "metadata": {
        "id": "aktinIR1SOPE"
      },
      "execution_count": 28,
      "outputs": []
    },
    {
      "cell_type": "code",
      "source": [
        "# #Encapsulation is a Python technique for combining data and functions into a\n",
        "# single object. A class, for instance, contains all the data (methods and variables). Encapsulation refers to the\n",
        "# broad concealment of an object's internal representation from areas outside of its specification.\n",
        "\n",
        "# Assume, for instance, that you combine methods that provide read or write access with an attribute that is\n",
        "# hidden from view on the exterior of an object. Then, you may limit who has access to the object's internal\n",
        "# state and hide particular pieces of information. Without giving the program complete access to all of a\n",
        "# class's variables, encapsulation provides a mechanism for us to obtain the necessary variable. This method is\n",
        "# used to shield an object's data from other objects."
      ],
      "metadata": {
        "id": "OtfsO3LnBJrV"
      },
      "execution_count": 29,
      "outputs": []
    },
    {
      "cell_type": "code",
      "source": [
        "#28. Explain the use of access modifiers in Python classes."
      ],
      "metadata": {
        "id": "jkfW03rZSKq5"
      },
      "execution_count": 30,
      "outputs": []
    },
    {
      "cell_type": "code",
      "source": [
        "# #Python uses ‘_’ symbol to determine the access control for a specific data member or a member function of a class.\n",
        "#  Access specifiers in Python have an important role to play in securing data from unauthorized access and in preventing\n",
        "#   it from being exploited."
      ],
      "metadata": {
        "id": "MQVErJqdVEGi"
      },
      "execution_count": 31,
      "outputs": []
    },
    {
      "cell_type": "code",
      "source": [
        "#29. What is inheritance in OOP?"
      ],
      "metadata": {
        "id": "r5e01wRgV2I-"
      },
      "execution_count": 32,
      "outputs": []
    },
    {
      "cell_type": "code",
      "source": [
        "# Inheritance plays a significant role in an oop language. Inheritance\n",
        "# in Python refer to the process of a child class receiving the parent class's properties.\n",
        "\n",
        "# The reuse of code is inheritance's main goal. Instead of starting from scratch when developing a new class, we\n",
        "# can use the existing class instead of re-creating it from scratch."
      ],
      "metadata": {
        "id": "QrrCGA26V-3V"
      },
      "execution_count": 33,
      "outputs": []
    },
    {
      "cell_type": "code",
      "source": [
        "#30. Define polymorphism in OOP."
      ],
      "metadata": {
        "id": "yYwhVurGXH_l"
      },
      "execution_count": 34,
      "outputs": []
    },
    {
      "cell_type": "code",
      "source": [
        "# In OOP, polymorphism refers to an object's capacity to assume several forms.\n",
        "# Simply said, polymorphism enables us to carry out a single activity in a variety of ways\n",
        "\n",
        "# From the greek word poly(many) and morphism (forms) , we get polymorphism.\n",
        "# polymorphism is the capcity to assume several shapes."
      ],
      "metadata": {
        "id": "Gx_uanfWXRDn"
      },
      "execution_count": 35,
      "outputs": []
    },
    {
      "cell_type": "code",
      "source": [
        "#31. Explain method overriding in Python."
      ],
      "metadata": {
        "id": "_EAlmNjxYTuU"
      },
      "execution_count": 36,
      "outputs": []
    },
    {
      "cell_type": "code",
      "source": [
        "# In Python, method overriding is the process of providing a different\n",
        "# implementation for a method that is already defined in the superclass within a subclass. It enables the\n",
        "# subclass to define its own version of a method with the same name and parameters as the method in the\n",
        "# superclass. When a method is overridden, the subclass implements the method in its own way, which\n",
        "# overrides the behaviour defined in the superclass. The subclass can then alter or expand the functionality of\n",
        "# the inherited method."
      ],
      "metadata": {
        "id": "duic5u_JYgb5"
      },
      "execution_count": 37,
      "outputs": []
    },
    {
      "cell_type": "code",
      "source": [
        "#32. Define a parent class Animal with a method make_sound that prints\"Generic animal sound\". Create a child class\n",
        "# Dog inheriting from  Animal with a method make_sound that prints \"Woof!\"."
      ],
      "metadata": {
        "id": "SRdNsc-dYzlf"
      },
      "execution_count": 38,
      "outputs": []
    },
    {
      "cell_type": "code",
      "source": [
        "class Animal:\n",
        "  def make_sound(self):\n",
        "    print(\"Generic animal sound.\")\n",
        "\n",
        "class Dog(Animal):\n",
        "  def make_sound(self):\n",
        "    print(\"Woof!\")\n",
        "\n",
        "obj = Animal()"
      ],
      "metadata": {
        "id": "t96VvJGFaRqK"
      },
      "execution_count": 39,
      "outputs": []
    },
    {
      "cell_type": "code",
      "source": [
        "obj.make_sound()"
      ],
      "metadata": {
        "colab": {
          "base_uri": "https://localhost:8080/"
        },
        "id": "dRP020SebAne",
        "outputId": "a14c05a1-c458-482d-a984-5feebdaa8b10"
      },
      "execution_count": 40,
      "outputs": [
        {
          "output_type": "stream",
          "name": "stdout",
          "text": [
            "Generic animal sound.\n"
          ]
        }
      ]
    },
    {
      "cell_type": "code",
      "source": [
        "# 33. Define a method move in the Animal class that prints \"Animal moves\". Override the move method in the\n",
        "# Dog class to print \"Dog runs.\""
      ],
      "metadata": {
        "id": "FdG7uF5vbD4X"
      },
      "execution_count": 41,
      "outputs": []
    },
    {
      "cell_type": "code",
      "source": [
        "class Animal:\n",
        "  def sound(self):\n",
        "    print(\"Animal moves\")\n",
        "\n",
        "class Dog(Animal):\n",
        "  def sound(self):\n",
        "    print(\"Dog runs.\")\n",
        "\n",
        "animal = Animal()\n",
        "dog = Dog()"
      ],
      "metadata": {
        "id": "RMt7KdkEcUvK"
      },
      "execution_count": null,
      "outputs": []
    },
    {
      "cell_type": "code",
      "source": [
        "animal.sound()\n",
        "dog.sound()"
      ],
      "metadata": {
        "colab": {
          "base_uri": "https://localhost:8080/"
        },
        "id": "lRnD_9bmdyZ9",
        "outputId": "fdd1d11d-e8c4-4eb9-defb-064c2470204a"
      },
      "execution_count": null,
      "outputs": [
        {
          "output_type": "stream",
          "name": "stdout",
          "text": [
            "Animal moves\n",
            "Dog runs.\n"
          ]
        }
      ]
    },
    {
      "cell_type": "code",
      "source": [
        "# 34. Create a class Mammal with a method reproduce that prints \"Giving birth to live young.\" Create a class\n",
        "# DogMammal inheriting from both Dog and Mammal.\n"
      ],
      "metadata": {
        "id": "2SWyWr_Cd97n"
      },
      "execution_count": null,
      "outputs": []
    },
    {
      "cell_type": "code",
      "source": [
        "class Dog:\n",
        "  def sound(self):\n",
        "    print(\"Dog runs.\")\n",
        "\n",
        "class Mammal:\n",
        "  def birth(self):\n",
        "    print(\"Giving birth to live young.\")\n",
        "\n",
        "class DogMammal(Dog, Mammal):\n",
        "  def bite(self):\n",
        "    print(\"I am dangerous\")\n",
        "\n",
        "method = DogMammal()"
      ],
      "metadata": {
        "id": "y7jqsEtEfSOc"
      },
      "execution_count": null,
      "outputs": []
    },
    {
      "cell_type": "code",
      "source": [
        "method.sound()\n",
        "method.birth()\n",
        "method.bite()"
      ],
      "metadata": {
        "colab": {
          "base_uri": "https://localhost:8080/"
        },
        "id": "Il2K6ImbgHmC",
        "outputId": "b7a3d75d-34fb-4a36-da18-6d8f906b80f2"
      },
      "execution_count": null,
      "outputs": [
        {
          "output_type": "stream",
          "name": "stdout",
          "text": [
            "Dog runs.\n",
            "Giving birth to live young.\n",
            "I am dangerous\n"
          ]
        }
      ]
    },
    {
      "cell_type": "code",
      "source": [
        "# 35. Create a class GermanShepherd inheriting from Dog and override\n",
        "#  the make_sound method to print \"Bark!\""
      ],
      "metadata": {
        "id": "E0i50YjngQvv"
      },
      "execution_count": null,
      "outputs": []
    },
    {
      "cell_type": "code",
      "source": [
        "class Dog():\n",
        "  def make_sound(self):\n",
        "    print(\"Woof!\")\n",
        "\n",
        "class GermanShepherd(Dog):\n",
        "  def make_sound(self):\n",
        "    print(\"Bark!\")\n",
        "\n",
        "sod = GermanShepherd()\n"
      ],
      "metadata": {
        "id": "nMiKNgvWh0bx"
      },
      "execution_count": null,
      "outputs": []
    },
    {
      "cell_type": "code",
      "source": [
        "sod.make_sound()"
      ],
      "metadata": {
        "colab": {
          "base_uri": "https://localhost:8080/"
        },
        "id": "mbkgfeP3iQmt",
        "outputId": "b002e2fa-3d4a-48e1-c6be-b0320a675498"
      },
      "execution_count": null,
      "outputs": [
        {
          "output_type": "stream",
          "name": "stdout",
          "text": [
            "Bark!\n"
          ]
        }
      ]
    },
    {
      "cell_type": "code",
      "source": [
        "# 36. Define constructor in both the Animal and Dog classes with different initialization parameters."
      ],
      "metadata": {
        "id": "D-Pa0WraiSsx"
      },
      "execution_count": null,
      "outputs": []
    },
    {
      "cell_type": "code",
      "source": [
        "#  In Animal\n",
        "# the constructor used is sound which is a parameterized constructor,\n",
        "# and In Dog\n",
        "# the constructor used is make_sound which is also a parameterized constructor.\n",
        "\n",
        "# The parameterized constructor takes its first argument as a reference to the\n",
        "# instance being constructed known as self and the rest of the arguments are\n",
        "# provided by the programmer."
      ],
      "metadata": {
        "id": "lRXm6bg0itPW"
      },
      "execution_count": null,
      "outputs": []
    },
    {
      "cell_type": "code",
      "source": [
        "#37. What is abstraction in Python ? How is it implemented?"
      ],
      "metadata": {
        "id": "3CIlt3CzkUEO"
      },
      "execution_count": null,
      "outputs": []
    },
    {
      "cell_type": "code",
      "source": [
        "# In Python, abstraction is a key idea in object-oriented programming (OOP) that\n",
        "# allows you to describe complicated systems by hiding unneeded details and exposing just essential aspects.\n",
        "# It aids in the management of programme complexity by breaking it down into smaller, more manageable\n",
        "# sections.\n",
        "\n",
        "# Classes and objects are used to accomplish abstraction. A class is a blueprint for constructing objects,\n",
        "# whereas an object is a class instance.\n",
        "# The class defines the properties (attributes) and behaviours (methods) of the class's objects.Abstraction allows\n",
        "# you to construct abstract classes and methods that give a high-level interface without providing the\n",
        "# implementation specifics."
      ],
      "metadata": {
        "id": "4KXAs7YQXtv_"
      },
      "execution_count": null,
      "outputs": []
    },
    {
      "cell_type": "code",
      "source": [
        "#38. Explain the importance of abstraction in object-oriented programming?"
      ],
      "metadata": {
        "id": "liqlg6IeX13U"
      },
      "execution_count": null,
      "outputs": []
    },
    {
      "cell_type": "code",
      "source": [
        "# Classes and objects are used to accomplish abstraction. A class is a blueprint for constructing objects,\n",
        "# whereas an object is a class instance.\n",
        "# The class defines the properties (attributes) and behaviours (methods) of the class's objects.Abstraction allows\n",
        "# you to construct abstract classes and methods that give a high-level interface without providing the\n",
        "# implementation specifics.\n",
        "# Abstract classes cannot be instantiated and must be subclassed. They may contain abstract methods that are\n",
        "# declared but not implemented in the abstract class itself. Subclasses are in charge of implementing these\n",
        "# abstract methods."
      ],
      "metadata": {
        "id": "mOaf_H2BY4sc"
      },
      "execution_count": null,
      "outputs": []
    },
    {
      "cell_type": "code",
      "source": [
        "#39. How are abstract methods different from regular methods in Python?"
      ],
      "metadata": {
        "id": "0a88DWuwZVqK"
      },
      "execution_count": null,
      "outputs": []
    },
    {
      "cell_type": "code",
      "source": [
        "# An abstract method is a method that has a declaration but does not have an implementation.\n",
        "#  While we are designing large functional units, we use an abstract class. An abstract class\n",
        "#   can be considered as a blueprint for other classes.\n",
        "\n",
        "# In Python Abstract class doesn’t have straight foreward implementation, We need to import\n",
        "# abc(abstract base class). ABC works by decorating the base class’s methods as abstract and\n",
        "# then registering concrete classes as implementations of the conceptual base."
      ],
      "metadata": {
        "id": "B1livGwSZlMa"
      },
      "execution_count": null,
      "outputs": []
    },
    {
      "cell_type": "code",
      "source": [
        "#40.How can you achieve abstraction using interfaces in Python?"
      ],
      "metadata": {
        "id": "qWIo1IXbanTW"
      },
      "execution_count": null,
      "outputs": []
    },
    {
      "cell_type": "code",
      "source": [
        "# Abstraction in Python is achieved using abstract classes or interfaces provided by the \"abc\" module.\n",
        "# Abstract classes define a common interface for their subclasses, while interfaces define a set of methods\n",
        "# that must be implemented by classes that implement the interface. The use of abstract classes and interfaces\n",
        "# allows you to create a high-level contract that all classes must adhere to.\n",
        "\n",
        "# In Python, there is no strict distinction between abstract classes and interfaces as seen in other programming\n",
        "# languages like Java. Instead, in Python, abstract base classes (ABCs) are used to define a common interface\n",
        "# that subclasses are expected to implement.\n",
        "\n"
      ],
      "metadata": {
        "id": "TcFSVbG-a3ir"
      },
      "execution_count": null,
      "outputs": []
    },
    {
      "cell_type": "code",
      "source": [
        "#41. Can you provide an example of hoe abstraction can be utilised to create a common interface for a group\n",
        "# of related classes in Python?"
      ],
      "metadata": {
        "id": "HPSUCJ0acJXN"
      },
      "execution_count": null,
      "outputs": []
    },
    {
      "cell_type": "code",
      "source": [
        "# Here's an example using ABCs to achieve abstraction:\n",
        "from abc import ABC, abstractmethod\n",
        "class Shape(ABC):\n",
        "    @abstractmethod\n",
        "    def area(self):\n",
        "        pass\n",
        "\n",
        "class Circle(Shape):\n",
        "    def __init__(self, radius):\n",
        "        self.radius = radius\n",
        "    def area(self):\n",
        "        return 3.14159 * self.radius ** 2\n",
        "class Rectangle(Shape):\n",
        "    def __init__(self, width, length):\n",
        "        self.width = width\n",
        "        self.length = length\n",
        "    def area(self):\n",
        "        return self.width * self.length\n",
        "circle = Circle(4)\n",
        "rectangle = Rectangle(5, 7)\n",
        "print(circle.area())\n",
        "print(rectangle.area())"
      ],
      "metadata": {
        "colab": {
          "base_uri": "https://localhost:8080/"
        },
        "id": "7m4yE8r8c3VJ",
        "outputId": "0d5f65e8-7beb-4306-c020-613dadfa5f23"
      },
      "execution_count": null,
      "outputs": [
        {
          "output_type": "stream",
          "name": "stdout",
          "text": [
            "50.26544\n",
            "35\n"
          ]
        }
      ]
    },
    {
      "cell_type": "code",
      "source": [
        "#42. How does Python achieve polymorphism through method overriding?"
      ],
      "metadata": {
        "id": "GkbQZqtrc40A"
      },
      "execution_count": null,
      "outputs": []
    },
    {
      "cell_type": "code",
      "source": [
        "# In Python, method overriding is the process of providing a different\n",
        "# implementation for a method that is already defined in the superclass within a subclass. It enables the\n",
        "# subclass to define its own version of a method with the same name and parameters as the method in the\n",
        "# superclass. When a method is overridden, the subclass implements the method in its own way, which\n",
        "# overrides the behaviour defined in the superclass. The subclass can then alter or expand the functionality of\n",
        "# the inherited method.\n",
        "\n",
        "# The name, parameters, and return type of the overridden method in the subclass must match those of the\n",
        "# method in the superclass. Method overriding occurs only when the subclass has a method with the same\n",
        "# name and signature as the superclass method.\n",
        "\n",
        "# When a subclass object is used to call the overridden method during runtime, the subclass implementation is\n",
        "# invoked rather than the superclass implementation. A crucial element of polymorphism is the dynamic\n",
        "# dispatch of methods based on the actual object type."
      ],
      "metadata": {
        "id": "LGTFTD9pdQPv"
      },
      "execution_count": null,
      "outputs": []
    },
    {
      "cell_type": "code",
      "source": [
        "#43.Define a base class with a method and a subclass that overrides the method."
      ],
      "metadata": {
        "id": "oopaX0b8d7kC"
      },
      "execution_count": null,
      "outputs": []
    },
    {
      "cell_type": "code",
      "source": [
        "class Animal:\n",
        "  def sound(self):\n",
        "    print(\"the animal are dangerous\")\n",
        "\n",
        "class Cat(Animal):\n",
        "  def sound(self):\n",
        "    print(\"I am cat\")\n",
        "\n",
        "animal = Animal()\n",
        "cat = Cat()\n",
        "\n",
        "animal.sound()\n",
        "cat.sound()"
      ],
      "metadata": {
        "colab": {
          "base_uri": "https://localhost:8080/"
        },
        "id": "kAJahT9Fearl",
        "outputId": "56f7c9b9-a76a-4522-b22b-7b3d29d909a8"
      },
      "execution_count": null,
      "outputs": [
        {
          "output_type": "stream",
          "name": "stdout",
          "text": [
            "the animal are dangerous\n",
            "I am cat\n"
          ]
        }
      ]
    },
    {
      "cell_type": "code",
      "source": [
        "#44. Define a base class and multiple subclass with overriden methods."
      ],
      "metadata": {
        "id": "ryOfQgqjfDcQ"
      },
      "execution_count": null,
      "outputs": []
    },
    {
      "cell_type": "code",
      "source": [
        "class Animal:\n",
        "  def sound(self):\n",
        "    print(\"the animal are dangerous\")\n",
        "\n",
        "class Cat(Animal):\n",
        "  def sound(self):\n",
        "    print(\"I am cat\")\n",
        "\n",
        "class Dog(Animal):\n",
        "  def sound(self):\n",
        "    print(\"I am a dog\")\n",
        "\n",
        "animal = Animal()\n",
        "cat = Cat()\n",
        "dog = Dog()\n",
        "\n",
        "animal.sound()\n",
        "cat.sound()\n",
        "dog.sound()"
      ],
      "metadata": {
        "colab": {
          "base_uri": "https://localhost:8080/"
        },
        "id": "iI4kWQhKfas6",
        "outputId": "e3995ed6-636c-421b-e339-6cb497544760"
      },
      "execution_count": null,
      "outputs": [
        {
          "output_type": "stream",
          "name": "stdout",
          "text": [
            "the animal are dangerous\n",
            "I am cat\n",
            "I am a dog\n"
          ]
        }
      ]
    },
    {
      "cell_type": "code",
      "source": [
        "#45. How does polymorphism improve code readability and reusability?"
      ],
      "metadata": {
        "id": "A1951YfPft_A"
      },
      "execution_count": null,
      "outputs": []
    },
    {
      "cell_type": "code",
      "source": [
        "# Code Reusability\n",
        "# Polymorphism is the master of recycling code. By allowing different classes to share the same method names,\n",
        "# it promotes code reusability and minimizes redundancy. It’s like the eco-friendly warrior of programming,\n",
        "# reducing waste and maximizing efficiency!\n",
        "\n",
        "# Code Readability\n",
        "# Polymorphism enhances code readability by allowing you to write concise and consistent code that avoids\n",
        "# repetition and complexity. By using inheritance and interfaces, you can define common behaviors and properties\n",
        "#  for a group of related classes or types, and then use polymorphism to access them through a single reference\n",
        "#  variable or method name."
      ],
      "metadata": {
        "id": "Wcqvk8rTgABX"
      },
      "execution_count": null,
      "outputs": []
    },
    {
      "cell_type": "code",
      "source": [
        "#46. Describe how the Python supports polymorphism with duck typing."
      ],
      "metadata": {
        "id": "Xo7zr9kwhLsD"
      },
      "execution_count": null,
      "outputs": []
    },
    {
      "cell_type": "code",
      "source": [
        "# Duck typing is a concept that says that the “type” of the object is a matter of concern only at runtime and\n",
        "# you don’t need to explicitly mention the type of the object before you perform any kind of operation on that\n",
        "# object, unlike normal typing where the suitability of an object is determined by its type.\n",
        "\n",
        "# In Python, we have the concept of Dynamic typing i.e. we can mention the type of variable/object later. The idea\n",
        "# is that you don’t need a type in order to invoke an existing method on an object if a method is defined on it,\n",
        "# you can invoke it.\n",
        "\n",
        "class GFGCoder:\n",
        "    def execute(self):\n",
        "        print(\"Aditya is working on the code...\")\n",
        "\n",
        "class Geeks:\n",
        "    def code(self, executor):\n",
        "        executor.execute()\n",
        "\n",
        "executor = GFGCoder()\n",
        "ide = Geeks()\n",
        "\n",
        "\n",
        "ide.code(executor)"
      ],
      "metadata": {
        "colab": {
          "base_uri": "https://localhost:8080/"
        },
        "id": "gBdUjyVah0Cx",
        "outputId": "8212b915-bf88-4933-c1ad-9249e5a08e6d"
      },
      "execution_count": null,
      "outputs": [
        {
          "output_type": "stream",
          "name": "stdout",
          "text": [
            "Aditya is working on the code...\n"
          ]
        }
      ]
    },
    {
      "cell_type": "code",
      "source": [
        "#47. How do you achieve encapsulation in Python?"
      ],
      "metadata": {
        "id": "0sAaU9WXjK8o"
      },
      "execution_count": null,
      "outputs": []
    },
    {
      "cell_type": "code",
      "source": [
        "# Encapsulation refers to the broad concealment of an object's internal representation from areas outside of its specification.\n",
        "\n",
        "# Assume, for instance, that you combine methods that provide read or write access with an attribute that is\n",
        "# hidden from view on the exterior of an object. Then, you may limit who has access to the object's internal\n",
        "# state and hide particular pieces of information. Without giving the program complete access to all of a\n",
        "# class's variables, encapsulation provides a mechanism for us to obtain the necessary variable. This method is\n",
        "# used to shield an object's data from other objects.\n",
        "\n",
        "# Access Modifier in python : A class's data members and methods can be made private or protected in\n",
        "# order to achieve encapsulation. Direct access modifiers like public, private, and protected don't exist in Python,\n",
        "# though. Single and double underscores can be used to accomplish this.\n",
        "\n",
        "# Modifiers for access control restrict use of a class's variables and methods. Private, public, and protected\n",
        "# are the three different access modifier types that Python offers.\n",
        "\n",
        "# Public Member : Both inside and outside of a class, public data members are accessible. By default, the\n",
        "# class's member variables are all public.\n",
        "# Public Member : from outside of class, anywhere accessible.\n",
        "# Protected Member : Within the class and its subclasses, accessible.\n",
        "# Private Member : Within the class, accessible."
      ],
      "metadata": {
        "id": "ZE7Nt5Hgjqmz"
      },
      "execution_count": null,
      "outputs": []
    },
    {
      "cell_type": "code",
      "source": [
        "#48. Can encapsulation be bypassed in Python? If so, how?"
      ],
      "metadata": {
        "id": "sc9AAMRGk3PG"
      },
      "execution_count": null,
      "outputs": []
    },
    {
      "cell_type": "code",
      "source": [
        "# Yes, encapsulation be bypassed in python.\n",
        "# Let's have a example:\n",
        "\n",
        "# Consider a real-life example of encapsulation, in a company, there are different sections\n",
        "# like the accounts section, finance section, sales section etc. The finance section handles\n",
        "# all the financial transactions and keeps records of all the data related to finance.\n",
        "# Similarly, the sales section handles all the sales-related activities and keeps records\n",
        "# of all the sales. Now there may arise a situation when due to some reason an official\n",
        "# from the finance section needs all the data about sales in a particular month. In this\n",
        "# case, he is not allowed to directly access the data of the sales section. He will first\n",
        "# have to contact some other officer in the sales section and then request him to give the\n",
        "# particular data. This is what encapsulation is. Here the data of the sales section and the\n",
        "# employees that can manipulate them are wrapped under a single name “sales section”. Using\n",
        "# encapsulation also hides the data. In this example, the data of the sections like sales,\n",
        "# finance, or accounts are hidden from any other section.\n"
      ],
      "metadata": {
        "id": "ZyGA8NA0lHtr"
      },
      "execution_count": null,
      "outputs": []
    },
    {
      "cell_type": "code",
      "source": [
        "#49. Implement a class BankAccount with a private balance attribute. Include method to deposit, withdraw\n",
        "#and check the balance."
      ],
      "metadata": {
        "id": "kT65VPMDmeV9"
      },
      "execution_count": null,
      "outputs": []
    },
    {
      "cell_type": "code",
      "source": [
        "class BankAccount:\n",
        "\n",
        "    def __init__(self, balance):\n",
        "        self.__balance = balance\n",
        "\n",
        "    def deposit(self, amount):\n",
        "        self.__balance = self.__balance + amount\n",
        "\n",
        "    def withdraw(self, amount):\n",
        "        if self.__balance >= amount:\n",
        "            self.__balance = self.__balance - amount\n",
        "            return True\n",
        "        else:\n",
        "            return False\n",
        "\n",
        "    def get_balance(self):\n",
        "        return self.__balance"
      ],
      "metadata": {
        "id": "2fp4PfI8nTy3"
      },
      "execution_count": null,
      "outputs": []
    },
    {
      "cell_type": "code",
      "source": [
        "acc= BankAccount(200000)"
      ],
      "metadata": {
        "id": "yZQTyrSFnb4Q"
      },
      "execution_count": null,
      "outputs": []
    },
    {
      "cell_type": "code",
      "source": [
        "acc.get_balance()"
      ],
      "metadata": {
        "colab": {
          "base_uri": "https://localhost:8080/"
        },
        "id": "jW4Bi7Lxnh3L",
        "outputId": "4c65bb75-d49e-4bd6-e52e-be916a451801"
      },
      "execution_count": null,
      "outputs": [
        {
          "output_type": "execute_result",
          "data": {
            "text/plain": [
              "200000"
            ]
          },
          "metadata": {},
          "execution_count": 30
        }
      ]
    },
    {
      "cell_type": "code",
      "source": [
        "acc.deposit(3000)"
      ],
      "metadata": {
        "id": "beHEYnJhnk7a"
      },
      "execution_count": null,
      "outputs": []
    },
    {
      "cell_type": "code",
      "source": [
        "acc.get_balance()"
      ],
      "metadata": {
        "colab": {
          "base_uri": "https://localhost:8080/"
        },
        "id": "pKeZx0K6npMG",
        "outputId": "f540fc43-3fbe-4a13-f2e7-70358848d472"
      },
      "execution_count": null,
      "outputs": [
        {
          "output_type": "execute_result",
          "data": {
            "text/plain": [
              "203000"
            ]
          },
          "metadata": {},
          "execution_count": 32
        }
      ]
    },
    {
      "cell_type": "code",
      "source": [
        "acc.withdraw(2000)"
      ],
      "metadata": {
        "colab": {
          "base_uri": "https://localhost:8080/"
        },
        "id": "IB3-aKNhnrtl",
        "outputId": "bbfde7dd-f840-4840-8b41-2466aa7dd617"
      },
      "execution_count": null,
      "outputs": [
        {
          "output_type": "execute_result",
          "data": {
            "text/plain": [
              "True"
            ]
          },
          "metadata": {},
          "execution_count": 33
        }
      ]
    },
    {
      "cell_type": "code",
      "source": [
        "acc.get_balance()"
      ],
      "metadata": {
        "colab": {
          "base_uri": "https://localhost:8080/"
        },
        "id": "hLQ13sNcnvQi",
        "outputId": "bd05064f-a96c-466d-ccf4-1f6b816262cf"
      },
      "execution_count": null,
      "outputs": [
        {
          "output_type": "execute_result",
          "data": {
            "text/plain": [
              "201000"
            ]
          },
          "metadata": {},
          "execution_count": 34
        }
      ]
    },
    {
      "cell_type": "code",
      "source": [
        "#50. Develop a Person class with private attribute name and email, and methods to set and get the email."
      ],
      "metadata": {
        "id": "gWSzxwWInyLt"
      },
      "execution_count": null,
      "outputs": []
    },
    {
      "cell_type": "code",
      "source": [
        "class Person:\n",
        "  def __init__(self,name,email):\n",
        "    self.name = name\n",
        "    self.email = email\n",
        "\n",
        "  def get_email(self):\n",
        "    return self.email\n",
        "\n",
        "aditya = Person(\"Aditya raj\", \"aditya@6789@gmail.com\")\n",
        "\n",
        "print(\"the name is :\", aditya.name)\n",
        "print(\"the email is :\", aditya.email)"
      ],
      "metadata": {
        "colab": {
          "base_uri": "https://localhost:8080/"
        },
        "id": "yFheF8v-ocPP",
        "outputId": "ac5f7079-5bec-42ea-be6a-96783e069c89"
      },
      "execution_count": null,
      "outputs": [
        {
          "output_type": "stream",
          "name": "stdout",
          "text": [
            "the name is : Aditya raj\n",
            "the email is : aditya@6789@gmail.com\n"
          ]
        }
      ]
    },
    {
      "cell_type": "code",
      "source": [
        "#51. Why is encapsulation considered a pillar of object-oriented programming(OOP)?"
      ],
      "metadata": {
        "id": "RSf7xd2JqAZn"
      },
      "execution_count": null,
      "outputs": []
    },
    {
      "cell_type": "code",
      "source": [
        "# Encapsulation can have many benefits, but we will focus on the top three: information hiding, reusability, and improved maintenance and clarity.\n",
        "\n",
        "# Hides information\n",
        "# By using access modifiers, you can hide objects from a user's view. This removes a user's ability to access and change the code in any way.\n",
        "\n",
        "# Easy to reuse\n",
        "# Encapsulation reusability stems from its ability to quickly create many objects by defining only one class.\n",
        "\n",
        "# Improves maintenance and clarity\n",
        "# Debugging and maintaining a code is simple, with all data compartmentalised through encapsulation. This is because all the data that needs maintenance is in one class and does not affect other classes.\n",
        "\n",
        "# Hiding information using encapsulation\n",
        "# Public: If a class is declared public, any other class can access it without restriction.\n",
        "\n",
        "# Protected: Under the protected modifier, a class can be accessed from within itself and from inherited classes. Uninherited classes can still not access the class if it is declared protected.\n",
        "\n",
        "# Private: Classes declared private are only accessible through member methods within that particular class.\n",
        "\n",
        "# Default/no modifier: If a class does not have an access modifier assigned to it, it is given the default access modifier. This means that any class within the same package can access the member.\n",
        "\n",
        "#  That's why it is considered as pillar of object-oriented programming(OOP)."
      ],
      "metadata": {
        "id": "o2gvFhbhqmSt"
      },
      "execution_count": null,
      "outputs": []
    },
    {
      "cell_type": "code",
      "source": [
        "#52. Create a decorator in python that adds functionality to a simple function by printing a message before\n",
        "#and after the function execution."
      ],
      "metadata": {
        "id": "iaRoaWqxuMqU"
      },
      "execution_count": null,
      "outputs": []
    },
    {
      "cell_type": "code",
      "source": [
        "def func():\n",
        "  print(\"This is a simple message\")"
      ],
      "metadata": {
        "id": "xUOGmBQpvpnf"
      },
      "execution_count": null,
      "outputs": []
    },
    {
      "cell_type": "code",
      "source": [
        "def my_decorator(func):\n",
        "  def wrapper():\n",
        "    print(\"something is printing before the function\")\n",
        "    func()\n",
        "    print(\"something is printing after the function\")\n",
        "\n",
        "  return wrapper\n",
        "\n",
        "decorated_function = my_decorator(func)\n",
        "decorated_function()"
      ],
      "metadata": {
        "colab": {
          "base_uri": "https://localhost:8080/"
        },
        "id": "0a6lc3kXv0Ra",
        "outputId": "6efa33a0-5166-47dd-b83c-e03a44a0b269"
      },
      "execution_count": null,
      "outputs": [
        {
          "output_type": "stream",
          "name": "stdout",
          "text": [
            "something is printing before the function\n",
            "This is a simple message\n",
            "something is printing after the function\n"
          ]
        }
      ]
    },
    {
      "cell_type": "code",
      "source": [
        "#53. Modify the decorator to accept arguments and print the function name along with the message."
      ],
      "metadata": {
        "id": "a6p2b-8Av_Ei"
      },
      "execution_count": null,
      "outputs": []
    },
    {
      "cell_type": "code",
      "source": [
        "class MyDecorator:\n",
        "    def __init__(self, func):\n",
        "        self.func = func\n",
        "    def __call__(self):\n",
        "        print(\"something is happening before func\")\n",
        "        self.func()\n",
        "        print(\"something is happening after func\")"
      ],
      "metadata": {
        "id": "B3gv9nlsx5eC"
      },
      "execution_count": null,
      "outputs": []
    },
    {
      "cell_type": "code",
      "source": [
        "@MyDecorator\n",
        "def say_hello():\n",
        "  print(\"myself aditya\")"
      ],
      "metadata": {
        "id": "uxTSvwC5x6lu"
      },
      "execution_count": null,
      "outputs": []
    },
    {
      "cell_type": "code",
      "source": [
        "say_hello()"
      ],
      "metadata": {
        "colab": {
          "base_uri": "https://localhost:8080/"
        },
        "id": "31dHeyZpyJ1l",
        "outputId": "629589e2-5ddf-40e4-fb4f-b4a121d0fbc9"
      },
      "execution_count": null,
      "outputs": [
        {
          "output_type": "stream",
          "name": "stdout",
          "text": [
            "something is happening before func\n",
            "myself aditya\n",
            "something is happening after func\n"
          ]
        }
      ]
    },
    {
      "cell_type": "code",
      "source": [
        "#54. Create two decorator, and apply them to a single function. Ensure that they execute in the order they are applied."
      ],
      "metadata": {
        "id": "aS1r4ZsyyMef"
      },
      "execution_count": null,
      "outputs": []
    },
    {
      "cell_type": "code",
      "source": [
        "def decor1(func):\n",
        "    def inner():\n",
        "        x = func()\n",
        "        return x * x\n",
        "    return inner\n",
        "\n",
        "def decor(func):\n",
        "    def inner():\n",
        "        x = func()\n",
        "        return 2 * x\n",
        "    return inner\n",
        "\n",
        "@decor1\n",
        "@decor\n",
        "def num():\n",
        "    return 10\n",
        "\n",
        "print(num())"
      ],
      "metadata": {
        "colab": {
          "base_uri": "https://localhost:8080/"
        },
        "id": "LkbZxacVzREx",
        "outputId": "0f7a910f-9a12-489f-d51e-6e3cffb64d56"
      },
      "execution_count": null,
      "outputs": [
        {
          "output_type": "stream",
          "name": "stdout",
          "text": [
            "400\n"
          ]
        }
      ]
    },
    {
      "cell_type": "code",
      "source": [
        "#55. Modify the decorator to accept and pass function arguments to the wrapped function."
      ],
      "metadata": {
        "id": "Q8srZT78zR6t"
      },
      "execution_count": null,
      "outputs": []
    },
    {
      "cell_type": "code",
      "source": [
        "def decorator_fun(func):\n",
        "  print(\"Inside decorator\")\n",
        "\n",
        "  def inner(*args, **kwargs):\n",
        "    print(\"Inside inner function\")\n",
        "    print(\"Decorated the function\")\n",
        "\n",
        "    func()\n",
        "\n",
        "  return inner\n",
        "\n",
        "\n",
        "def func_to():\n",
        "    print(\"Inside actual function\")\n",
        "\n",
        "\n",
        "decorator_fun(func_to)()"
      ],
      "metadata": {
        "id": "MmpV2NQVzsdB",
        "colab": {
          "base_uri": "https://localhost:8080/"
        },
        "outputId": "c142d5b2-f175-4f4b-ba29-a265253dfb83"
      },
      "execution_count": null,
      "outputs": [
        {
          "output_type": "stream",
          "name": "stdout",
          "text": [
            "Inside decorator\n",
            "Inside inner function\n",
            "Decorated the function\n",
            "Inside actual function\n"
          ]
        }
      ]
    },
    {
      "cell_type": "code",
      "source": [
        "#56. Create a decorator that preserves the metadata of the original function."
      ],
      "metadata": {
        "id": "wcKLvv19dptr"
      },
      "execution_count": null,
      "outputs": []
    },
    {
      "cell_type": "code",
      "source": [
        "import time\n",
        "from functools import wraps\n",
        "\n",
        "\n",
        "def timethis(func):\n",
        "    '''Decorator that reports the execution time.'''\n",
        "\n",
        "    @wraps(func)\n",
        "    def wrapper(*args, **kwargs):\n",
        "        start = time.time()\n",
        "        result = func(*args, **kwargs)\n",
        "        end = time.time()\n",
        "\n",
        "        print(func.__name__, end-start)\n",
        "        return result\n",
        "\n",
        "    return wrapper\n",
        "\n",
        "@timethis\n",
        "def countdown(n:int):\n",
        "    '''Counts down'''\n",
        "    while n > 0:\n",
        "        n -= 1\n",
        "\n",
        "countdown(100000)\n",
        "print(countdown.__name__)\n",
        "print(countdown.__doc__)\n",
        "print(countdown.__annotations__)"
      ],
      "metadata": {
        "colab": {
          "base_uri": "https://localhost:8080/"
        },
        "id": "Jiz-g4woe2Ay",
        "outputId": "833a2a25-831c-491b-f310-d55e02c712df"
      },
      "execution_count": null,
      "outputs": [
        {
          "output_type": "stream",
          "name": "stdout",
          "text": [
            "countdown 0.008630514144897461\n",
            "countdown\n",
            "Counts down\n",
            "{'n': <class 'int'>}\n"
          ]
        }
      ]
    },
    {
      "cell_type": "code",
      "source": [
        "#57. Create a python class 'Calculator' with a static method 'add' that takes in two numbers and return their sum."
      ],
      "metadata": {
        "id": "X6swH1cefouB"
      },
      "execution_count": null,
      "outputs": []
    },
    {
      "cell_type": "code",
      "source": [
        "class Calculator:\n",
        "\n",
        "    @staticmethod\n",
        "    def add(x, y):\n",
        "        return x+y"
      ],
      "metadata": {
        "id": "sroq1ub5hK6w"
      },
      "execution_count": null,
      "outputs": []
    },
    {
      "cell_type": "code",
      "source": [
        "Calculator.add(77,88)"
      ],
      "metadata": {
        "colab": {
          "base_uri": "https://localhost:8080/"
        },
        "id": "hVHWuuNyhL3J",
        "outputId": "581f657f-3ede-4824-ef2d-28db5aca5985"
      },
      "execution_count": null,
      "outputs": [
        {
          "output_type": "execute_result",
          "data": {
            "text/plain": [
              "165"
            ]
          },
          "metadata": {},
          "execution_count": 8
        }
      ]
    },
    {
      "cell_type": "code",
      "source": [
        "#58.Create a Python class 'Empolyee' with a class method 'get_empolyee_count' that returns the total\n",
        "#number of empolyees created."
      ],
      "metadata": {
        "id": "f0cAdyQehSkj"
      },
      "execution_count": null,
      "outputs": []
    },
    {
      "cell_type": "code",
      "source": [
        "class Empolyee:\n",
        "\n",
        "    total_empolyee = 80\n",
        "    def __init__(self, name):\n",
        "        self.name = name\n",
        "        Empolyee.total_empolyee = Empolyee.total_empolyee + 1\n",
        "\n",
        "    @classmethod\n",
        "    def get_empolyee_count(cls):\n",
        "        return cls.total_empolyee"
      ],
      "metadata": {
        "id": "pULXul31iITf"
      },
      "execution_count": null,
      "outputs": []
    },
    {
      "cell_type": "code",
      "source": [
        "Empolyee.get_empolyee_count()"
      ],
      "metadata": {
        "colab": {
          "base_uri": "https://localhost:8080/"
        },
        "id": "zvOxpt4vip3l",
        "outputId": "f19dcbe6-1bf3-491d-baaf-1be34b8c134e"
      },
      "execution_count": null,
      "outputs": [
        {
          "output_type": "execute_result",
          "data": {
            "text/plain": [
              "80"
            ]
          },
          "metadata": {},
          "execution_count": 13
        }
      ]
    },
    {
      "cell_type": "code",
      "source": [
        "#59.Create a Python class 'StringFormatter' with a static method 'reverse_string' that takes a string as input\n",
        "# and returns its reverse."
      ],
      "metadata": {
        "id": "58TKwX5FiwaO"
      },
      "execution_count": null,
      "outputs": []
    },
    {
      "cell_type": "code",
      "source": [
        "class StringFormatter:\n",
        "\n",
        " @staticmethod\n",
        " def my_function(x):\n",
        "  return x[::-1]\n",
        "\n",
        "mytxt = my_function(\"I wonder how this text look like backwards\")\n",
        "\n",
        "print(mytxt)\n",
        "\n"
      ],
      "metadata": {
        "colab": {
          "base_uri": "https://localhost:8080/"
        },
        "id": "tVd1RYxdkmhr",
        "outputId": "fd653b26-bc2d-4089-c736-f22e8614f28c"
      },
      "execution_count": null,
      "outputs": [
        {
          "output_type": "stream",
          "name": "stdout",
          "text": [
            "sdrawkcab ekil kool txet siht woh rednow I\n"
          ]
        }
      ]
    },
    {
      "cell_type": "code",
      "source": [
        "#60.Create a Python class 'Circle' with a class method 'calculate_area' that calculates  the area of a circle\n",
        "# given its radius."
      ],
      "metadata": {
        "id": "Uanlh68dlNH1"
      },
      "execution_count": null,
      "outputs": []
    },
    {
      "cell_type": "code",
      "source": [
        "class Circle:\n",
        "    def __init__(self,radius):\n",
        "      self.radius = radius\n",
        "\n",
        "    def calculate_area(self):\n",
        "      return(3.142 * self.radius * self.radius)\n",
        "\n",
        "c1 = Circle(7)\n",
        "print(\"area of c1 circle is:\",c1.calculate_area())\n"
      ],
      "metadata": {
        "colab": {
          "base_uri": "https://localhost:8080/"
        },
        "id": "d_hWNVmqoz0_",
        "outputId": "3f00ada7-9130-4369-bdc3-eb3f62e762f9"
      },
      "execution_count": null,
      "outputs": [
        {
          "output_type": "stream",
          "name": "stdout",
          "text": [
            "area of c1 circle is: 153.958\n"
          ]
        }
      ]
    },
    {
      "cell_type": "code",
      "source": [
        "#61.Create a Python class 'TemperatureConverter' with a static method 'celcius_to_farenheit' that converts\n",
        "# Celcius to Farenheit."
      ],
      "metadata": {
        "id": "1Mdh_p8_lZOT"
      },
      "execution_count": null,
      "outputs": []
    },
    {
      "cell_type": "code",
      "source": [
        "class TemperatureConverter:\n",
        "  def __init__(self,celcius):\n",
        "    self.celcius = celcius\n",
        "\n",
        "  def celcius_to_farenheit(self):\n",
        "    return(self.celcius * 1.8 + 32)\n",
        "\n",
        "cel = TemperatureConverter(35)\n",
        "print(\"celcius to farenheit:\", cel.celcius_to_farenheit())"
      ],
      "metadata": {
        "colab": {
          "base_uri": "https://localhost:8080/"
        },
        "id": "NFBT0eTyqCjG",
        "outputId": "2cc8c779-dc45-43ac-d9b9-bfadd465dca8"
      },
      "execution_count": null,
      "outputs": [
        {
          "output_type": "stream",
          "name": "stdout",
          "text": [
            "celcius to farenheit: 95.0\n"
          ]
        }
      ]
    },
    {
      "cell_type": "code",
      "source": [
        "#62. What is the purpose of the __str__() method in Python class? provide an example."
      ],
      "metadata": {
        "id": "4h4TUntBuWkn"
      },
      "execution_count": null,
      "outputs": []
    },
    {
      "cell_type": "code",
      "source": [
        "#In Python that will be the return value by the str() function when passing an instance of your class as the first argument. For example:\n",
        "\n",
        "class Class:\n",
        "    def __str__(self):\n",
        "        return \"You've converted Class to string.\"\n",
        "\n",
        "c = Class()\n",
        "print (str(c))"
      ],
      "metadata": {
        "colab": {
          "base_uri": "https://localhost:8080/"
        },
        "id": "NdzMJfeKvZyL",
        "outputId": "bc8dd5fd-942e-4587-9141-c93dff91f0f0"
      },
      "execution_count": null,
      "outputs": [
        {
          "output_type": "stream",
          "name": "stdout",
          "text": [
            "You've converted Class to string.\n"
          ]
        }
      ]
    },
    {
      "cell_type": "code",
      "source": [
        "#63. How does the __len__() method works in Python? Provide an example."
      ],
      "metadata": {
        "id": "hIWE1l3FvdSq"
      },
      "execution_count": null,
      "outputs": []
    },
    {
      "cell_type": "code",
      "source": [
        "#The `__len__` function returns an integer that represents the number of elements in the object. It is commonly used with collection objects like lists, tuples, sets, and dictionaries.\n",
        "class MyClass:\n",
        "    def __init__(self, my_list):\n",
        "        self.my_list = my_list\n",
        "\n",
        "    def __len__(self):\n",
        "        return len(self.my_list)\n",
        "\n",
        "my_class = MyClass([1, 2, 3, 4, 5])\n",
        "print(len(my_class))"
      ],
      "metadata": {
        "colab": {
          "base_uri": "https://localhost:8080/"
        },
        "id": "E6QUoRo6wC7H",
        "outputId": "f80ddfbe-7359-4404-e31c-aa1a74f7c300"
      },
      "execution_count": null,
      "outputs": [
        {
          "output_type": "stream",
          "name": "stdout",
          "text": [
            "5\n"
          ]
        }
      ]
    },
    {
      "cell_type": "code",
      "source": [
        "#64. Explain the usage of the __add__() method in Python classes. Provide an example."
      ],
      "metadata": {
        "id": "IpbMHuXCwZET"
      },
      "execution_count": null,
      "outputs": []
    },
    {
      "cell_type": "code",
      "source": [
        "# Python __add__() method adds two objects and returns a new object as a resultant object in Python.\n",
        "#  The below example returns a new object:\n",
        "\n",
        "class GFG:\n",
        "\n",
        "    def __init__(self, val):\n",
        "        self.val = val\n",
        "\n",
        "    def __add__(self, val2):\n",
        "        return GFG(self.val + val2.val)\n",
        "\n",
        "obj1 = GFG(\"myself \")\n",
        "obj2 = GFG(\"aditya raj\")\n",
        "obj3 = obj1 + obj2\n",
        "print(obj3.val)"
      ],
      "metadata": {
        "colab": {
          "base_uri": "https://localhost:8080/"
        },
        "id": "AzJv3JP-wud_",
        "outputId": "e4f7da6a-df25-4d23-899d-4a6e7e0943e9"
      },
      "execution_count": null,
      "outputs": [
        {
          "output_type": "stream",
          "name": "stdout",
          "text": [
            "myself aditya raj\n"
          ]
        }
      ]
    },
    {
      "cell_type": "code",
      "source": [
        "#65.What is the purpose of the __getitem__() method in Python ? provide an example."
      ],
      "metadata": {
        "id": "R6pmcsC4xPch"
      },
      "execution_count": null,
      "outputs": []
    },
    {
      "cell_type": "code",
      "source": [
        "# __getitem__() is a magic method in Python, which when used in a class, allows its instances to use the [] (indexer) operators. Say x is an instance of this class, then x[i] is roughly equivalent to type(x).__getitem__(x, i).\n",
        "\n",
        "# The method __getitem__(self, key) defines behavior for when an item is accessed, using the notation self[key]. This is also part of both the mutable and immutable container protocols.\n",
        "\n",
        "class Test(object):\n",
        "\n",
        "    def __getitem__(self, items):\n",
        "        print (type(items), items)\n",
        "\n",
        "test = Test()\n",
        "test[5]\n",
        "test[5:65:5]\n",
        "test['aditya raj']\n",
        "test[1, 'x', 10.0]\n",
        "test['a':'z':2]\n",
        "test[object()]"
      ],
      "metadata": {
        "colab": {
          "base_uri": "https://localhost:8080/"
        },
        "id": "xWIKc_GvxjFA",
        "outputId": "fb9b258a-e8e9-44ee-f979-9868c1343339"
      },
      "execution_count": null,
      "outputs": [
        {
          "output_type": "stream",
          "name": "stdout",
          "text": [
            "<class 'int'> 5\n",
            "<class 'slice'> slice(5, 65, 5)\n",
            "<class 'str'> aditya raj\n",
            "<class 'tuple'> (1, 'x', 10.0)\n",
            "<class 'slice'> slice('a', 'z', 2)\n",
            "<class 'object'> <object object at 0x79802d97caa0>\n"
          ]
        }
      ]
    },
    {
      "cell_type": "code",
      "source": [
        "#66. Explain the usage of the __iter__() and __next__() method in Python. Provide an example using iterators."
      ],
      "metadata": {
        "id": "Qwy7GP6EyIUy"
      },
      "execution_count": null,
      "outputs": []
    },
    {
      "cell_type": "code",
      "source": [
        "# The __iter__() function in Python returns an iterator for the given object (array, set, tuple, etc., or custom objects).\n",
        "# It creates an object that can be accessed one element at a time using __next__() in Python, which generally comes in handy\n",
        "# when dealing with loops\n",
        "listA = ['a','e','i','o','u']\n",
        "\n",
        "iter_listA = iter(listA)\n",
        "\n",
        "try:\n",
        "    print( next(iter_listA))\n",
        "    print( next(iter_listA))\n",
        "    print( next(iter_listA))\n",
        "    print( next(iter_listA))\n",
        "    print( next(iter_listA))\n",
        "    print( next(iter_listA))\n",
        "except:\n",
        "    pass"
      ],
      "metadata": {
        "colab": {
          "base_uri": "https://localhost:8080/"
        },
        "id": "KtCVCZjiy1ob",
        "outputId": "083ce896-834c-4bd2-ac4a-ade6aa06f1ee"
      },
      "execution_count": null,
      "outputs": [
        {
          "output_type": "stream",
          "name": "stdout",
          "text": [
            "a\n",
            "e\n",
            "i\n",
            "o\n",
            "u\n"
          ]
        }
      ]
    },
    {
      "cell_type": "code",
      "source": [
        "# Python __next__() is responsible for returning the next element of the iteration.\n",
        "# If there are no more elements then it raises the StopIteration exception. It is\n",
        "# part of the iterable and iterator interface, which allows us to create custom iterable\n",
        "# objects, such as generators, and control how elements are retrieved one at a\n",
        "# time from those iterables.\n",
        "\n",
        "lst = [11, 22, 33, 44, 55]\n",
        "\n",
        "iter_lst = iter(lst)\n",
        "while True:\n",
        "    try:\n",
        "        print(iter_lst.__next__())\n",
        "    except:\n",
        "        break"
      ],
      "metadata": {
        "colab": {
          "base_uri": "https://localhost:8080/"
        },
        "id": "MqUMfaZpzDYS",
        "outputId": "78075799-d88c-46a9-ab58-31850ece4f8b"
      },
      "execution_count": null,
      "outputs": [
        {
          "output_type": "stream",
          "name": "stdout",
          "text": [
            "11\n",
            "22\n",
            "33\n",
            "44\n",
            "55\n"
          ]
        }
      ]
    },
    {
      "cell_type": "code",
      "source": [
        "#67. What is the purpose of a getter method in Python? Provide an example demonstrating the use of a getter\n",
        "# method using property decorators."
      ],
      "metadata": {
        "id": "jXsRLaEuzRlT"
      },
      "execution_count": 1,
      "outputs": []
    },
    {
      "cell_type": "code",
      "source": [
        "# Imagine you have a class representing a circle, and you want to calculate its area based on its radius. But you\n",
        "# don't want users to directly access the radius attribute( instead, you want them to call a method that computes\n",
        "# and returns the area. Here's how you can achieve that using @property:\n",
        "\n",
        "class Circle:\n",
        "  def __init__(self, radius):\n",
        "    self._radius = radius\n",
        "  @property\n",
        "  def radius(self):\n",
        "    return self._radius\n",
        "  def area(self):\n",
        "    return 3.14 * self._radius * self._radius\n",
        "# Usage\n",
        "circle = Circle(5)\n",
        "print(circle.radius) # Access radius via getter\n",
        "print(circle.area()) # Calculate area\n",
        "\n",
        "# In this example, @property decorator allows you to define a method (radius) that behaves like an attribute. So\n",
        "# when you access circle.radius, it internally calls the radius method and returns the value."
      ],
      "metadata": {
        "colab": {
          "base_uri": "https://localhost:8080/",
          "height": 0
        },
        "id": "Whca_h78xB8Q",
        "outputId": "cea367e2-674b-46b1-8423-8489df2a5f93"
      },
      "execution_count": 2,
      "outputs": [
        {
          "output_type": "stream",
          "name": "stdout",
          "text": [
            "5\n",
            "78.5\n"
          ]
        }
      ]
    },
    {
      "cell_type": "code",
      "source": [
        "#68. Explain the role of setter methods in Pyhton. demonstrate how to use a setter method to modify a class\n",
        "# attribute using property decorators."
      ],
      "metadata": {
        "id": "YJ50M0fcxkfD"
      },
      "execution_count": 3,
      "outputs": []
    },
    {
      "cell_type": "code",
      "source": [
        "# Now, suppose you also want to allow users to change the radius but with some validation, ensuring the radius is\n",
        "# always positive. You can use the @<property_name>.setter decorator for that:\n",
        "\n",
        "class Circle:\n",
        " def __init__(self, radius):\n",
        "  self._radius = radius\n",
        " @property\n",
        " def radius(self):\n",
        "  return self._radius\n",
        " @radius.setter\n",
        " def radius(self, value):\n",
        "   if value <= 0:\n",
        "     raise ValueError(\"Radius must be positive.\")\n",
        "   self._radius = value\n",
        "# Usage\n",
        "circle = Circle(5)\n",
        "circle.radius = 7 # Change radius\n",
        "print(circle.radius) # Output: 7\n",
        "\n",
        "# Here, @radius.setter decorator allows you to define a method (radius) that will be called when you try to assign\n",
        "# a value to circle.radius. It ensures that the new value meets certain criteria (in this case, it must be positive)."
      ],
      "metadata": {
        "colab": {
          "base_uri": "https://localhost:8080/"
        },
        "id": "54aAhmxeyfnT",
        "outputId": "f4415163-4501-4968-e734-6478ca16d5b6"
      },
      "execution_count": 4,
      "outputs": [
        {
          "output_type": "stream",
          "name": "stdout",
          "text": [
            "7\n"
          ]
        }
      ]
    },
    {
      "cell_type": "code",
      "source": [
        "#69. What is the purpose of the @property decorators in Python? Provide an example illustrating its usage."
      ],
      "metadata": {
        "id": "PYtduLY8zQy7"
      },
      "execution_count": 5,
      "outputs": []
    },
    {
      "cell_type": "code",
      "source": [
        "\"\"\"\n",
        "@property decorator is a built-in decorator in Python which is helpful in defining the properties effortlessly without\n",
        " manually calling the inbuilt function property(). Which is used to return the property attributes of a class from the\n",
        "  stated getter, setter and deleter as parameters.\n",
        "\"\"\"\n",
        "class Celsius:\n",
        "\n",
        "\tdef __init__(self, temp = 0):\n",
        "\t\tself._temperature = temp\n",
        "\n",
        "\t@property\n",
        "\n",
        "\tdef temp(self):\n",
        "\n",
        "\t\tprint(\"The value of the temperature is: \")\n",
        "\t\treturn self._temperature\n",
        "\n",
        "\t@temp.setter\n",
        "\tdef temp(self, val):\n",
        "\n",
        "\t\tif val < -273:\n",
        "\t\t\traise ValueError(\"It is a value error.\")\n",
        "\n",
        "\t\tprint(\"The value of the temperature is set.\")\n",
        "\t\tself._temperature = val\n",
        "\n",
        "cel = Celsius();\n",
        "\n",
        "cel.temp = -270\n",
        "\n",
        "print(cel.temp)\n",
        "cel.temp = -300\n",
        "print(cel.temp)\n"
      ],
      "metadata": {
        "colab": {
          "base_uri": "https://localhost:8080/",
          "height": 367
        },
        "id": "HzS5wHMWzziP",
        "outputId": "60a95595-9644-4bc1-b821-dd4b5ad55908"
      },
      "execution_count": 6,
      "outputs": [
        {
          "output_type": "stream",
          "name": "stdout",
          "text": [
            "The value of the temperature is set.\n",
            "The value of the temperature is: \n",
            "-270\n"
          ]
        },
        {
          "output_type": "error",
          "ename": "ValueError",
          "evalue": "It is a value error.",
          "traceback": [
            "\u001b[0;31m---------------------------------------------------------------------------\u001b[0m",
            "\u001b[0;31mValueError\u001b[0m                                Traceback (most recent call last)",
            "\u001b[0;32m<ipython-input-6-86cce5c1a75f>\u001b[0m in \u001b[0;36m<cell line: 32>\u001b[0;34m()\u001b[0m\n\u001b[1;32m     30\u001b[0m \u001b[0;34m\u001b[0m\u001b[0m\n\u001b[1;32m     31\u001b[0m \u001b[0mprint\u001b[0m\u001b[0;34m(\u001b[0m\u001b[0mcel\u001b[0m\u001b[0;34m.\u001b[0m\u001b[0mtemp\u001b[0m\u001b[0;34m)\u001b[0m\u001b[0;34m\u001b[0m\u001b[0;34m\u001b[0m\u001b[0m\n\u001b[0;32m---> 32\u001b[0;31m \u001b[0mcel\u001b[0m\u001b[0;34m.\u001b[0m\u001b[0mtemp\u001b[0m \u001b[0;34m=\u001b[0m \u001b[0;34m-\u001b[0m\u001b[0;36m300\u001b[0m\u001b[0;34m\u001b[0m\u001b[0;34m\u001b[0m\u001b[0m\n\u001b[0m\u001b[1;32m     33\u001b[0m \u001b[0mprint\u001b[0m\u001b[0;34m(\u001b[0m\u001b[0mcel\u001b[0m\u001b[0;34m.\u001b[0m\u001b[0mtemp\u001b[0m\u001b[0;34m)\u001b[0m\u001b[0;34m\u001b[0m\u001b[0;34m\u001b[0m\u001b[0m\n",
            "\u001b[0;32m<ipython-input-6-86cce5c1a75f>\u001b[0m in \u001b[0;36mtemp\u001b[0;34m(self, val)\u001b[0m\n\u001b[1;32m     20\u001b[0m \u001b[0;34m\u001b[0m\u001b[0m\n\u001b[1;32m     21\u001b[0m                 \u001b[0;32mif\u001b[0m \u001b[0mval\u001b[0m \u001b[0;34m<\u001b[0m \u001b[0;34m-\u001b[0m\u001b[0;36m273\u001b[0m\u001b[0;34m:\u001b[0m\u001b[0;34m\u001b[0m\u001b[0;34m\u001b[0m\u001b[0m\n\u001b[0;32m---> 22\u001b[0;31m                         \u001b[0;32mraise\u001b[0m \u001b[0mValueError\u001b[0m\u001b[0;34m(\u001b[0m\u001b[0;34m\"It is a value error.\"\u001b[0m\u001b[0;34m)\u001b[0m\u001b[0;34m\u001b[0m\u001b[0;34m\u001b[0m\u001b[0m\n\u001b[0m\u001b[1;32m     23\u001b[0m \u001b[0;34m\u001b[0m\u001b[0m\n\u001b[1;32m     24\u001b[0m                 \u001b[0mprint\u001b[0m\u001b[0;34m(\u001b[0m\u001b[0;34m\"The value of the temperature is set.\"\u001b[0m\u001b[0;34m)\u001b[0m\u001b[0;34m\u001b[0m\u001b[0;34m\u001b[0m\u001b[0m\n",
            "\u001b[0;31mValueError\u001b[0m: It is a value error."
          ]
        }
      ]
    },
    {
      "cell_type": "code",
      "source": [
        "#70. Explain the use of the @deleter decorator in Python? Provide an example illustrating its usage."
      ],
      "metadata": {
        "id": "6hqrwRyn1KEO"
      },
      "execution_count": 7,
      "outputs": []
    },
    {
      "cell_type": "code",
      "source": [
        "# Lastly, let's say you want to allow users to delete the radius attribute altogether. Maybe you want to reset the\n",
        "# circle. You can use @<property_name>.deleter for this purpose:\n",
        "class Circle:\n",
        " def __init__(self, radius):\n",
        "  self._radius = radius\n",
        " @property\n",
        " def radius(self):\n",
        "  return self._radius\n",
        " @radius.deleter\n",
        " def radius(self):\n",
        "  del self._radius\n",
        "circle = Circle(5)\n",
        "del circle.radius\n",
        "\n",
        "# Here, @radius.deleter decorator allows you to define a method (radius) that will be called when you try to\n",
        "# delete circle.radius. In this examle, it deletes the radius attribute."
      ],
      "metadata": {
        "id": "McXgq0t01xR0"
      },
      "execution_count": 8,
      "outputs": []
    },
    {
      "cell_type": "code",
      "source": [
        "#71. How does encapsulation relate to property decorators in Python? Provide an example showcasing\n",
        "# encapsulation using property decorators."
      ],
      "metadata": {
        "id": "Sq2asOaM2Zfv"
      },
      "execution_count": 9,
      "outputs": []
    },
    {
      "cell_type": "code",
      "source": [
        "# The @property decorator can be used to define properties in addition to the bare data fields of a class.\n",
        "\n",
        "class Person:\n",
        "    def __init__(self, nf = 'Glenn', nl = 'Rowe', nm = 'William'):\n",
        "        self.__first = nf\n",
        "        self.__middle = nm\n",
        "        self.__last = nl\n",
        "\n",
        "    @property\n",
        "    def firstName(self):\n",
        "        return self.__first\n",
        "\n",
        "    @firstName.setter\n",
        "    def firstName(self, fName):\n",
        "        self.__first = fName\n",
        "\n",
        "    @firstName.deleter\n",
        "    def firstName(self):\n",
        "        del self.__first\n",
        "\n",
        "    @property\n",
        "    def fullName(self):\n",
        "        return \" \".join([self.__first, self.__middle, self.__last])\n",
        "\n",
        "    @fullName.setter\n",
        "    def fullName(self, fName):\n",
        "        fName = fName.split()\n",
        "        self.__last = fName[2]\n",
        "        self.__middle = fName[1]\n",
        "        self.__first = fName[0]\n",
        "\n",
        "# I’ve defined a method fullName() which is declared to be a getter. It returns a string\n",
        "# composed of all three parts of the person’s name. I’ve used the join() method from the string\n",
        "# class, which has the format <str>.join(<list>), and returns a single string consisting of the\n",
        "# elements of the list joined together with the <str> that calls join(). In this case, it produces\n",
        "# a single string with the 3 names separated by blanks.\n",
        "\n",
        "# I’ve added a setter for fullName, which takes in a single string consisting of 3 names\n",
        "# separated by blanks, calls split() to separate the names, and then assigns each name to a data field in the object."
      ],
      "metadata": {
        "id": "ySwDI7AS28J1"
      },
      "execution_count": 10,
      "outputs": []
    },
    {
      "cell_type": "code",
      "source": [],
      "metadata": {
        "id": "J0kh-N-a4FF4"
      },
      "execution_count": null,
      "outputs": []
    }
  ]
}