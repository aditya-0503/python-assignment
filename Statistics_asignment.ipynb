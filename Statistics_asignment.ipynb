{
  "nbformat": 4,
  "nbformat_minor": 0,
  "metadata": {
    "colab": {
      "provenance": [],
      "authorship_tag": "ABX9TyOMA7Fe17KN9D0+6aEprLd0",
      "include_colab_link": true
    },
    "kernelspec": {
      "name": "python3",
      "display_name": "Python 3"
    },
    "language_info": {
      "name": "python"
    }
  },
  "cells": [
    {
      "cell_type": "markdown",
      "metadata": {
        "id": "view-in-github",
        "colab_type": "text"
      },
      "source": [
        "<a href=\"https://colab.research.google.com/github/aditya-0503/python-assignment/blob/main/Statistics_asignment.ipynb\" target=\"_parent\"><img src=\"https://colab.research.google.com/assets/colab-badge.svg\" alt=\"Open In Colab\"/></a>"
      ]
    },
    {
      "cell_type": "code",
      "source": [
        "import numpy as np\n",
        "import pandas as pd\n",
        "import seaborn as sns"
      ],
      "metadata": {
        "id": "1EFaaGEVpJSS"
      },
      "execution_count": 1,
      "outputs": []
    },
    {
      "cell_type": "markdown",
      "source": [
        "Q= Generate a list of 100 integers containing values between 90 to 130 and store it in the variable `int_list`.\n",
        "After generating the list, find the following:\n"
      ],
      "metadata": {
        "id": "OJvFwceXo3WY"
      }
    },
    {
      "cell_type": "code",
      "execution_count": 2,
      "metadata": {
        "colab": {
          "base_uri": "https://localhost:8080/"
        },
        "id": "vI21dLVlobb-",
        "outputId": "822cb20e-24ea-4380-d2c1-5a040c1d16f4",
        "collapsed": true
      },
      "outputs": [
        {
          "output_type": "stream",
          "name": "stdout",
          "text": [
            "[125 107 113 112  94 119  93 104 121 110 109  98  95 127 102 109 128 129\n",
            " 123 113  92  92 122 111 123 106 127 122  93 110 118  97 122 103 100  91\n",
            " 106 118 103 124 111 116 119 125 112  97  99 112 100 108 120 122 128 103\n",
            "  98 121 115  98 122 101 126  96 110  97 111 122 118 114 126 115 112 104\n",
            "  98 110 112 118  93 128  98  97 112 112 129 111 108 116 106  95 120  98\n",
            " 117 117 111  93 125 118 107 129  95  91]\n",
            "\n",
            "Total integers in the int_list is 100\n"
          ]
        }
      ],
      "source": [
        "int_list = np.random.randint(90, 130, 100)\n",
        "print(int_list)\n",
        "print(\"\\nTotal integers in the int_list is\",len(int_list))"
      ]
    },
    {
      "cell_type": "markdown",
      "source": [
        " (i) Write a Python function to calculate the mean of a given list of numbers.\n",
        "\n",
        "Create a function to find the median of a list of numbers."
      ],
      "metadata": {
        "id": "kZ2lJu5EqpJL"
      }
    },
    {
      "cell_type": "code",
      "source": [
        "def get_mean(int_list):\n",
        "  get_mean = np.mean(int_list)\n",
        "  return get_mean\n",
        "\n",
        "mean_score = get_mean(int_list)\n",
        "print(\"The mean of given list is:\",mean_score)"
      ],
      "metadata": {
        "colab": {
          "base_uri": "https://localhost:8080/"
        },
        "id": "Pm1oo5ty9j-l",
        "outputId": "afc3dbd8-9e51-4df5-b3dd-7333eac6488e"
      },
      "execution_count": 3,
      "outputs": [
        {
          "output_type": "stream",
          "name": "stdout",
          "text": [
            "The mean of given list is: 110.53\n"
          ]
        }
      ]
    },
    {
      "cell_type": "code",
      "source": [
        "def get_median(int_list):\n",
        "  get_median = np.median(int_list)\n",
        "  return get_median\n",
        "\n",
        "median_score = get_median(int_list)\n",
        "print(\"The median of given list is:\",median_score)"
      ],
      "metadata": {
        "colab": {
          "base_uri": "https://localhost:8080/"
        },
        "id": "6FR8q3wE__S-",
        "outputId": "d2c4690b-fdc2-4160-f2f8-91329e1d479c"
      },
      "execution_count": 4,
      "outputs": [
        {
          "output_type": "stream",
          "name": "stdout",
          "text": [
            "The median of given list is: 111.0\n"
          ]
        }
      ]
    },
    {
      "cell_type": "markdown",
      "source": [
        "**(ii) Develop a program to compute the mode of a list of integers.**"
      ],
      "metadata": {
        "id": "e7TW-zuGsuwm"
      }
    },
    {
      "cell_type": "code",
      "source": [
        "import statistics"
      ],
      "metadata": {
        "id": "4nAJWeSfslv1"
      },
      "execution_count": 5,
      "outputs": []
    },
    {
      "cell_type": "code",
      "source": [
        "def mode_value(int_list):\n",
        "  mode_value = statistics.mode(int_list)\n",
        "  return mode_value\n",
        "\n",
        "ak = mode_value(int_list)\n",
        "print(\"The mode of given list is:\",ak)"
      ],
      "metadata": {
        "colab": {
          "base_uri": "https://localhost:8080/"
        },
        "id": "Ho9ioamIs8aW",
        "outputId": "a4cafac0-f978-46b1-8c5f-1236abc7f963"
      },
      "execution_count": 6,
      "outputs": [
        {
          "output_type": "stream",
          "name": "stdout",
          "text": [
            "The mode of given list is: 112\n"
          ]
        }
      ]
    },
    {
      "cell_type": "markdown",
      "source": [
        "  (iii) Implement a function to calculate the weighted mean of a list of values and their corresponding weights"
      ],
      "metadata": {
        "id": "2uU0ELbQtkuq"
      }
    },
    {
      "cell_type": "code",
      "source": [
        "def weighted_mean(int_list):\n",
        "  weighted_mean = np.average(int_list)\n",
        "  return weighted_mean\n",
        "\n",
        "z = weighted_mean(int_list)\n",
        "print(\"The weighted mean of the given list is:\", z)"
      ],
      "metadata": {
        "colab": {
          "base_uri": "https://localhost:8080/"
        },
        "id": "JFWHCnQC9Uzj",
        "outputId": "9ae150f3-6b57-4ab8-dd7b-e22b94c59c3e"
      },
      "execution_count": 7,
      "outputs": [
        {
          "output_type": "stream",
          "name": "stdout",
          "text": [
            "The weighted mean of the given list is: 110.53\n"
          ]
        }
      ]
    },
    {
      "cell_type": "markdown",
      "source": [
        "  (iv) Write a Python function to find the geometric mean of a list of positive numbers\n"
      ],
      "metadata": {
        "id": "YMuP5Lmnw0aG"
      }
    },
    {
      "cell_type": "code",
      "source": [
        "geo_mean = statistics.geometric_mean(int_list)\n",
        "def geometric_mean(geo_mean):\n",
        "  return geo_mean\n",
        "\n",
        "geo = geometric_mean(geo_mean)\n",
        "print(\"The geometric mean of the given list is:\", geo)"
      ],
      "metadata": {
        "colab": {
          "base_uri": "https://localhost:8080/"
        },
        "id": "fzAQSa-Ny3L_",
        "outputId": "08003235-3e1d-4112-98ba-7a64b63806a7"
      },
      "execution_count": 8,
      "outputs": [
        {
          "output_type": "stream",
          "name": "stdout",
          "text": [
            "The geometric mean of the given list is: 109.96357961536192\n"
          ]
        }
      ]
    },
    {
      "cell_type": "markdown",
      "source": [
        " (v) Create a program to calculate the harmonic mean of a list of values."
      ],
      "metadata": {
        "id": "sUunSjB9yZvC"
      }
    },
    {
      "cell_type": "code",
      "source": [
        "har_mean = statistics.harmonic_mean(int_list)\n",
        "def harmonic_mean(har_mean):\n",
        "  return har_mean\n",
        "\n",
        "har = harmonic_mean(har_mean)\n",
        "print(\"The harmonic mean of the given list is:\", har)"
      ],
      "metadata": {
        "colab": {
          "base_uri": "https://localhost:8080/"
        },
        "id": "pL6W5c5LwfZ5",
        "outputId": "9efe0dc4-0d15-4a36-deff-a542a7921ea3"
      },
      "execution_count": 9,
      "outputs": [
        {
          "output_type": "stream",
          "name": "stdout",
          "text": [
            "The harmonic mean of the given list is: 109.391484985471\n"
          ]
        }
      ]
    },
    {
      "cell_type": "markdown",
      "source": [
        "(vi) Build a function to determine the midrange of a list of numbers (average of the minimum and maximum)."
      ],
      "metadata": {
        "id": "TakDjzRl-xHD"
      }
    },
    {
      "cell_type": "code",
      "source": [
        "z = min(int_list)\n",
        "y = max(int_list)\n",
        "average = (z+y)/2\n",
        "average"
      ],
      "metadata": {
        "colab": {
          "base_uri": "https://localhost:8080/"
        },
        "id": "phOo2h0i_QYj",
        "outputId": "faf76d98-5256-46bd-a60a-fcee82a5f90d"
      },
      "execution_count": 10,
      "outputs": [
        {
          "output_type": "execute_result",
          "data": {
            "text/plain": [
              "110.0"
            ]
          },
          "metadata": {},
          "execution_count": 10
        }
      ]
    },
    {
      "cell_type": "code",
      "source": [
        "def midran(average):\n",
        "  return average\n",
        "\n",
        "yes = midran(average)\n",
        "print(\"The midrange of the given list is:\", yes)"
      ],
      "metadata": {
        "colab": {
          "base_uri": "https://localhost:8080/"
        },
        "id": "NFhZqwRKAR5A",
        "outputId": "67b21468-6fde-4c1d-a368-8707c512c21a"
      },
      "execution_count": 11,
      "outputs": [
        {
          "output_type": "stream",
          "name": "stdout",
          "text": [
            "The midrange of the given list is: 110.0\n"
          ]
        }
      ]
    },
    {
      "cell_type": "markdown",
      "source": [
        "  (vii) Implement a Python program to find the trimmed mean of a list, excluding a certain percentage of\n",
        "outliers."
      ],
      "metadata": {
        "id": "zINpecBICBCA"
      }
    },
    {
      "cell_type": "code",
      "source": [
        "from scipy import stats"
      ],
      "metadata": {
        "id": "BRmu2XRRAlzi"
      },
      "execution_count": 12,
      "outputs": []
    },
    {
      "cell_type": "code",
      "source": [
        "trim_mean = stats.trim_mean(int_list, 0.2) #20%\n",
        "trim_mean"
      ],
      "metadata": {
        "colab": {
          "base_uri": "https://localhost:8080/"
        },
        "id": "dclhJ2XxCPeC",
        "outputId": "65867b31-7922-468a-bdbb-988cc152a461"
      },
      "execution_count": 13,
      "outputs": [
        {
          "output_type": "execute_result",
          "data": {
            "text/plain": [
              "110.8"
            ]
          },
          "metadata": {},
          "execution_count": 13
        }
      ]
    },
    {
      "cell_type": "code",
      "source": [
        "def trimmed_mean(trim_mean):\n",
        "  return trim_mean\n",
        "\n",
        "trm_mean = trimmed_mean(trim_mean)\n",
        "print(\"The trimmed mean of 10% data is:\", trm_mean)"
      ],
      "metadata": {
        "colab": {
          "base_uri": "https://localhost:8080/"
        },
        "id": "9XUlj_9qCeL0",
        "outputId": "26666f26-1900-4ef8-9496-0bcef25df1a8"
      },
      "execution_count": 14,
      "outputs": [
        {
          "output_type": "stream",
          "name": "stdout",
          "text": [
            "The trimmed mean of 10% data is: 110.8\n"
          ]
        }
      ]
    },
    {
      "cell_type": "markdown",
      "source": [
        " 2. Generate a list of 500 integers containing values between 200 to 300 and store it in the variable `int_list2`.\n",
        "After generating the list, find the following:"
      ],
      "metadata": {
        "id": "EOLsBOzJDhaw"
      }
    },
    {
      "cell_type": "code",
      "source": [
        "int_list2 = np.random.randint(200, 300, 500)\n",
        "len(int_list2)"
      ],
      "metadata": {
        "colab": {
          "base_uri": "https://localhost:8080/"
        },
        "id": "zGuKLJFEDhAt",
        "outputId": "bf2bfc8f-4c50-4163-e36d-bdc2bd7cf473"
      },
      "execution_count": 15,
      "outputs": [
        {
          "output_type": "execute_result",
          "data": {
            "text/plain": [
              "500"
            ]
          },
          "metadata": {},
          "execution_count": 15
        }
      ]
    },
    {
      "cell_type": "markdown",
      "source": [
        "  (i) Compare the given list of visualization for the given data:\n",
        "\n",
        "    \n",
        "\n",
        "    1. Frequency & Gaussian distribution\n",
        "\n",
        "    2. Frequency smoothened KDE plot\n",
        "\n",
        "    3. Gaussian distribution & smoothened KDE plot"
      ],
      "metadata": {
        "id": "wgXt6NrtGiGw"
      }
    },
    {
      "cell_type": "code",
      "source": [
        "sns.displot(int_list2)"
      ],
      "metadata": {
        "colab": {
          "base_uri": "https://localhost:8080/",
          "height": 523
        },
        "id": "m24KkuA7C918",
        "outputId": "8fbc0911-92a4-4982-95e4-412b73b1bf25"
      },
      "execution_count": 16,
      "outputs": [
        {
          "output_type": "execute_result",
          "data": {
            "text/plain": [
              "<seaborn.axisgrid.FacetGrid at 0x7a7e765e57e0>"
            ]
          },
          "metadata": {},
          "execution_count": 16
        },
        {
          "output_type": "display_data",
          "data": {
            "text/plain": [
              "<Figure size 500x500 with 1 Axes>"
            ],
            "image/png": "[encoded data removed]"
          },
          "metadata": {}
        }
      ]
    },
    {
      "cell_type": "code",
      "source": [
        "sns.distplot(int_list2)"
      ],
      "metadata": {
        "colab": {
          "base_uri": "https://localhost:8080/",
          "height": 638
        },
        "id": "gCQzKOOkG2Ww",
        "outputId": "77d6aa81-a236-4216-c7ba-c858df8e91bb"
      },
      "execution_count": 17,
      "outputs": [
        {
          "output_type": "stream",
          "name": "stderr",
          "text": [
            "<ipython-input-17-349ec5e7a91b>:1: UserWarning: \n",
            "\n",
            "`distplot` is a deprecated function and will be removed in seaborn v0.14.0.\n",
            "\n",
            "Please adapt your code to use either `displot` (a figure-level function with\n",
            "similar flexibility) or `histplot` (an axes-level function for histograms).\n",
            "\n",
            "For a guide to updating your code to use the new functions, please see\n",
            "https://gist.github.com/mwaskom/de44147ed2974457ad6372750bbe5751\n",
            "\n",
            "  sns.distplot(int_list2)\n"
          ]
        },
        {
          "output_type": "execute_result",
          "data": {
            "text/plain": [
              "<Axes: ylabel='Density'>"
            ]
          },
          "metadata": {},
          "execution_count": 17
        },
        {
          "output_type": "display_data",
          "data": {
            "text/plain": [
              "<Figure size 640x480 with 1 Axes>"
            ],
            "image/png": "[encoded data removed]"
          },
          "metadata": {}
        }
      ]
    },
    {
      "cell_type": "code",
      "source": [
        "sns.histplot(int_list2, kde = True)"
      ],
      "metadata": {
        "colab": {
          "base_uri": "https://localhost:8080/",
          "height": 447
        },
        "id": "CNbHaMKAHC_3",
        "outputId": "8c30bc73-0531-4dad-c0de-f05988305ee9"
      },
      "execution_count": 18,
      "outputs": [
        {
          "output_type": "execute_result",
          "data": {
            "text/plain": [
              "<Axes: ylabel='Count'>"
            ]
          },
          "metadata": {},
          "execution_count": 18
        },
        {
          "output_type": "display_data",
          "data": {
            "text/plain": [
              "<Figure size 640x480 with 1 Axes>"
            ],
            "image/png": "[encoded data removed]"
          },
          "metadata": {}
        }
      ]
    },
    {
      "cell_type": "markdown",
      "source": [
        "(ii) Write a Python function to calculate the range of a given list of numbers."
      ],
      "metadata": {
        "id": "hebmFw01HmR9"
      }
    },
    {
      "cell_type": "code",
      "source": [
        "ran = max(int_list2) - min(int_list2)"
      ],
      "metadata": {
        "id": "VE-wZ0h6HLaE"
      },
      "execution_count": 19,
      "outputs": []
    },
    {
      "cell_type": "code",
      "source": [
        "def range(ran):\n",
        "  return ran\n",
        "\n",
        "rang = range(ran)\n",
        "print(\"The range of given data is:\", rang)"
      ],
      "metadata": {
        "colab": {
          "base_uri": "https://localhost:8080/"
        },
        "id": "PDfcAh8dKC7t",
        "outputId": "2704e82f-e61a-4105-91da-53e43e84ba93"
      },
      "execution_count": 20,
      "outputs": [
        {
          "output_type": "stream",
          "name": "stdout",
          "text": [
            "The range of given data is: 99\n"
          ]
        }
      ]
    },
    {
      "cell_type": "markdown",
      "source": [
        " (iii) Create a program to find the variance and standard deviation of a list of numbers"
      ],
      "metadata": {
        "id": "zmJH0J_CKj_0"
      }
    },
    {
      "cell_type": "code",
      "source": [
        "var = np.var(int_list2)\n",
        "std = np.std(int_list2)"
      ],
      "metadata": {
        "id": "GbyNiOOQKOy8"
      },
      "execution_count": 21,
      "outputs": []
    },
    {
      "cell_type": "code",
      "source": [
        "def Var_and_std(var,std):\n",
        "  return var\n",
        "  return std\n",
        "\n",
        "v = Var_and_std(var,std)\n",
        "s = Var_and_std(std,var)\n",
        "print(\"The variance of the given list is:\", v)\n",
        "print(\"The standard deviation of the given list is:\", s)"
      ],
      "metadata": {
        "colab": {
          "base_uri": "https://localhost:8080/"
        },
        "id": "Q1z9m_INKwD1",
        "outputId": "186ee36e-e7a1-4711-a2e4-19d74293524f"
      },
      "execution_count": 22,
      "outputs": [
        {
          "output_type": "stream",
          "name": "stdout",
          "text": [
            "The variance of the given list is: 858.41\n",
            "The standard deviation of the given list is: 29.298634780480814\n"
          ]
        }
      ]
    },
    {
      "cell_type": "markdown",
      "source": [
        "(iv) Implement a function to compute the interquartile range (IQR) of a list of values"
      ],
      "metadata": {
        "id": "vJC_TJbBMQcl"
      }
    },
    {
      "cell_type": "code",
      "source": [
        "inter_quar = stats.iqr(int_list2, rng = (25,75))"
      ],
      "metadata": {
        "id": "3Kl9zqFrLWPq"
      },
      "execution_count": 23,
      "outputs": []
    },
    {
      "cell_type": "code",
      "source": [
        "def interquartile(inter_quar):\n",
        "  return inter_quar\n",
        "\n",
        "inter = interquartile(inter_quar)\n",
        "print(\"The interquartile range is:\", inter)"
      ],
      "metadata": {
        "colab": {
          "base_uri": "https://localhost:8080/"
        },
        "id": "oXosBgqKQHdn",
        "outputId": "23d1bfe3-b5ee-460d-8ec2-5bb71dcb799e"
      },
      "execution_count": 24,
      "outputs": [
        {
          "output_type": "stream",
          "name": "stdout",
          "text": [
            "The interquartile range is: 52.25\n"
          ]
        }
      ]
    },
    {
      "cell_type": "markdown",
      "source": [
        " (v) Build a program to calculate the coefficient of variation for a dataset."
      ],
      "metadata": {
        "id": "TXe_5RDM3uNw"
      }
    },
    {
      "cell_type": "code",
      "source": [
        "mea = np.mean(int_list2)\n",
        "std = np.std(int_list2)\n",
        "CV = std/mea"
      ],
      "metadata": {
        "id": "V5t2aRW7QpkM"
      },
      "execution_count": 25,
      "outputs": []
    },
    {
      "cell_type": "code",
      "source": [
        "def coeff_var(CV):\n",
        "  return CV\n",
        "\n",
        "coefficient = coeff_var(CV)\n",
        "print(\"The coefficient of variation of the given list is:\", coefficient)"
      ],
      "metadata": {
        "colab": {
          "base_uri": "https://localhost:8080/"
        },
        "id": "jw5wKf654YGD",
        "outputId": "1b67d742-fc7c-4c15-8f3d-32f7f325953c"
      },
      "execution_count": 26,
      "outputs": [
        {
          "output_type": "stream",
          "name": "stdout",
          "text": [
            "The coefficient of variation of the given list is: 0.11658828006558222\n"
          ]
        }
      ]
    },
    {
      "cell_type": "markdown",
      "source": [
        "(vi) Write a Python function to find the mean absolute deviation (MAD) of a list of numbers."
      ],
      "metadata": {
        "id": "Ag-IoMMz5a0q"
      }
    },
    {
      "cell_type": "code",
      "source": [
        "MAD = stats.median_abs_deviation(int_list2)\n",
        "def mean_absol_dev(MAD):\n",
        "  return MAD\n",
        "\n",
        "mean_ab = mean_absol_dev(MAD)\n",
        "print(\"The mean absolute deviation of the given list is:\",  mean_ab)"
      ],
      "metadata": {
        "colab": {
          "base_uri": "https://localhost:8080/"
        },
        "id": "UMO-mLkk5A9_",
        "outputId": "69f57514-e846-4324-8872-45ff1a423a7d"
      },
      "execution_count": 27,
      "outputs": [
        {
          "output_type": "stream",
          "name": "stdout",
          "text": [
            "The mean absolute deviation of the given list is: 26.0\n"
          ]
        }
      ]
    },
    {
      "cell_type": "markdown",
      "source": [
        "(vii) Create a program to calculate the quartile deviation of a list of values."
      ],
      "metadata": {
        "id": "J1JdFKAg6EpS"
      }
    },
    {
      "cell_type": "code",
      "source": [
        "Q1 = np.percentile(int_list2,25)\n",
        "Q2 = np.percentile(int_list2,75)\n",
        "QD = (Q1-Q2)/2"
      ],
      "metadata": {
        "id": "592Hb7hy5qIz"
      },
      "execution_count": 28,
      "outputs": []
    },
    {
      "cell_type": "code",
      "source": [
        "def quar_dev(QD):\n",
        "  return QD\n",
        "\n",
        "Quartile_dev = quar_dev(QD)\n",
        "print(\"The quartile deviation of given list is:\", Quartile_dev)"
      ],
      "metadata": {
        "colab": {
          "base_uri": "https://localhost:8080/"
        },
        "id": "2wgiEOh3621-",
        "outputId": "f6a0c43b-4bc4-47e3-826f-1109e0e47206"
      },
      "execution_count": 29,
      "outputs": [
        {
          "output_type": "stream",
          "name": "stdout",
          "text": [
            "The quartile deviation of given list is: -26.125\n"
          ]
        }
      ]
    },
    {
      "cell_type": "markdown",
      "source": [
        "  (viii) Implement a function to find the range-based coefficient of dispersion for a dataset."
      ],
      "metadata": {
        "id": "JZyesj8A7QIJ"
      }
    },
    {
      "cell_type": "code",
      "source": [
        "z = max(int_list2)\n",
        "y = min(int_list2)\n",
        "range_coeff = (z-y)/(z+y)\n",
        "range_coeff"
      ],
      "metadata": {
        "colab": {
          "base_uri": "https://localhost:8080/"
        },
        "id": "KLbkZE577KcS",
        "outputId": "962931de-cc5a-46d7-9a0d-24cbc78039d4"
      },
      "execution_count": 30,
      "outputs": [
        {
          "output_type": "execute_result",
          "data": {
            "text/plain": [
              "0.19839679358717435"
            ]
          },
          "metadata": {},
          "execution_count": 30
        }
      ]
    },
    {
      "cell_type": "code",
      "source": [
        "def range_cofficient(range_coeff):\n",
        "  return(range_coeff)\n",
        "\n",
        "ran_co = range_cofficient(range_coeff)\n",
        "print(\"The range coefficient of dispersion is:\", ran_co)"
      ],
      "metadata": {
        "colab": {
          "base_uri": "https://localhost:8080/"
        },
        "id": "0WSiq3SC8Vux",
        "outputId": "46377676-c140-402d-82a3-46675327ece6"
      },
      "execution_count": 31,
      "outputs": [
        {
          "output_type": "stream",
          "name": "stdout",
          "text": [
            "The range coefficient of dispersion is: 0.19839679358717435\n"
          ]
        }
      ]
    },
    {
      "cell_type": "markdown",
      "source": [
        "3)  Write a Python class representing a discrete random variable with methods to calculate its expected\n",
        "value and variance"
      ],
      "metadata": {
        "id": "Y7kieI_e9Yue"
      }
    },
    {
      "cell_type": "markdown",
      "source": [
        "4) Implement a program to simulate the rolling of a fair six-sided die and calculate the expected value and\n",
        "variance of the outcomes."
      ],
      "metadata": {
        "id": "9I6G7Bhq_9Nn"
      }
    },
    {
      "cell_type": "markdown",
      "source": [
        "5) Create a Python function to generate random samples from a given probability distribution (e.g.,\n",
        "binomial, Poisson) and calculate their mean and variance."
      ],
      "metadata": {
        "id": "-6rNgPYoCxEt"
      }
    },
    {
      "cell_type": "code",
      "source": [
        "int_list3 = np.random.binomial(10, 0.5,15)"
      ],
      "metadata": {
        "id": "DPn__Z0UA-9k"
      },
      "execution_count": 32,
      "outputs": []
    },
    {
      "cell_type": "code",
      "source": [
        "mean = np.mean(int_list3)\n",
        "var  = np.var(int_list3)\n",
        "\n",
        "def mean_var(mean,var):\n",
        " return mean,var\n",
        "me_va = mean_var(mean,var)\n",
        "print(\"The mean and variance of the list is:\",me_va)"
      ],
      "metadata": {
        "colab": {
          "base_uri": "https://localhost:8080/"
        },
        "id": "lA_SMxlQDXTs",
        "outputId": "1142a20d-d65b-4426-de3b-1527d0aa1c65"
      },
      "execution_count": 33,
      "outputs": [
        {
          "output_type": "stream",
          "name": "stdout",
          "text": [
            "The mean and variance of the list is: (4.2, 2.4266666666666667)\n"
          ]
        }
      ]
    },
    {
      "cell_type": "markdown",
      "source": [
        "6) Write a Python script to generate random numbers from a Gaussian (normal) distribution and compute\n",
        "the mean, variance, and standard deviation of the samples."
      ],
      "metadata": {
        "id": "NW0es0EzcnRE"
      }
    },
    {
      "cell_type": "code",
      "source": [
        "int_list4 = np.random.normal(20,5,50)\n",
        "int_list4"
      ],
      "metadata": {
        "id": "nPwUWZO3HlQU",
        "colab": {
          "base_uri": "https://localhost:8080/"
        },
        "outputId": "43619d6b-18bd-4b7e-8433-4af0beb05bae"
      },
      "execution_count": 34,
      "outputs": [
        {
          "output_type": "execute_result",
          "data": {
            "text/plain": [
              "array([24.3411883 , 22.59914482, 18.46298603, 22.44847253, 27.68755257,\n",
              "       13.99612368, 24.08514422, 26.42038573, 20.33108617, 14.21913904,\n",
              "       15.76496071, 17.99527052, 28.52381897, 18.04407798, 18.80223446,\n",
              "       24.8494733 , 22.81705213, 15.11095175, 30.53304318, 27.4040642 ,\n",
              "       15.03235228, 22.83982425, 16.83196387, 15.06161452, 15.62211483,\n",
              "       16.50558953, 21.68269503, 17.98058376,  9.7717623 , 16.99006702,\n",
              "       18.0325969 , 21.21497946, 20.57756287, 24.01563907, 24.85068192,\n",
              "       18.23542049, 19.19093911, 24.79447403, 19.21881534, 14.13823045,\n",
              "       18.76313846, 32.85271561, 29.13347422, 31.13362957, 16.02481951,\n",
              "       24.97546122, 22.20367549, 15.97985864, 12.04775367, 29.97242447])"
            ]
          },
          "metadata": {},
          "execution_count": 34
        }
      ]
    },
    {
      "cell_type": "code",
      "source": [
        "mean = np.mean(int_list4)\n",
        "var  = np.var(int_list4)\n",
        "std = np.std(int_list4)\n",
        "\n",
        "def mean_var_std(mean,var,std):\n",
        " return mean,var,std\n",
        "me_va = mean_var_std(mean,var,std)\n",
        "print(\"The mean, variance and standard deviation of the list is:\",me_va)"
      ],
      "metadata": {
        "colab": {
          "base_uri": "https://localhost:8080/"
        },
        "id": "c-ni3wt_dB6O",
        "outputId": "3fc6df27-7d4f-4fe3-b902-06b4252b66c2"
      },
      "execution_count": 35,
      "outputs": [
        {
          "output_type": "stream",
          "name": "stdout",
          "text": [
            "The mean, variance and standard deviation of the list is: (20.802220563600308, 28.67815261063919, 5.355198652770893)\n"
          ]
        }
      ]
    },
    {
      "cell_type": "markdown",
      "source": [
        "7) Use seaborn library to load tips dataset. Find the following from the dataset for the columns total_bill\n",
        "and tip`:"
      ],
      "metadata": {
        "id": "aYToVH4yfCoJ"
      }
    },
    {
      "cell_type": "markdown",
      "source": [
        "  (i) Write a Python function that calculates their skewness."
      ],
      "metadata": {
        "id": "dJ9TXpgpfbuW"
      }
    },
    {
      "cell_type": "code",
      "source": [
        "df = sns.load_dataset('tips')"
      ],
      "metadata": {
        "id": "DEQOjnT4dcV7"
      },
      "execution_count": 36,
      "outputs": []
    },
    {
      "cell_type": "code",
      "source": [
        "skews = stats.skew(df['tip'])\n",
        "skewsn = stats.skew(df['total_bill'])"
      ],
      "metadata": {
        "id": "b0WH1eU4fuXs"
      },
      "execution_count": 37,
      "outputs": []
    },
    {
      "cell_type": "code",
      "source": [
        "def skewne(skews,skewsn):\n",
        "  return skews,skewsn\n",
        "\n",
        "skewe = skewne(skews,skewsn)\n",
        "print(\"The skewness of column 'tips' and 'total_bill' is:\", skewe)"
      ],
      "metadata": {
        "colab": {
          "base_uri": "https://localhost:8080/"
        },
        "id": "G8AWgGphgllR",
        "outputId": "c5276848-5eab-4de4-d75c-d5edd3e67dcf"
      },
      "execution_count": 38,
      "outputs": [
        {
          "output_type": "stream",
          "name": "stdout",
          "text": [
            "The skewness of column 'tips' and 'total_bill' is: (1.4564266884221506, 1.1262346334818638)\n"
          ]
        }
      ]
    },
    {
      "cell_type": "markdown",
      "source": [
        "(ii) Create a program that determines whether the columns exhibit positive skewness, negative skewness, or is\n",
        "approximately symmetric."
      ],
      "metadata": {
        "id": "4rsaDyBIlHEz"
      }
    },
    {
      "cell_type": "code",
      "source": [
        "if skews > 0:\n",
        "  print(\"The column ' tips' is positive or right skewed\")\n",
        "elif skews < 0:\n",
        "  print(\"The column is negative or left skewed\")\n",
        "else:\n",
        "  print(\"The column is approximately symmetric\")"
      ],
      "metadata": {
        "colab": {
          "base_uri": "https://localhost:8080/"
        },
        "id": "kLZezRvWlHni",
        "outputId": "eca79eab-eb64-4155-ec19-7b48a4ba45a9"
      },
      "execution_count": 39,
      "outputs": [
        {
          "output_type": "stream",
          "name": "stdout",
          "text": [
            "The column ' tips' is positive or right skewed\n"
          ]
        }
      ]
    },
    {
      "cell_type": "code",
      "source": [
        "if skewsn > 0:\n",
        "  print(\"The column 'total_bill' is positive or right skewed\")\n",
        "elif skewsn < 0:\n",
        "  print(\"The column is negative or left skewed\")\n",
        "else:\n",
        "  print(\"The column is approximately symmetric\")"
      ],
      "metadata": {
        "colab": {
          "base_uri": "https://localhost:8080/"
        },
        "id": "NTL8_iXMlpf7",
        "outputId": "344c197c-3d17-4a26-aa2a-ee92f8b014d1"
      },
      "execution_count": 40,
      "outputs": [
        {
          "output_type": "stream",
          "name": "stdout",
          "text": [
            "The column 'total_bill' is positive or right skewed\n"
          ]
        }
      ]
    },
    {
      "cell_type": "markdown",
      "source": [
        "(iii) Write a function that calculates the covariance between two columns."
      ],
      "metadata": {
        "id": "0jAEuFyPoV7f"
      }
    },
    {
      "cell_type": "code",
      "source": [
        "dd = df[['tip','total_bill']]"
      ],
      "metadata": {
        "id": "8DBZQXHImlBZ"
      },
      "execution_count": 41,
      "outputs": []
    },
    {
      "cell_type": "code",
      "source": [
        "cc = dd.cov()"
      ],
      "metadata": {
        "id": "vEMVZ102ors3"
      },
      "execution_count": 42,
      "outputs": []
    },
    {
      "cell_type": "code",
      "source": [
        "def covar(cc):\n",
        "  return cc\n",
        "\n",
        "covariance = covar(cc)\n",
        "print(\"The covariance between the two columns is:\\n\", covariance)"
      ],
      "metadata": {
        "id": "felyBVLLp_Hb",
        "colab": {
          "base_uri": "https://localhost:8080/"
        },
        "outputId": "ba6e9ffc-f1d4-4898-fb19-177eb20abc43"
      },
      "execution_count": 43,
      "outputs": [
        {
          "output_type": "stream",
          "name": "stdout",
          "text": [
            "The covariance between the two columns is:\n",
            "                  tip  total_bill\n",
            "tip         1.914455    8.323502\n",
            "total_bill  8.323502   79.252939\n"
          ]
        }
      ]
    },
    {
      "cell_type": "markdown",
      "source": [
        "(iv) Implement a Python program that calculates the Pearson correlation coefficient between two columns."
      ],
      "metadata": {
        "id": "hm1fElXJKk4V"
      }
    },
    {
      "cell_type": "code",
      "source": [
        "corr, pvalue =  stats.pearsonr(df['tip'],df['total_bill'])\n",
        "print(\"The pearson correlation coefficient between these two columns is:\", corr)"
      ],
      "metadata": {
        "colab": {
          "base_uri": "https://localhost:8080/"
        },
        "id": "A-2RyChWKIpN",
        "outputId": "d7cf81c5-20f4-4318-919a-445533f96d11"
      },
      "execution_count": 44,
      "outputs": [
        {
          "output_type": "stream",
          "name": "stdout",
          "text": [
            "The pearson correlation coefficient between these two columns is: 0.6757341092113647\n"
          ]
        }
      ]
    },
    {
      "cell_type": "markdown",
      "source": [
        "(v) Write a script to visualize the correlation between two specific columns in a Pandas DataFrame using\n",
        "scatter plots."
      ],
      "metadata": {
        "id": "sfxheud1M1Ft"
      }
    },
    {
      "cell_type": "code",
      "source": [
        "sns.scatterplot(x = \"tip\",y = \"total_bill\", data = df)"
      ],
      "metadata": {
        "colab": {
          "base_uri": "https://localhost:8080/",
          "height": 466
        },
        "id": "zWnLK86dLyaa",
        "outputId": "3ae79f12-4813-425b-f6c5-69ba2195dcb7"
      },
      "execution_count": 45,
      "outputs": [
        {
          "output_type": "execute_result",
          "data": {
            "text/plain": [
              "<Axes: xlabel='tip', ylabel='total_bill'>"
            ]
          },
          "metadata": {},
          "execution_count": 45
        },
        {
          "output_type": "display_data",
          "data": {
            "text/plain": [
              "<Figure size 640x480 with 1 Axes>"
            ],
            "image/png": "[encoded data removed]"
          },
          "metadata": {}
        }
      ]
    },
    {
      "cell_type": "markdown",
      "source": [
        "8) Write a Python function to calculate the probability density function (PDF) of a continuous random\n",
        "variable for a given normal distribution.\n"
      ],
      "metadata": {
        "id": "n-5GbjOzO4TY"
      }
    },
    {
      "cell_type": "code",
      "source": [
        "x = 2.5\n",
        "mu = 0\n",
        "sigma = 1\n",
        "\n",
        "pdf_value = stats.norm.pdf(x, mu, sigma)\n",
        "print(f\"The PDF value at x = {x} is: {pdf_value}\")"
      ],
      "metadata": {
        "colab": {
          "base_uri": "https://localhost:8080/"
        },
        "id": "mInqgT0t4AJd",
        "outputId": "8dc7fca0-e6c2-440c-c330-025a129a0f7c"
      },
      "execution_count": 110,
      "outputs": [
        {
          "output_type": "stream",
          "name": "stdout",
          "text": [
            "The PDF value at x = 2.5 is: 0.01752830049356854\n"
          ]
        }
      ]
    },
    {
      "cell_type": "markdown",
      "source": [
        "9) Create a program to calculate the cumulative distribution function (CDF) of exponential distribution."
      ],
      "metadata": {
        "id": "wkP052apQOx7"
      }
    },
    {
      "cell_type": "code",
      "source": [
        "x = 3\n",
        "lambda_ = 0.5\n",
        "\n",
        "cdf_value = stats.expon.cdf(x, scale=1/lambda_)\n",
        "print(f\"The CDF value at x = {x} is: {cdf_value}\")"
      ],
      "metadata": {
        "colab": {
          "base_uri": "https://localhost:8080/"
        },
        "id": "5c3I72_-4Nx-",
        "outputId": "4be0f047-7c4c-4a43-ef35-f376180a822d"
      },
      "execution_count": 111,
      "outputs": [
        {
          "output_type": "stream",
          "name": "stdout",
          "text": [
            "The CDF value at x = 3 is: 0.7768698398515702\n"
          ]
        }
      ]
    },
    {
      "cell_type": "markdown",
      "source": [
        "10) Write a Python function to calculate the probability mass function (PMF) of Poisson distribution."
      ],
      "metadata": {
        "id": "kERV_7i7QWyY"
      }
    },
    {
      "cell_type": "code",
      "source": [
        "k = 3\n",
        "lambda_ = 2\n",
        "\n",
        "pmf_value = stats.poisson.pmf(k, lambda_)\n",
        "print(f\"The PMF value for k = {k} is: {pmf_value}\")"
      ],
      "metadata": {
        "colab": {
          "base_uri": "https://localhost:8080/"
        },
        "id": "Ss3X4qn04nKJ",
        "outputId": "d0f0258a-3568-41a8-88fb-47f19aa75009"
      },
      "execution_count": 112,
      "outputs": [
        {
          "output_type": "stream",
          "name": "stdout",
          "text": [
            "The PMF value for k = 3 is: 0.18044704431548356\n"
          ]
        }
      ]
    },
    {
      "cell_type": "markdown",
      "source": [
        "11)| A company wants to test if a new website layout leads to a higher conversion rate (percentage of visitors\n",
        "who make a purchase). They collect data from the old and new layouts to compare.\n",
        "\n",
        "\n",
        "To generate the data use the following command:\n",
        "\n",
        "```python\n",
        "\n",
        "import numpy as np\n",
        "\n",
        "# 50 purchases out of 1000 visitors\n",
        "\n",
        "old_layout = np.array([1] * 50 + [0] * 950)\n",
        "\n",
        "# 70 purchases out of 1000 visitors  \n",
        "\n",
        "new_layout = np.array([1] * 70 + [0] * 930)\n",
        "\n",
        "  ```\n",
        "\n",
        "Apply z-test to find which layout is successful."
      ],
      "metadata": {
        "id": "sBtST3zjQZ4v"
      }
    },
    {
      "cell_type": "code",
      "source": [
        "old_layout = np.array([1] * 50 + [0] * 950)\n",
        "old_layout"
      ],
      "metadata": {
        "id": "G73KOrTfQWB8",
        "colab": {
          "base_uri": "https://localhost:8080/"
        },
        "collapsed": true,
        "outputId": "acbbd307-2629-4be7-e560-74fce63ccce6"
      },
      "execution_count": 46,
      "outputs": [
        {
          "output_type": "execute_result",
          "data": {
            "text/plain": [
              "array([1, 1, 1, 1, 1, 1, 1, 1, 1, 1, 1, 1, 1, 1, 1, 1, 1, 1, 1, 1, 1, 1,\n",
              "       1, 1, 1, 1, 1, 1, 1, 1, 1, 1, 1, 1, 1, 1, 1, 1, 1, 1, 1, 1, 1, 1,\n",
              "       1, 1, 1, 1, 1, 1, 0, 0, 0, 0, 0, 0, 0, 0, 0, 0, 0, 0, 0, 0, 0, 0,\n",
              "       0, 0, 0, 0, 0, 0, 0, 0, 0, 0, 0, 0, 0, 0, 0, 0, 0, 0, 0, 0, 0, 0,\n",
              "       0, 0, 0, 0, 0, 0, 0, 0, 0, 0, 0, 0, 0, 0, 0, 0, 0, 0, 0, 0, 0, 0,\n",
              "       0, 0, 0, 0, 0, 0, 0, 0, 0, 0, 0, 0, 0, 0, 0, 0, 0, 0, 0, 0, 0, 0,\n",
              "       0, 0, 0, 0, 0, 0, 0, 0, 0, 0, 0, 0, 0, 0, 0, 0, 0, 0, 0, 0, 0, 0,\n",
              "       0, 0, 0, 0, 0, 0, 0, 0, 0, 0, 0, 0, 0, 0, 0, 0, 0, 0, 0, 0, 0, 0,\n",
              "       0, 0, 0, 0, 0, 0, 0, 0, 0, 0, 0, 0, 0, 0, 0, 0, 0, 0, 0, 0, 0, 0,\n",
              "       0, 0, 0, 0, 0, 0, 0, 0, 0, 0, 0, 0, 0, 0, 0, 0, 0, 0, 0, 0, 0, 0,\n",
              "       0, 0, 0, 0, 0, 0, 0, 0, 0, 0, 0, 0, 0, 0, 0, 0, 0, 0, 0, 0, 0, 0,\n",
              "       0, 0, 0, 0, 0, 0, 0, 0, 0, 0, 0, 0, 0, 0, 0, 0, 0, 0, 0, 0, 0, 0,\n",
              "       0, 0, 0, 0, 0, 0, 0, 0, 0, 0, 0, 0, 0, 0, 0, 0, 0, 0, 0, 0, 0, 0,\n",
              "       0, 0, 0, 0, 0, 0, 0, 0, 0, 0, 0, 0, 0, 0, 0, 0, 0, 0, 0, 0, 0, 0,\n",
              "       0, 0, 0, 0, 0, 0, 0, 0, 0, 0, 0, 0, 0, 0, 0, 0, 0, 0, 0, 0, 0, 0,\n",
              "       0, 0, 0, 0, 0, 0, 0, 0, 0, 0, 0, 0, 0, 0, 0, 0, 0, 0, 0, 0, 0, 0,\n",
              "       0, 0, 0, 0, 0, 0, 0, 0, 0, 0, 0, 0, 0, 0, 0, 0, 0, 0, 0, 0, 0, 0,\n",
              "       0, 0, 0, 0, 0, 0, 0, 0, 0, 0, 0, 0, 0, 0, 0, 0, 0, 0, 0, 0, 0, 0,\n",
              "       0, 0, 0, 0, 0, 0, 0, 0, 0, 0, 0, 0, 0, 0, 0, 0, 0, 0, 0, 0, 0, 0,\n",
              "       0, 0, 0, 0, 0, 0, 0, 0, 0, 0, 0, 0, 0, 0, 0, 0, 0, 0, 0, 0, 0, 0,\n",
              "       0, 0, 0, 0, 0, 0, 0, 0, 0, 0, 0, 0, 0, 0, 0, 0, 0, 0, 0, 0, 0, 0,\n",
              "       0, 0, 0, 0, 0, 0, 0, 0, 0, 0, 0, 0, 0, 0, 0, 0, 0, 0, 0, 0, 0, 0,\n",
              "       0, 0, 0, 0, 0, 0, 0, 0, 0, 0, 0, 0, 0, 0, 0, 0, 0, 0, 0, 0, 0, 0,\n",
              "       0, 0, 0, 0, 0, 0, 0, 0, 0, 0, 0, 0, 0, 0, 0, 0, 0, 0, 0, 0, 0, 0,\n",
              "       0, 0, 0, 0, 0, 0, 0, 0, 0, 0, 0, 0, 0, 0, 0, 0, 0, 0, 0, 0, 0, 0,\n",
              "       0, 0, 0, 0, 0, 0, 0, 0, 0, 0, 0, 0, 0, 0, 0, 0, 0, 0, 0, 0, 0, 0,\n",
              "       0, 0, 0, 0, 0, 0, 0, 0, 0, 0, 0, 0, 0, 0, 0, 0, 0, 0, 0, 0, 0, 0,\n",
              "       0, 0, 0, 0, 0, 0, 0, 0, 0, 0, 0, 0, 0, 0, 0, 0, 0, 0, 0, 0, 0, 0,\n",
              "       0, 0, 0, 0, 0, 0, 0, 0, 0, 0, 0, 0, 0, 0, 0, 0, 0, 0, 0, 0, 0, 0,\n",
              "       0, 0, 0, 0, 0, 0, 0, 0, 0, 0, 0, 0, 0, 0, 0, 0, 0, 0, 0, 0, 0, 0,\n",
              "       0, 0, 0, 0, 0, 0, 0, 0, 0, 0, 0, 0, 0, 0, 0, 0, 0, 0, 0, 0, 0, 0,\n",
              "       0, 0, 0, 0, 0, 0, 0, 0, 0, 0, 0, 0, 0, 0, 0, 0, 0, 0, 0, 0, 0, 0,\n",
              "       0, 0, 0, 0, 0, 0, 0, 0, 0, 0, 0, 0, 0, 0, 0, 0, 0, 0, 0, 0, 0, 0,\n",
              "       0, 0, 0, 0, 0, 0, 0, 0, 0, 0, 0, 0, 0, 0, 0, 0, 0, 0, 0, 0, 0, 0,\n",
              "       0, 0, 0, 0, 0, 0, 0, 0, 0, 0, 0, 0, 0, 0, 0, 0, 0, 0, 0, 0, 0, 0,\n",
              "       0, 0, 0, 0, 0, 0, 0, 0, 0, 0, 0, 0, 0, 0, 0, 0, 0, 0, 0, 0, 0, 0,\n",
              "       0, 0, 0, 0, 0, 0, 0, 0, 0, 0, 0, 0, 0, 0, 0, 0, 0, 0, 0, 0, 0, 0,\n",
              "       0, 0, 0, 0, 0, 0, 0, 0, 0, 0, 0, 0, 0, 0, 0, 0, 0, 0, 0, 0, 0, 0,\n",
              "       0, 0, 0, 0, 0, 0, 0, 0, 0, 0, 0, 0, 0, 0, 0, 0, 0, 0, 0, 0, 0, 0,\n",
              "       0, 0, 0, 0, 0, 0, 0, 0, 0, 0, 0, 0, 0, 0, 0, 0, 0, 0, 0, 0, 0, 0,\n",
              "       0, 0, 0, 0, 0, 0, 0, 0, 0, 0, 0, 0, 0, 0, 0, 0, 0, 0, 0, 0, 0, 0,\n",
              "       0, 0, 0, 0, 0, 0, 0, 0, 0, 0, 0, 0, 0, 0, 0, 0, 0, 0, 0, 0, 0, 0,\n",
              "       0, 0, 0, 0, 0, 0, 0, 0, 0, 0, 0, 0, 0, 0, 0, 0, 0, 0, 0, 0, 0, 0,\n",
              "       0, 0, 0, 0, 0, 0, 0, 0, 0, 0, 0, 0, 0, 0, 0, 0, 0, 0, 0, 0, 0, 0,\n",
              "       0, 0, 0, 0, 0, 0, 0, 0, 0, 0, 0, 0, 0, 0, 0, 0, 0, 0, 0, 0, 0, 0,\n",
              "       0, 0, 0, 0, 0, 0, 0, 0, 0, 0])"
            ]
          },
          "metadata": {},
          "execution_count": 46
        }
      ]
    },
    {
      "cell_type": "code",
      "source": [
        "new_layout = np.array([1] * 70 + [0] * 930)"
      ],
      "metadata": {
        "id": "zJmPTSw8O5q8"
      },
      "execution_count": 47,
      "outputs": []
    },
    {
      "cell_type": "code",
      "source": [
        "from statsmodels.stats.weightstats import ztest"
      ],
      "metadata": {
        "id": "x-suvJW1UHQl"
      },
      "execution_count": 48,
      "outputs": []
    },
    {
      "cell_type": "code",
      "source": [
        "#null hypothesis: old layout == newlayout\n",
        "#alternate hypothesis: old layout != newlayout"
      ],
      "metadata": {
        "id": "4aU3PjWDWcjZ"
      },
      "execution_count": 49,
      "outputs": []
    },
    {
      "cell_type": "code",
      "source": [
        "zscore, pvalue = ztest(old_layout, new_layout)\n",
        "zscore, pvalue"
      ],
      "metadata": {
        "colab": {
          "base_uri": "https://localhost:8080/"
        },
        "id": "uj07oIrnWt4o",
        "outputId": "00d2d40c-3d95-4511-e69a-57b89fb14638"
      },
      "execution_count": 50,
      "outputs": [
        {
          "output_type": "execute_result",
          "data": {
            "text/plain": [
              "(-1.883837962960912, 0.05958689675745177)"
            ]
          },
          "metadata": {},
          "execution_count": 50
        }
      ]
    },
    {
      "cell_type": "code",
      "source": [
        "if pvalue <= 0.05:\n",
        "  print(\"Reject the null hypothesis\")\n",
        "else:\n",
        "  print(\"Failed to reject the null hypothesis as there is no significant difference between the two layouts\")"
      ],
      "metadata": {
        "colab": {
          "base_uri": "https://localhost:8080/"
        },
        "id": "xc_SQnM6XDvD",
        "outputId": "753a6457-0b2c-427e-f971-6bbca94935c7"
      },
      "execution_count": 51,
      "outputs": [
        {
          "output_type": "stream",
          "name": "stdout",
          "text": [
            "Failed to reject the null hypothesis as there is no significant difference between the two layouts\n"
          ]
        }
      ]
    },
    {
      "cell_type": "markdown",
      "source": [
        "12) A tutoring service claims that its program improves students' exam scores. A sample of students who\n",
        "participated in the program was taken, and their scores before and after the program were recorded.\n",
        "\n",
        "\n",
        "Use the below code to generate samples of respective arrays of marks:\n",
        "\n",
        "```python\n",
        "\n",
        "before_program = np.array([75, 80, 85, 70, 90, 78, 92, 88, 82, 87])\n",
        "\n",
        "after_program = np.array([80, 85, 90, 80, 92, 80, 95, 90, 85, 88])\n",
        "\n",
        "```\n",
        "\n",
        "Use z-test to find if the claims made by tutor are true or false."
      ],
      "metadata": {
        "id": "FEa69wzTiUat"
      }
    },
    {
      "cell_type": "code",
      "source": [
        "before_program = np.array([75, 80, 85, 70, 90, 78, 92, 88, 82, 87])\n",
        "\n",
        "after_program = np.array([80, 85, 90, 80, 92, 80, 95, 90, 85, 88])"
      ],
      "metadata": {
        "id": "lcXraU8VXjZb"
      },
      "execution_count": 52,
      "outputs": []
    },
    {
      "cell_type": "code",
      "source": [
        "#null hypothesis: marks before <= marks after\n",
        "#alternate hypothesis: marks before > marks after"
      ],
      "metadata": {
        "id": "FTOiL-HTjGhF"
      },
      "execution_count": 53,
      "outputs": []
    },
    {
      "cell_type": "code",
      "source": [
        "zscore, pvalue = ztest(before_program, after_program)\n",
        "zscore, pvalue"
      ],
      "metadata": {
        "colab": {
          "base_uri": "https://localhost:8080/"
        },
        "id": "ZPp-z7-kjZRh",
        "outputId": "5202c62a-cce2-4590-a31e-89d0cc2a5fc1"
      },
      "execution_count": 54,
      "outputs": [
        {
          "output_type": "execute_result",
          "data": {
            "text/plain": [
              "(-1.3600371723457605, 0.17381816101827674)"
            ]
          },
          "metadata": {},
          "execution_count": 54
        }
      ]
    },
    {
      "cell_type": "code",
      "source": [
        "if pvalue <= 0.05:\n",
        "  print(\"Reject the null hypothesis as the student's marks are not improved\")\n",
        "else:\n",
        "  print(\"Failed to reject the null hypothesis as the student's marks are improved\")"
      ],
      "metadata": {
        "colab": {
          "base_uri": "https://localhost:8080/"
        },
        "id": "krTJTjaHjj2h",
        "outputId": "8ef5d63e-0311-48db-d042-f0c67c6c9f0b"
      },
      "execution_count": 55,
      "outputs": [
        {
          "output_type": "stream",
          "name": "stdout",
          "text": [
            "Failed to reject the null hypothesis as the student's marks are improved\n"
          ]
        }
      ]
    },
    {
      "cell_type": "markdown",
      "source": [
        "13) A pharmaceutical company wants to determine if a new drug is effective in reducing blood pressure. They\n",
        "conduct a study and record blood pressure measurements before and after administering the drug.\n",
        "\n",
        "\n",
        "Use the below code to generate samples of respective arrays of blood pressure:\n",
        "\n",
        "\n",
        "```python\n",
        "\n",
        "before_drug = np.array([145, 150, 140, 135, 155, 160, 152, 148, 130, 138])\n",
        "\n",
        "after_drug = np.array([130, 140, 132, 128, 145, 148, 138, 136, 125, 130])\n",
        "\n",
        "  ```\n",
        "\n",
        "\n",
        "Implement z-test to find if the drug really works or not."
      ],
      "metadata": {
        "id": "YNMKnPf3oF3o"
      }
    },
    {
      "cell_type": "code",
      "source": [
        "before_drug = np.array([145, 150, 140, 135, 155, 160, 152, 148, 130, 138])\n",
        "\n",
        "after_drug = np.array([130, 140, 132, 128, 145, 148, 138, 136, 125, 130])"
      ],
      "metadata": {
        "id": "HiqVGRSkj6Rp"
      },
      "execution_count": 56,
      "outputs": []
    },
    {
      "cell_type": "code",
      "source": [
        "#null hypothesis: drug_effect = 0\n",
        "#alternate hypothesis: drug effect != 0"
      ],
      "metadata": {
        "id": "A9tUYr4apzja"
      },
      "execution_count": 57,
      "outputs": []
    },
    {
      "cell_type": "code",
      "source": [
        "zscore , pvalue = ztest(before_drug, after_drug)"
      ],
      "metadata": {
        "id": "QEl9CkMcRZIm"
      },
      "execution_count": 58,
      "outputs": []
    },
    {
      "cell_type": "code",
      "source": [
        "if pvalue <= 0.05:\n",
        "  print(\"Reject the null hypothesis as there is significant effect in blood pressure\")\n",
        "else:\n",
        "  print(\"Failed to reject null hypothesis as there is no significant effect in blood pressure\")"
      ],
      "metadata": {
        "colab": {
          "base_uri": "https://localhost:8080/"
        },
        "id": "BQT1yubXRhvp",
        "outputId": "39bc4f46-3ec8-41e4-8d57-b194fba0c3d2"
      },
      "execution_count": 59,
      "outputs": [
        {
          "output_type": "stream",
          "name": "stdout",
          "text": [
            "Reject the null hypothesis as there is significant effect in blood pressure\n"
          ]
        }
      ]
    },
    {
      "cell_type": "markdown",
      "source": [
        "14) A customer service department claims that their average response time is less than 5 minutes. A sample\n",
        "of recent customer interactions was taken, and the response times were recorded.\n",
        "\n",
        "\n",
        "Implement the below code to generate the array of response time:\n",
        "\n",
        "```python\n",
        "\n",
        "response_times = np.array([4.3, 3.8, 5.1, 4.9, 4.7, 4.2, 5.2, 4.5, 4.6, 4.4])\n",
        "\n",
        "```\n",
        "\n",
        "Implement z-test to find the claims made by customer service department are tru or false."
      ],
      "metadata": {
        "id": "u_kG_YI2TSJj"
      }
    },
    {
      "cell_type": "code",
      "source": [
        "response_times = np.array([4.3, 3.8, 5.1, 4.9, 4.7, 4.2, 5.2, 4.5, 4.6, 4.4])"
      ],
      "metadata": {
        "id": "Qza71TshTrMC"
      },
      "execution_count": 60,
      "outputs": []
    },
    {
      "cell_type": "code",
      "source": [
        "#null hypothesis: response time >= 5 min\n",
        "#alternate hypothesis : response time < 5 min"
      ],
      "metadata": {
        "id": "aRb4dOh1SCKE"
      },
      "execution_count": 61,
      "outputs": []
    },
    {
      "cell_type": "code",
      "source": [
        "zscore, pvalue = ztest(response_times)"
      ],
      "metadata": {
        "id": "LGPHXcZbTpRm"
      },
      "execution_count": 62,
      "outputs": []
    },
    {
      "cell_type": "code",
      "source": [
        "if pvalue <= 0.05:\n",
        "  print(\"Reject the null hypothesis as the response time is less than 5 minutes.\")\n",
        "else:\n",
        "  print(\"Failed to reject the null the null hypothesis as the response time is greater or equal to 5 minutes.\")"
      ],
      "metadata": {
        "colab": {
          "base_uri": "https://localhost:8080/"
        },
        "id": "RHpOGDuFTyQG",
        "outputId": "e4416d54-1045-4320-b828-9962b644f336"
      },
      "execution_count": 63,
      "outputs": [
        {
          "output_type": "stream",
          "name": "stdout",
          "text": [
            "Reject the null hypothesis as the response time is less than 5 minutes.\n"
          ]
        }
      ]
    },
    {
      "cell_type": "markdown",
      "source": [
        "15) A company is testing two different website layouts to see which one leads to higher click-through rates.\n",
        "Write a Python function to perform an A/B test analysis, including calculating the t-statistic, degrees of\n",
        "freedom, and p-value.\n",
        "\n",
        "\n",
        "Use the following data:\n",
        "\n",
        "```python\n",
        "\n",
        "layout_a_clicks = [28, 32, 33, 29, 31, 34, 30, 35, 36, 37]\n",
        "\n",
        "layout_b_clicks = [40, 41, 38, 42, 39, 44, 43, 41, 45, 47]"
      ],
      "metadata": {
        "id": "EQ-LhxLSfdI_"
      }
    },
    {
      "cell_type": "code",
      "source": [
        "layout_a_clicks = [28, 32, 33, 29, 31, 34, 30, 35, 36, 37]\n",
        "\n",
        "layout_b_clicks = [40, 41, 38, 42, 39, 44, 43, 41, 45, 47]"
      ],
      "metadata": {
        "id": "zSHUSdZdfyhO"
      },
      "execution_count": 64,
      "outputs": []
    },
    {
      "cell_type": "code",
      "source": [
        "def A_b_test(layout_a_clicks, layout_b_clicks):\n",
        " t_stat , pvalue = stats.ttest_ind(layout_a_clicks, layout_b_clicks)\n",
        " return t_stat, pvalue\n",
        "\n",
        "A_B_test = A_b_test(layout_a_clicks, layout_b_clicks)\n",
        "\n",
        "a = len(layout_a_clicks)\n",
        "b = len(layout_b_clicks)\n",
        "df = (a+b) - 2\n",
        "\n",
        "print(\"T-statistics and p-value of the given data is:\",A_B_test)\n",
        "print(\"Degree of freedom of the given data is:\",df)"
      ],
      "metadata": {
        "colab": {
          "base_uri": "https://localhost:8080/"
        },
        "id": "R3FOAFL9jWYN",
        "outputId": "b4fe64df-c239-4333-d7de-5948ab21d279"
      },
      "execution_count": 65,
      "outputs": [
        {
          "output_type": "stream",
          "name": "stdout",
          "text": [
            "T-statistics and p-value of the given data is: (-7.298102156175071, 8.833437608301987e-07)\n",
            "Degree of freedom of the given data is: 18\n"
          ]
        }
      ]
    },
    {
      "cell_type": "markdown",
      "source": [
        "16) A pharmaceutical company wants to determine if a new drug is more effective than an existing drug in\n",
        "reducing cholesterol levels. Create a program to analyze the clinical trial data and calculate the tstatistic and p-value for the treatment effect.\n",
        "\n",
        "\n",
        "Use the following data of cholestrol level:\n",
        "\n",
        "```python\n",
        "\n",
        "existing_drug_levels = [180, 182, 175, 185, 178, 176, 172, 184, 179, 183]\n",
        "\n",
        "new_drug_levels = [170, 172, 165, 168, 175, 173, 170, 178, 172, 176]\n",
        "```"
      ],
      "metadata": {
        "id": "XfmtNodMnj05"
      }
    },
    {
      "cell_type": "code",
      "source": [
        "existing_drug_levels = [180, 182, 175, 185, 178, 176, 172, 184, 179, 183]\n",
        "\n",
        "new_drug_levels = [170, 172, 165, 168, 175, 173, 170, 178, 172, 176]"
      ],
      "metadata": {
        "id": "hDHshEfBjdHA"
      },
      "execution_count": 66,
      "outputs": []
    },
    {
      "cell_type": "code",
      "source": [
        "#null hypothesis: cholestrol level after taking new drug = 0\n",
        "#alternate hypothesis: cholestrol level after taking new drug != 0"
      ],
      "metadata": {
        "id": "8vkh6g-Ls5Z8"
      },
      "execution_count": 67,
      "outputs": []
    },
    {
      "cell_type": "code",
      "source": [
        "def drug_eff(existing_drug_levels,new_drug_levels):\n",
        "  t_stat, pvalue = stats.ttest_ind(existing_drug_levels,new_drug_levels)\n",
        "  return t_stat, pvalue\n",
        "\n",
        "drug_effect = drug_eff(existing_drug_levels,new_drug_levels)\n",
        "print(\"T-statistics and p-value of the given dataset is:\", drug_effect)\n",
        "\n",
        "if pvalue <= 0.05:\n",
        "  print(\"Reject the null hypothesis as the cholestrol level is decreased significantly\")\n",
        "else:\n",
        "  print(\"Failed to Reject the null hypothesis as the cholestrol level is not decreased.\")"
      ],
      "metadata": {
        "colab": {
          "base_uri": "https://localhost:8080/"
        },
        "id": "VY2SMi82ozSe",
        "outputId": "d1552f37-fcdb-4329-8b81-346ffc5c0228"
      },
      "execution_count": 68,
      "outputs": [
        {
          "output_type": "stream",
          "name": "stdout",
          "text": [
            "T-statistics and p-value of the given dataset is: (4.14048098620866, 0.0006143398442372505)\n",
            "Reject the null hypothesis as the cholestrol level is decreased significantly\n"
          ]
        }
      ]
    },
    {
      "cell_type": "markdown",
      "source": [
        "17) A school district introduces an educational intervention program to improve math scores. Write a Python\n",
        "function to analyze pre- and post-intervention test scores, calculating the t-statistic and p-value to\n",
        "determine if the intervention had a significant impact.\n",
        "\n",
        "\n",
        "Use the following data of test score:\n",
        "\n",
        "\n",
        "  ```python\n",
        "\n",
        "  pre_intervention_scores = [80, 85, 90, 75, 88, 82, 92, 78, 85, 87]\n",
        "\n",
        "  post_intervention_scores = [90, 92, 88, 92, 95, 91, 96, 93, 89, 93]\n",
        "  ```"
      ],
      "metadata": {
        "id": "__zJ_-DuvJjU"
      }
    },
    {
      "cell_type": "code",
      "source": [
        "pre_intervention_scores = [80, 85, 90, 75, 88, 82, 92, 78, 85, 87]\n",
        "\n",
        "post_intervention_scores = [90, 92, 88, 92, 95, 91, 96, 93, 89, 93]"
      ],
      "metadata": {
        "id": "82zs0zcN-mCB"
      },
      "execution_count": 69,
      "outputs": []
    },
    {
      "cell_type": "code",
      "source": [
        "# null hypothesis: math score <=   ,after intervention program\n",
        "# alternate hypothesis : math score > ,after intervention program"
      ],
      "metadata": {
        "id": "BmwqvPqVu8Gn"
      },
      "execution_count": 70,
      "outputs": []
    },
    {
      "cell_type": "code",
      "source": [
        "def inter_pro(pre_intervention_scores,post_intervention_scores):\n",
        "  t_stat, pvalue = stats.ttest_ind(pre_intervention_scores,post_intervention_scores)\n",
        "  return t_stat, pvalue\n",
        "\n",
        "inter_proga = inter_pro(pre_intervention_scores,post_intervention_scores)\n",
        "print(\"T-statistics and p-value of the given data is:\",inter_proga)\n",
        "\n",
        "if pvalue <= 0.05:\n",
        "  print(\"Reject the null hypothesis as the score has improved significantly\")\n",
        "else:\n",
        "  print(\"Failed to reject the null hypothesis as the score are not improved significantly\")"
      ],
      "metadata": {
        "id": "pkoYzm7-tKpX",
        "colab": {
          "base_uri": "https://localhost:8080/"
        },
        "outputId": "c0a4e5be-fc30-4dd7-d946-145277a60fb6"
      },
      "execution_count": 71,
      "outputs": [
        {
          "output_type": "stream",
          "name": "stdout",
          "text": [
            "T-statistics and p-value of the given data is: (-4.080355128162116, 0.0007022570725706455)\n",
            "Reject the null hypothesis as the score has improved significantly\n"
          ]
        }
      ]
    },
    {
      "cell_type": "markdown",
      "source": [
        "18) An HR department wants to investigate if there's a gender-based salary gap within the company. Develop\n",
        "a program to analyze salary data, calculate the t-statistic, and determine if there's a statistically\n",
        "significant difference between the average salaries of male and female employees.\n",
        "\n",
        "\n",
        "Use the below code to generate synthetic data:\n",
        "\n",
        "\n",
        "```python\n",
        "\n",
        "# Generate synthetic salary data for male and female employees\n",
        "\n",
        "np.random.seed(0)  # For reproducibility\n",
        "\n",
        "male_salaries = np.random.normal(loc=50000, scale=10000, size=20)\n",
        "\n",
        "female_salaries = np.random.normal(loc=55000, scale=9000, size=20)\n",
        "```"
      ],
      "metadata": {
        "id": "7QEqi_cHAVm4"
      }
    },
    {
      "cell_type": "code",
      "source": [
        "np.random.seed(0)\n",
        "male_salaries = np.random.normal(loc=50000, scale=10000, size=20)\n",
        "female_salaries = np.random.normal(loc=55000, scale=9000, size=20)"
      ],
      "metadata": {
        "id": "XEVO_dqu-1ZM"
      },
      "execution_count": 72,
      "outputs": []
    },
    {
      "cell_type": "code",
      "source": [
        "# null hypothesis: male emp salary = female emp salary\n",
        "# alternate hypothesis: male emp salary != female emp salary"
      ],
      "metadata": {
        "id": "bmGYZCzJAwhX"
      },
      "execution_count": 73,
      "outputs": []
    },
    {
      "cell_type": "code",
      "source": [
        "def company_salary(male_salaries, female_salaries):\n",
        "  t_stat, pvalue = stats.ttest_ind(male_salaries, female_salaries)\n",
        "  return t_stat, pvalue\n",
        "\n",
        "com_sal = company_salary(male_salaries, female_salaries)\n",
        "print(\"T-statistics and p-value of the given data is:\",com_sal)\n",
        "\n",
        "if pvalue <= 0.05:\n",
        "  print(\"Reject the null hypothesis, as there is significant difference between male and female salary\")\n",
        "else:\n",
        "  print(\"Failed to reject the null hypothesis\")"
      ],
      "metadata": {
        "colab": {
          "base_uri": "https://localhost:8080/"
        },
        "id": "QGBZPXgdBohB",
        "outputId": "935d50f1-bddb-4bb0-9213-ef74712547a1"
      },
      "execution_count": 74,
      "outputs": [
        {
          "output_type": "stream",
          "name": "stdout",
          "text": [
            "T-statistics and p-value of the given data is: (0.06114208969631383, 0.9515665020676465)\n",
            "Reject the null hypothesis, as there is significant difference between male and female salary\n"
          ]
        }
      ]
    },
    {
      "cell_type": "markdown",
      "source": [
        "19) A manufacturer produces two different versions of a product and wants to compare their quality scores.\n",
        "Create a Python function to analyze quality assessment data, calculate the t-statistic, and decide\n",
        "whether there's a significant difference in quality between the two versions.\n",
        "\n",
        "\n",
        "Use the following data:\n",
        "\n",
        "\n",
        "```python\n",
        "\n",
        "version1_scores = [85, 88, 82, 89, 87, 84, 90, 88, 85, 86, 91, 83, 87, 84, 89, 86, 84, 88, 85, 86, 89, 90, 87, 88, 85]\n",
        "\n",
        "version2_scores = [80, 78, 83, 81, 79, 82, 76, 80, 78, 81, 77, 82, 80, 79, 82, 79, 80, 81, 79, 82, 79, 78, 80, 81, 82]\n",
        "```"
      ],
      "metadata": {
        "id": "pTN3lM9qFSad"
      }
    },
    {
      "cell_type": "code",
      "source": [
        "version1_scores = [85, 88, 82, 89, 87, 84, 90, 88, 85, 86, 91, 83, 87, 84, 89, 86, 84, 88, 85, 86, 89, 90, 87, 88, 85]\n",
        "\n",
        "version2_scores = [80, 78, 83, 81, 79, 82, 76, 80, 78, 81, 77, 82, 80, 79, 82, 79, 80, 81, 79, 82, 79, 78, 80, 81, 82]"
      ],
      "metadata": {
        "id": "IlmfBOV6FXOm"
      },
      "execution_count": 75,
      "outputs": []
    },
    {
      "cell_type": "code",
      "source": [
        "# null hypothesis: version1_scores = version2_scores\n",
        "# alternate hypothesis: version1_scores != version2_scores"
      ],
      "metadata": {
        "id": "w3bAo8KBFcNK"
      },
      "execution_count": 76,
      "outputs": []
    },
    {
      "cell_type": "code",
      "source": [
        "def ver_sco(version1_scores, version2_scores):\n",
        "  t_stat, pvalue = stats.ttest_ind(version1_scores, version2_scores)\n",
        "  return t_stat, pvalue\n",
        "\n",
        "version_sco = ver_sco(version1_scores, version2_scores)\n",
        "print(\"T-statistics and p-value of the given data is:\",com_sal)\n",
        "\n",
        "if pvalue <= 0.05:\n",
        "  print(\"Reject the null hypothesis, as there is significant difference between version1_scores and version1_scores\")\n",
        "else:\n",
        "  print(\"Failed to reject the null hypothesis\")"
      ],
      "metadata": {
        "colab": {
          "base_uri": "https://localhost:8080/"
        },
        "id": "fO7VzhsTFzhm",
        "outputId": "868cedd7-2b3d-4ff3-de37-e5257377d37a"
      },
      "execution_count": 77,
      "outputs": [
        {
          "output_type": "stream",
          "name": "stdout",
          "text": [
            "T-statistics and p-value of the given data is: (0.06114208969631383, 0.9515665020676465)\n",
            "Reject the null hypothesis, as there is significant difference between version1_scores and version1_scores\n"
          ]
        }
      ]
    },
    {
      "cell_type": "markdown",
      "source": [
        " 20. A restaurant chain collects customer satisfaction scores for two different branches. Write a program to\n",
        "analyze the scores, calculate the t-statistic, and determine if there's a statistically significant difference in\n",
        "customer satisfaction between the branches.\n",
        "\n",
        "\n",
        "Use the below data of scores:\n",
        "\n",
        "  ```python\n",
        "\n",
        "branch_a_scores = [4, 5, 3, 4, 5, 4, 5, 3, 4, 4, 5, 4, 4, 3, 4, 5, 5, 4, 3, 4, 5, 4, 3, 5, 4, 4, 5, 3, 4, 5, 4]\n",
        "\n",
        "branch_b_scores = [3, 4, 2, 3, 4, 3, 4, 2, 3, 3, 4, 3, 3, 2, 3, 4, 4, 3, 2, 3, 4, 3, 2, 4, 3, 3, 4, 2, 3, 4, 3]\n",
        "```"
      ],
      "metadata": {
        "id": "p4E98Nt7NwPs"
      }
    },
    {
      "cell_type": "code",
      "source": [
        "branch_a_scores = [4, 5, 3, 4, 5, 4, 5, 3, 4, 4, 5, 4, 4, 3, 4, 5, 5, 4, 3, 4, 5, 4, 3, 5, 4, 4, 5, 3, 4, 5, 4]\n",
        "\n",
        "branch_b_scores = [3, 4, 2, 3, 4, 3, 4, 2, 3, 3, 4, 3, 3, 2, 3, 4, 4, 3, 2, 3, 4, 3, 2, 4, 3, 3, 4, 2, 3, 4, 3]"
      ],
      "metadata": {
        "id": "-PmsAo7zGUpH"
      },
      "execution_count": 78,
      "outputs": []
    },
    {
      "cell_type": "code",
      "source": [
        "# null hypothesis: cust_satis_branch_a = cust_satis_branch_b\n",
        "# hypothesis hypothesis: cust_satis_branch_a != cust_satis_branch_b"
      ],
      "metadata": {
        "id": "laVByUldN5YU"
      },
      "execution_count": 79,
      "outputs": []
    },
    {
      "cell_type": "code",
      "source": [
        "def cust_satis(branch_a_scores, branch_b_scores):\n",
        "  t_stat, pvalue = stats.ttest_ind(branch_a_scores, branch_b_scores)\n",
        "  return t_stat, pvalue\n",
        "\n",
        "custom_satis = cust_satis(branch_a_scores, branch_b_scores)\n",
        "print(\"T-statistics and p-value of the given data is:\",custom_satis)\n",
        "\n",
        "if pvalue <= 0.05:\n",
        "  print(\"Reject the null hypothesis, as the satisfaction level the branches are not same.\")\n",
        "else:\n",
        "  print(\"Failed to reject the null hypothesis\")"
      ],
      "metadata": {
        "colab": {
          "base_uri": "https://localhost:8080/"
        },
        "id": "EyRLxerUOrFa",
        "outputId": "8d9deb5f-c829-447a-d39e-07c25ab82389"
      },
      "execution_count": 80,
      "outputs": [
        {
          "output_type": "stream",
          "name": "stdout",
          "text": [
            "T-statistics and p-value of the given data is: (5.480077554195743, 8.895290509945655e-07)\n",
            "Reject the null hypothesis, as the satisfaction level the branches are not same.\n"
          ]
        }
      ]
    },
    {
      "cell_type": "markdown",
      "source": [
        "21) A political analyst wants to determine if there is a significant association between age groups and voter\n",
        "preferences (Candidate A or Candidate B). They collect data from a sample of 500 voters and classify\n",
        "them into different age groups and candidate preferences. Perform a Chi-Square test to determine if\n",
        "there is a significant association between age groups and voter preferences.\n",
        "\n",
        "\n",
        "Use the below code to generate data:\n",
        "\n",
        "```python\n",
        "\n",
        "np.random.seed(0)\n",
        "\n",
        "age_groups = np.random.choice([ 18 30 , 31 50 , 51+', 51+'], size=30)\n",
        "\n",
        "voter_preferences = np.random.choice(['Candidate A', 'Candidate B'], size=30)\n",
        "```"
      ],
      "metadata": {
        "id": "DJYttBewPmQB"
      }
    },
    {
      "cell_type": "code",
      "source": [
        "np.random.seed(0)\n",
        "age_groups = np.random.choice([ '18-30' , '31-50' , '51+', '51+'], size=30)\n",
        "\n",
        "voter_preferences = np.random.choice(['Candidate A', 'Candidate B'], size=30)"
      ],
      "metadata": {
        "id": "jxENB-WmPYsA"
      },
      "execution_count": 81,
      "outputs": []
    },
    {
      "cell_type": "code",
      "source": [
        "# null hypothesis: Age group and voter preference are dependent\n",
        "# alternate hypothesis: Age group and voter preference are independent"
      ],
      "metadata": {
        "id": "ERy_K6uQVnBz"
      },
      "execution_count": 82,
      "outputs": []
    },
    {
      "cell_type": "code",
      "source": [
        "data = pd.DataFrame({\n",
        "    'Age_group': age_groups,\n",
        "    'Voter_preference': voter_preferences\n",
        "})"
      ],
      "metadata": {
        "id": "TB-BvgX3QwEA"
      },
      "execution_count": 83,
      "outputs": []
    },
    {
      "cell_type": "code",
      "source": [
        "contingency_table = pd.crosstab(data['Age_group'],data['Voter_preference'])"
      ],
      "metadata": {
        "id": "riX_rFStR_WU"
      },
      "execution_count": 84,
      "outputs": []
    },
    {
      "cell_type": "code",
      "source": [
        "chi_2_stat, pvalue, dof , expected = stats.chi2_contingency(contingency_table)\n",
        "print(\"Contingency_Table:\\n\",contingency_table)\n",
        "print(\"\\nChi2_stat:\",chi_2_stat)\n",
        "print(\"\\nP-value:\",pvalue)\n",
        "print(\"\\nDoF:\",dof)\n",
        "print(\"\\nExpected Value:\\n\",expected)\n",
        "\n",
        "if pvalue <= 0.05:\n",
        "  print(\"Reject the null hypothesis, as Age group and voter preference are independent\")\n",
        "else:\n",
        "  print(\"\\nFailed to reject the null hypothesis,as Age group and voter preference are dependent\")"
      ],
      "metadata": {
        "colab": {
          "base_uri": "https://localhost:8080/"
        },
        "id": "pokQ2NYCSUp-",
        "outputId": "56b47587-f7d2-49f1-efbe-5a460983b6cc"
      },
      "execution_count": 85,
      "outputs": [
        {
          "output_type": "stream",
          "name": "stdout",
          "text": [
            "Contingency_Table:\n",
            " Voter_preference  Candidate A  Candidate B\n",
            "Age_group                                 \n",
            "18-30                       2            6\n",
            "31-50                       4            4\n",
            "51+                         5            9\n",
            "\n",
            "Chi2_stat: 1.086807928913192\n",
            "\n",
            "P-value: 0.5807679703526951\n",
            "\n",
            "DoF: 2\n",
            "\n",
            "Expected Value:\n",
            " [[2.93333333 5.06666667]\n",
            " [2.93333333 5.06666667]\n",
            " [5.13333333 8.86666667]]\n",
            "\n",
            "Failed to reject the null hypothesis,as Age group and voter preference are dependent\n"
          ]
        }
      ]
    },
    {
      "cell_type": "markdown",
      "source": [
        " 22. A company conducted a customer satisfaction survey to determine if there is a significant relationship\n",
        "between product satisfaction levels (Satisfied, Neutral, Dissatisfied) and the region where customers are\n",
        "located (East, West, North, South). The survey data is summarized in a contingency table. Conduct a ChiSquare test to determine if there is a significant relationship between product satisfaction levels and\n",
        "customer regions.\n",
        "\n",
        "\n",
        "Sample data:\n",
        "\n",
        "```python\n",
        "\n",
        "#Sample data: Product satisfaction levels (rows) vs. Customer regions (columns)\n",
        "\n",
        "data = np.array([[50, 30, 40, 20], [30, 40, 30, 50], [20, 30, 40, 30]])\n",
        "\n",
        "```\n",
        "\n"
      ],
      "metadata": {
        "id": "nIRisI9YWkeE"
      }
    },
    {
      "cell_type": "code",
      "source": [
        "# null hypothesis: The distribution of product satisfaction levels (Satisfied, Neutral, Dissatisfied) is dependent of the region (East, West, North, South).\n",
        "# alternate hypothesis: The distribution of product satisfaction levels (Satisfied, Neutral, Dissatisfied) is independent on the region (East, West, North, South)."
      ],
      "metadata": {
        "id": "AvzYmPOtZCmS"
      },
      "execution_count": 86,
      "outputs": []
    },
    {
      "cell_type": "code",
      "source": [
        "data = np.array([[50, 30, 40, 20], [30, 40, 30, 50], [20, 30, 40, 30]])\n",
        "\n",
        "chi_2_stat, pvalue, dof , expected = stats.chi2_contingency(data)\n",
        "print(\"\\nChi2_stat:\",chi_2_stat)\n",
        "print(\"\\nP-value:\",pvalue)\n",
        "print(\"\\nDoF:\",dof)\n",
        "print(\"\\nExpected Value:\\n\",expected)\n",
        "\n",
        "if pvalue <= 0.05:\n",
        "  print(\"\\nReject the null hypothesis, as the distribution of product satisfaction levels (Satisfied, Neutral, Dissatisfied) is independent on the region (East, West, North, South).\")\n",
        "else:\n",
        "  print(\"\\nFailed to reject the null hypothesis,as the distribution of product satisfaction levels (Satisfied, Neutral, Dissatisfied) is dependent of the region (East, West, North, South).\")"
      ],
      "metadata": {
        "colab": {
          "base_uri": "https://localhost:8080/"
        },
        "id": "HUepZnbIWkGA",
        "outputId": "8f16b41c-b05e-401e-ac6e-c0cd1d413d93"
      },
      "execution_count": 101,
      "outputs": [
        {
          "output_type": "stream",
          "name": "stdout",
          "text": [
            "\n",
            "Chi2_stat: 27.777056277056275\n",
            "\n",
            "P-value: 0.00010349448486004387\n",
            "\n",
            "DoF: 6\n",
            "\n",
            "Expected Value:\n",
            " [[34.14634146 34.14634146 37.56097561 34.14634146]\n",
            " [36.58536585 36.58536585 40.24390244 36.58536585]\n",
            " [29.26829268 29.26829268 32.19512195 29.26829268]]\n",
            "\n",
            "Reject the null hypothesis, as the distribution of product satisfaction levels (Satisfied, Neutral, Dissatisfied) is independent on the region (East, West, North, South).\n"
          ]
        }
      ]
    },
    {
      "cell_type": "markdown",
      "source": [
        "23. A company implemented an employee training program to improve job performance (Effective, Neutral,\n",
        "Ineffective). After the training, they collected data from a sample of employees and classified them based\n",
        "on their job performance before and after the training. Perform a Chi-Square test to determine if there is a\n",
        "significant difference between job performance levels before and after the training.\n",
        "\n",
        "\n",
        "Sample data:\n",
        "\n",
        "```python\n",
        "\n",
        "# Sample data: Job performance levels before (rows) and after (columns) training\n",
        "\n",
        "data = np.array([[50, 30, 20], [30, 40, 30], [20, 30, 40]])\n",
        "```"
      ],
      "metadata": {
        "id": "aDPonv27wc0R"
      }
    },
    {
      "cell_type": "code",
      "source": [
        "data = np.array([[50, 30, 20], [30, 40, 30], [20, 30, 40]])"
      ],
      "metadata": {
        "id": "k9f7dec3S4M0"
      },
      "execution_count": 88,
      "outputs": []
    },
    {
      "cell_type": "code",
      "source": [
        "#null hypothesis: before training = after training\n",
        "#alternate hypothesis: before training != after training"
      ],
      "metadata": {
        "id": "rtgw6AQ9wlZp"
      },
      "execution_count": 89,
      "outputs": []
    },
    {
      "cell_type": "code",
      "source": [
        "data = np.array([[50, 30, 20],\n",
        "                 [30, 40, 30],\n",
        "                 [20, 30, 40]])\n",
        "\n",
        "chi_2_stat, pvalue, dof , expected = stats.chi2_contingency(data)\n",
        "print(\"\\nChi2_stat:\",chi_2_stat)\n",
        "print(\"\\nP-value:\",pvalue)\n",
        "print(\"\\nDoF:\",dof)\n",
        "print(\"\\nExpected Value:\\n\",expected)\n",
        "\n",
        "if pvalue <= 0.05:\n",
        "  print(\"\\nReject the null hypothesis, as there is significant difference between before and after training.\")\n",
        "else:\n",
        "  print(\"\\nFailed to reject the null hypothesis,as there is no significant difference between before and after training.\")"
      ],
      "metadata": {
        "colab": {
          "base_uri": "https://localhost:8080/"
        },
        "id": "1B0gGDpVw9yI",
        "outputId": "be48fb5c-3377-49d2-c6a0-cfa89b4b6970"
      },
      "execution_count": 91,
      "outputs": [
        {
          "output_type": "stream",
          "name": "stdout",
          "text": [
            "\n",
            "Chi2_stat: 22.161728395061726\n",
            "\n",
            "P-value: 0.00018609719479882557\n",
            "\n",
            "DoF: 4\n",
            "\n",
            "Expected Value:\n",
            " [[34.48275862 34.48275862 31.03448276]\n",
            " [34.48275862 34.48275862 31.03448276]\n",
            " [31.03448276 31.03448276 27.93103448]]\n",
            "\n",
            "Reject the null hypothesis, as there is significant difference between before and after training.\n"
          ]
        }
      ]
    },
    {
      "cell_type": "markdown",
      "source": [
        " 24. A company produces three different versions of a product: Standard, Premium, and Deluxe. The\n",
        "company wants to determine if there is a significant difference in customer satisfaction scores among the\n",
        "three product versions. They conducted a survey and collected customer satisfaction scores for each\n",
        "version from a random sample of customers. Perform an ANOVA test to determine if there is a significant\n",
        "difference in customer satisfaction scores.\n",
        "\n",
        "\n",
        "  Use the following data:\n",
        "\n",
        "  ```python\n",
        "\n",
        "  # Sample data: Customer satisfaction scores for each product version\n",
        "\n",
        "  standard_scores = [80, 85, 90, 78, 88, 82, 92, 78, 85, 87]\n",
        "\n",
        "  premium_scores = [90, 92, 88, 92, 95, 91, 96, 93, 89, 93]\n",
        "\n",
        "  deluxe_scores = [95, 98, 92, 97, 96, 94, 98, 97, 92, 99]\n",
        "  ```"
      ],
      "metadata": {
        "id": "ge542_gmyeRq"
      }
    },
    {
      "cell_type": "code",
      "source": [
        "#null hypothesis: there is no significant difference in customer satisfaction scores.\n",
        "#alternate hypothesis: there is significant difference in customer satisfaction scores."
      ],
      "metadata": {
        "id": "HscSmdUHxXfu"
      },
      "execution_count": 92,
      "outputs": []
    },
    {
      "cell_type": "code",
      "source": [
        "standard_scores = [80, 85, 90, 78, 88, 82, 92, 78, 85, 87]\n",
        "\n",
        "premium_scores = [90, 92, 88, 92, 95, 91, 96, 93, 89, 93]\n",
        "\n",
        "deluxe_scores = [95, 98, 92, 97, 96, 94, 98, 97, 92, 99]\n",
        "\n",
        "def anno_test(standard_scores, premium_scores, deluxe_scores):\n",
        "  f_stat, pvalue = stats.f_oneway(standard_scores, premium_scores, deluxe_scores)\n",
        "  return f_stat, pvalue\n",
        "\n",
        "Annova_test = anno_test(standard_scores, premium_scores, deluxe_scores)\n",
        "print(\"The f_statistics and p value of the given data is:\",Annova_test)\n",
        "\n",
        "if pvalue <= 0.05:\n",
        "  print(\"Reject the null hypothesis,as there is significant difference in customer satisfaction scores.\")\n",
        "else:\n",
        "  print(\"Failed to reject the null hypothesis, as there is no significant difference in customer satisfaction scores.\")"
      ],
      "metadata": {
        "colab": {
          "base_uri": "https://localhost:8080/"
        },
        "id": "LzD2P43Ty1Ld",
        "outputId": "9abaf223-6105-4995-f738-64022dd76d64"
      },
      "execution_count": 109,
      "outputs": [
        {
          "output_type": "stream",
          "name": "stdout",
          "text": [
            "The f_statistics and p value of the given data is: (27.03556231003039, 3.5786328857349003e-07)\n",
            "Reject the null hypothesis,as there is significant difference in customer satisfaction scores.\n"
          ]
        }
      ]
    }
  ]
}