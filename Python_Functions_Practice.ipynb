{
  "nbformat": 4,
  "nbformat_minor": 0,
  "metadata": {
    "colab": {
      "provenance": [],
      "include_colab_link": true
    },
    "kernelspec": {
      "name": "python3",
      "display_name": "Python 3"
    },
    "language_info": {
      "name": "python"
    }
  },
  "cells": [
    {
      "cell_type": "markdown",
      "metadata": {
        "id": "view-in-github",
        "colab_type": "text"
      },
      "source": [
        "<a href=\"https://colab.research.google.com/github/aditya-0503/python-assignment/blob/main/Python_Functions_Practice.ipynb\" target=\"_parent\"><img src=\"https://colab.research.google.com/assets/colab-badge.svg\" alt=\"Open In Colab\"/></a>"
      ]
    },
    {
      "cell_type": "markdown",
      "source": [
        "#### 1.Write a Python function check the number is prime or not?"
      ],
      "metadata": {
        "id": "PoT3Ns6bzMHX"
      }
    },
    {
      "cell_type": "code",
      "execution_count": 2,
      "metadata": {
        "id": "iibYzGGtzH4C",
        "outputId": "9dfa9803-918a-45db-b315-d36ad95804d9",
        "colab": {
          "base_uri": "https://localhost:8080/"
        }
      },
      "outputs": [
        {
          "output_type": "stream",
          "name": "stdout",
          "text": [
            "True\n",
            "False\n",
            "False\n",
            "True\n"
          ]
        }
      ],
      "source": [
        "def is_prime(number):\n",
        "  \"\"\"check if a number is prime\"\"\"\n",
        "  if number <= 1:\n",
        "    return False\n",
        "  if number <= 3:\n",
        "    return True\n",
        "  if number %2 == 0 or number %3 ==0:\n",
        "    return False\n",
        "  i = 5\n",
        "  while i*i <= number:\n",
        "    if number %i == 0 or number % (i+2) == 0:\n",
        "      return False\n",
        "    i += 6\n",
        "  return True\n",
        "\n",
        "print(is_prime(7))\n",
        "print(is_prime(161))\n",
        "print(is_prime(296))\n",
        "print(is_prime(347))\n"
      ]
    },
    {
      "cell_type": "markdown",
      "source": [
        "#### 2.Write a Python function string is palindrome or not?"
      ],
      "metadata": {
        "id": "oAoEH4GYzQ3S"
      }
    },
    {
      "cell_type": "code",
      "source": [
        "def is_palindrome(s):\n",
        "   s = s.lower()\n",
        "   s = ''.join(char for char in s if char.isalnum())\n",
        "   return s == s[::-1]"
      ],
      "metadata": {
        "id": "SodMRdGNzRJw"
      },
      "execution_count": 5,
      "outputs": []
    },
    {
      "cell_type": "code",
      "source": [
        "print(is_palindrome(\"radar\"))\n",
        "print(is_palindrome(\"hello\"))"
      ],
      "metadata": {
        "id": "bJFbsXnI3DRI",
        "outputId": "31e0f602-d9ab-43dd-ff48-051c7fc953e7",
        "colab": {
          "base_uri": "https://localhost:8080/"
        }
      },
      "execution_count": 6,
      "outputs": [
        {
          "output_type": "stream",
          "name": "stdout",
          "text": [
            "True\n",
            "False\n"
          ]
        }
      ]
    },
    {
      "cell_type": "markdown",
      "source": [
        "#### 3. Write a Python function Print 7 Pascal's triangle."
      ],
      "metadata": {
        "id": "17MlAlemzftA"
      }
    },
    {
      "cell_type": "code",
      "source": [
        "def print_pascal_triangle(rows):\n",
        "    \"\"\"\n",
        "    Print the first 'rows' rows of Pascal's triangle.\n",
        "\n",
        "    Parameters:\n",
        "    rows (int): The number of rows to print.\n",
        "    \"\"\"\n",
        "    for i in range(rows):\n",
        "      coef = 1\n",
        "      print(coef, end = ' ')\n",
        "      for j in range(1, i + 1):\n",
        "        coef = coef * (i - j + 1)// j\n",
        "        print(coef, end = ' ')\n",
        "      print()\n",
        "print_pascal_triangle(7)"
      ],
      "metadata": {
        "id": "346plyxtzf6k",
        "outputId": "52693748-95d0-4e16-c4fe-2ff4a0687cc3",
        "colab": {
          "base_uri": "https://localhost:8080/"
        }
      },
      "execution_count": 10,
      "outputs": [
        {
          "output_type": "stream",
          "name": "stdout",
          "text": [
            "1 \n",
            "1 1 \n",
            "1 2 1 \n",
            "1 3 3 1 \n",
            "1 4 6 4 1 \n",
            "1 5 10 10 5 1 \n",
            "1 6 15 20 15 6 1 \n"
          ]
        }
      ]
    },
    {
      "cell_type": "markdown",
      "source": [
        "4. #### 5.Write a Python function to calculate the harmonic mean\n",
        "\n",
        "HM = n / [1/x1 + 1/x2 + 1/x3 + ... + 1/xn]\n",
        "\n",
        "Here, the total number of observations is divided by the sum of reciprocals of all observations."
      ],
      "metadata": {
        "id": "V_xfOEQvzlP-"
      }
    },
    {
      "cell_type": "code",
      "source": [
        "def harmonic_mean(numbers):\n",
        "    \"\"\"\n",
        "    Calculate the harmonic mean of a list of numbers.\n",
        "\n",
        "    Parameters:\n",
        "    numbers (list): A list of numbers.\n",
        "\n",
        "    Returns:\n",
        "    float: The harmonic mean of the numbers.\n",
        "    \"\"\"\n",
        "    # Check if the list is empty\n",
        "    if len(numbers) == 0:\n",
        "        return None\n",
        "\n",
        "    # Calculate the sum of reciprocals\n",
        "    reciprocal_sum = sum(1 / num for num in numbers)\n",
        "\n",
        "    # Calculate the harmonic mean\n",
        "    return len(numbers) / reciprocal_sum\n",
        "\n",
        "# Test the function\n",
        "data = [1, 2, 3, 4, 5]\n",
        "print(\"Harmonic mean:\", harmonic_mean(data))\n"
      ],
      "metadata": {
        "id": "G3Xm_Wfvz0Tf",
        "outputId": "3372b8d6-f466-46a1-de12-e7a4ee835e84",
        "colab": {
          "base_uri": "https://localhost:8080/"
        }
      },
      "execution_count": 11,
      "outputs": [
        {
          "output_type": "stream",
          "name": "stdout",
          "text": [
            "Harmonic mean: 2.18978102189781\n"
          ]
        }
      ]
    },
    {
      "cell_type": "markdown",
      "source": [
        "#### Types of arguments\n",
        "\n",
        "\n",
        "    1. Required arguments\n",
        "    2. Keyword arguments\n",
        "    3. Default arguments\n",
        "    4. Variable-length arguments"
      ],
      "metadata": {
        "id": "An-bG3Ia0Dwn"
      }
    },
    {
      "cell_type": "markdown",
      "source": [
        "#### 1. Required arguments: (the function calculate returns the sum of two arguments a and b )"
      ],
      "metadata": {
        "id": "QaWwxJgD0ITP"
      }
    },
    {
      "cell_type": "code",
      "source": [
        "def sum1(a,b):\n",
        "    return a+b\n",
        "\n",
        "sum1(3,5)"
      ],
      "metadata": {
        "id": "DMU81ynX0EDx",
        "outputId": "82608688-a606-48d8-8ced-a7ba12cbb005",
        "colab": {
          "base_uri": "https://localhost:8080/"
        }
      },
      "execution_count": 12,
      "outputs": [
        {
          "output_type": "execute_result",
          "data": {
            "text/plain": [
              "8"
            ]
          },
          "metadata": {},
          "execution_count": 12
        }
      ]
    },
    {
      "cell_type": "markdown",
      "source": [
        "#### 2.Keyword arguments:(The function simple_interest(p, t, r) is called with the keyword arguments)\n",
        "\n",
        " P = (100 × S.I.)/(R × T)"
      ],
      "metadata": {
        "id": "ssQeyLoE0KPK"
      }
    },
    {
      "cell_type": "code",
      "source": [
        "def simple_interest(**kwargs):\n",
        "    c = 1\n",
        "    for x,y in kwargs.items():\n",
        "        c = c*y\n",
        "    return c/100\n",
        "\n",
        "simple_interest(p=100,n=5,r=2)"
      ],
      "metadata": {
        "id": "QGsoeae00Kko",
        "outputId": "d011589e-1cf5-4a6b-b9ed-bc38152b4563",
        "colab": {
          "base_uri": "https://localhost:8080/"
        }
      },
      "execution_count": 13,
      "outputs": [
        {
          "output_type": "execute_result",
          "data": {
            "text/plain": [
              "10.0"
            ]
          },
          "metadata": {},
          "execution_count": 13
        }
      ]
    },
    {
      "cell_type": "markdown",
      "source": [
        "#### 3. Default arguments: (the function calculate returns the multiplication of 4 arguments a, b ,c and d. Variable c and d will have default arguments of 45 and 10)"
      ],
      "metadata": {
        "id": "aPe4hgEy0igE"
      }
    },
    {
      "cell_type": "code",
      "source": [
        "def sum2(a, b = 45, c = 10):\n",
        "  return a+ b +c"
      ],
      "metadata": {
        "id": "q9bngT0_0vHa"
      },
      "execution_count": 14,
      "outputs": []
    },
    {
      "cell_type": "code",
      "source": [
        "sum2(9)"
      ],
      "metadata": {
        "id": "l1ezQnky31ni",
        "outputId": "844e7aa4-e6be-4d29-9621-a39ea2a78722",
        "colab": {
          "base_uri": "https://localhost:8080/"
        }
      },
      "execution_count": 15,
      "outputs": [
        {
          "output_type": "execute_result",
          "data": {
            "text/plain": [
              "64"
            ]
          },
          "metadata": {},
          "execution_count": 15
        }
      ]
    },
    {
      "cell_type": "code",
      "source": [],
      "metadata": {
        "id": "KyKW8Flu339-"
      },
      "execution_count": null,
      "outputs": []
    }
  ]
}