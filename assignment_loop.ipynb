{
  "nbformat": 4,
  "nbformat_minor": 0,
  "metadata": {
    "colab": {
      "provenance": [],
      "authorship_tag": "ABX9TyPXnuZB9u1MW+PTYtbvb1O6",
      "include_colab_link": true
    },
    "kernelspec": {
      "name": "python3",
      "display_name": "Python 3"
    },
    "language_info": {
      "name": "python"
    }
  },
  "cells": [
    {
      "cell_type": "markdown",
      "metadata": {
        "id": "view-in-github",
        "colab_type": "text"
      },
      "source": [
        "<a href=\"https://colab.research.google.com/github/aditya-0503/python-assignment/blob/main/assignment_loop.ipynb\" target=\"_parent\"><img src=\"https://colab.research.google.com/assets/colab-badge.svg\" alt=\"Open In Colab\"/></a>"
      ]
    },
    {
      "cell_type": "code",
      "execution_count": null,
      "metadata": {
        "id": "0-2Ix-BnkVbh"
      },
      "outputs": [],
      "source": [
        "#1. Print numbers from 1 to 5 using a while loop."
      ]
    },
    {
      "cell_type": "code",
      "source": [
        "a = 1\n",
        "while a <= 5:\n",
        "  print (a)\n",
        "  a += 1"
      ],
      "metadata": {
        "colab": {
          "base_uri": "https://localhost:8080/"
        },
        "id": "QdexWt5rlhqz",
        "outputId": "3322dffe-5a10-433a-bb1a-83998c909e04"
      },
      "execution_count": null,
      "outputs": [
        {
          "output_type": "stream",
          "name": "stdout",
          "text": [
            "1\n",
            "2\n",
            "3\n",
            "4\n",
            "5\n"
          ]
        }
      ]
    },
    {
      "cell_type": "code",
      "source": [
        "#2. Calculate the sum of numbers from 1 to 10 using a while loop."
      ],
      "metadata": {
        "id": "V1hNT5r2l8co"
      },
      "execution_count": null,
      "outputs": []
    },
    {
      "cell_type": "code",
      "source": [
        "b = 1\n",
        "sum = 0\n",
        "while b <= 10:\n",
        "  sum = sum + b\n",
        "  print (sum)\n",
        "  b = b + 1"
      ],
      "metadata": {
        "colab": {
          "base_uri": "https://localhost:8080/"
        },
        "id": "MkA0qjLPmW34",
        "outputId": "9e63582f-778c-4d71-8c71-a4ba54f2df61"
      },
      "execution_count": null,
      "outputs": [
        {
          "output_type": "stream",
          "name": "stdout",
          "text": [
            "1\n",
            "3\n",
            "6\n",
            "10\n",
            "15\n",
            "21\n",
            "28\n",
            "36\n",
            "45\n",
            "55\n"
          ]
        }
      ]
    },
    {
      "cell_type": "code",
      "source": [
        "#3. Calculate the factorial of a number using a for loop."
      ],
      "metadata": {
        "id": "koy6nRqMnDX-"
      },
      "execution_count": null,
      "outputs": []
    },
    {
      "cell_type": "code",
      "source": [
        "n = int (input(\"enter a number\"))\n",
        "factorial = 1\n",
        "if n >= 1:\n",
        "  for i in range (1,n+1):\n",
        "    factorial *= i\n",
        "print(\"the factorial of the number is\", factorial)"
      ],
      "metadata": {
        "colab": {
          "base_uri": "https://localhost:8080/"
        },
        "id": "es4XlTV5pyc6",
        "outputId": "0a489ff2-93f2-4585-c633-40aeb58f1164"
      },
      "execution_count": null,
      "outputs": [
        {
          "output_type": "stream",
          "name": "stdout",
          "text": [
            "enter a number6\n",
            "the factorial of the number is 720\n"
          ]
        }
      ]
    },
    {
      "cell_type": "code",
      "source": [
        "#4. Count the number of vowels in a string using a for loop."
      ],
      "metadata": {
        "id": "9k9WDEm4t4_a"
      },
      "execution_count": 1,
      "outputs": []
    },
    {
      "cell_type": "code",
      "source": [
        "string = input('Enter the string')\n",
        "count = 0\n",
        "for i in string:\n",
        "  if i == 'a' or i =='e' or i =='i' or i =='o' or i =='u' or i == 'A' or i =='E' or i =='I' or i =='O' or i =='U':\n",
        "    count += 1\n",
        "if count == 0:\n",
        "  print('no vowels found')\n",
        "else:\n",
        "  print('total no of vowels are', count)"
      ],
      "metadata": {
        "colab": {
          "base_uri": "https://localhost:8080/"
        },
        "id": "8_bUWAPbUvRh",
        "outputId": "d4af2d1a-5650-4401-ec03-79e0efeb2ddf"
      },
      "execution_count": 3,
      "outputs": [
        {
          "output_type": "stream",
          "name": "stdout",
          "text": [
            "Enter the stringADItya\n",
            "total no of vowels are 3\n"
          ]
        }
      ]
    },
    {
      "cell_type": "code",
      "source": [
        "#5. Print a pattern using nested loops."
      ],
      "metadata": {
        "id": "ztM__ODkXJCT"
      },
      "execution_count": 4,
      "outputs": []
    },
    {
      "cell_type": "code",
      "source": [
        "row = 5\n",
        "\n",
        "for i in range(1, row + 1):\n",
        "    for j in range(1, i + 1):\n",
        "        print(\"*\",end = \"\")\n",
        "    print()"
      ],
      "metadata": {
        "colab": {
          "base_uri": "https://localhost:8080/"
        },
        "id": "IEk_drBVXgRi",
        "outputId": "9110a9ff-df0a-4f12-b669-4c25dd6e0439"
      },
      "execution_count": 6,
      "outputs": [
        {
          "output_type": "stream",
          "name": "stdout",
          "text": [
            "*\n",
            "**\n",
            "***\n",
            "****\n",
            "*****\n"
          ]
        }
      ]
    },
    {
      "cell_type": "code",
      "source": [
        "#6. Generate a multiplication table using nested loops."
      ],
      "metadata": {
        "id": "YzeuRVeRZwrs"
      },
      "execution_count": 7,
      "outputs": []
    },
    {
      "cell_type": "code",
      "source": [
        "n = int(input('enter a number'))\n",
        "for i in range (1,11):\n",
        "      print ( n*i)"
      ],
      "metadata": {
        "colab": {
          "base_uri": "https://localhost:8080/"
        },
        "id": "DPb3NsKxag_N",
        "outputId": "2c4adc3b-85c0-4d08-9881-af2ff8ab2041"
      },
      "execution_count": 26,
      "outputs": [
        {
          "output_type": "stream",
          "name": "stdout",
          "text": [
            "enter a number99\n",
            "99\n",
            "198\n",
            "297\n",
            "396\n",
            "495\n",
            "594\n",
            "693\n",
            "792\n",
            "891\n",
            "990\n"
          ]
        }
      ]
    },
    {
      "cell_type": "code",
      "source": [],
      "metadata": {
        "id": "CWyzs2hZb446"
      },
      "execution_count": null,
      "outputs": []
    }
  ]
}