{
  "nbformat": 4,
  "nbformat_minor": 0,
  "metadata": {
    "colab": {
      "provenance": [],
      "authorship_tag": "ABX9TyPrCeaW+4uwal1+GVzKZuVY",
      "include_colab_link": true
    },
    "kernelspec": {
      "name": "python3",
      "display_name": "Python 3"
    },
    "language_info": {
      "name": "python"
    }
  },
  "cells": [
    {
      "cell_type": "markdown",
      "metadata": {
        "id": "view-in-github",
        "colab_type": "text"
      },
      "source": [
        "<a href=\"https://colab.research.google.com/github/aditya-0503/python-assignment/blob/main/file_and_exception_handling_assignment.ipynb\" target=\"_parent\"><img src=\"https://colab.research.google.com/assets/colab-badge.svg\" alt=\"Open In Colab\"/></a>"
      ]
    },
    {
      "cell_type": "code",
      "execution_count": null,
      "metadata": {
        "id": "96yQT59e5IZD"
      },
      "outputs": [],
      "source": [
        "#1. Write a code to read the contents of a file in python."
      ]
    },
    {
      "cell_type": "code",
      "source": [
        "file = open(\"file.txt\",'w')"
      ],
      "metadata": {
        "id": "XxAxYP9Y6Ln5"
      },
      "execution_count": null,
      "outputs": []
    },
    {
      "cell_type": "code",
      "source": [
        "file.write(\"hey, wass up!! I am missing you\")"
      ],
      "metadata": {
        "colab": {
          "base_uri": "https://localhost:8080/"
        },
        "id": "xZvUWk3X6Scc",
        "outputId": "a0272e75-398c-4927-872c-32a8dd7652c3"
      },
      "execution_count": null,
      "outputs": [
        {
          "output_type": "execute_result",
          "data": {
            "text/plain": [
              "31"
            ]
          },
          "metadata": {},
          "execution_count": 5
        }
      ]
    },
    {
      "cell_type": "code",
      "source": [
        "file.close()"
      ],
      "metadata": {
        "id": "deWPq7sw6e__"
      },
      "execution_count": null,
      "outputs": []
    },
    {
      "cell_type": "code",
      "source": [
        "file = open(\"file.txt\",'w')\n",
        "file.write(\"hey, wass up!! I love you \\n\")\n",
        "file.write(\"hey, wass up!! I hate you\")\n",
        "file.close()"
      ],
      "metadata": {
        "id": "F7vOsIx-6hDD"
      },
      "execution_count": null,
      "outputs": []
    },
    {
      "cell_type": "code",
      "source": [
        "file = open(\"file.txt\", 'r')"
      ],
      "metadata": {
        "id": "357jjr8g7E_h"
      },
      "execution_count": null,
      "outputs": []
    },
    {
      "cell_type": "code",
      "source": [
        "for i in file:\n",
        "  print(i)"
      ],
      "metadata": {
        "colab": {
          "base_uri": "https://localhost:8080/"
        },
        "id": "xxzHWLLE66jn",
        "outputId": "cc3765b8-138d-44d3-902b-01b0ad785d77"
      },
      "execution_count": null,
      "outputs": [
        {
          "output_type": "stream",
          "name": "stdout",
          "text": [
            "hey, wass up!! I love you \n",
            "\n",
            "hey, wass up!! I hate you\n"
          ]
        }
      ]
    },
    {
      "cell_type": "code",
      "source": [
        "#2. Write a code to write to a file in python."
      ],
      "metadata": {
        "id": "DLT0fTr16_Zn"
      },
      "execution_count": null,
      "outputs": []
    },
    {
      "cell_type": "code",
      "source": [
        "file = open(\"file.txt\",'w')\n",
        "file.write(\"hey, wass up!! I give up \\n\")\n",
        "file.write(\"hey, wass up!! you should work hard\")\n",
        "file.close()"
      ],
      "metadata": {
        "id": "RaM6Wi817iP-"
      },
      "execution_count": null,
      "outputs": []
    },
    {
      "cell_type": "code",
      "source": [
        "#3. Write a code to append to a fie in Python."
      ],
      "metadata": {
        "id": "J-U_h3gd7qP1"
      },
      "execution_count": null,
      "outputs": []
    },
    {
      "cell_type": "code",
      "source": [
        "with open(\"file.txt\", \"a\") as f:\n",
        "   f.write(\"new text\")"
      ],
      "metadata": {
        "id": "rZVpSvIH7-i1"
      },
      "execution_count": null,
      "outputs": []
    },
    {
      "cell_type": "code",
      "source": [
        "file.close()"
      ],
      "metadata": {
        "id": "y-GUJYft8mbn"
      },
      "execution_count": null,
      "outputs": []
    },
    {
      "cell_type": "code",
      "source": [
        "#4. Write a code to read a binary file in Python."
      ],
      "metadata": {
        "id": "wWDbqMz79Gei"
      },
      "execution_count": null,
      "outputs": []
    },
    {
      "cell_type": "code",
      "source": [
        "with open(\"test.bin\",\"wb\") as f:\n",
        "  f.write(b\"hello_worlding\")"
      ],
      "metadata": {
        "id": "cnH-sNlk8gMH"
      },
      "execution_count": null,
      "outputs": []
    },
    {
      "cell_type": "code",
      "source": [
        "with open(\"test.bin\", \"rb\") as f:\n",
        "    print(f.read())"
      ],
      "metadata": {
        "colab": {
          "base_uri": "https://localhost:8080/"
        },
        "id": "76B5PPg28jDG",
        "outputId": "e3b51b87-4eda-439c-d2b2-a360df9e6015"
      },
      "execution_count": null,
      "outputs": [
        {
          "output_type": "stream",
          "name": "stdout",
          "text": [
            "b'hello_worlding'\n"
          ]
        }
      ]
    },
    {
      "cell_type": "code",
      "source": [
        "#5. What happens if we don't use 'with' keyword with 'open' in python?"
      ],
      "metadata": {
        "id": "Q842Es5__DNN"
      },
      "execution_count": null,
      "outputs": []
    },
    {
      "cell_type": "code",
      "source": [
        "# the with statement closes the file for you without you telling it to.\n",
        "\n",
        "# if we don't use 'with' with 'open' we should have to close or open file mannualy but with 'with' it does automatically."
      ],
      "metadata": {
        "id": "nQBb4iTQ_4OC"
      },
      "execution_count": null,
      "outputs": []
    },
    {
      "cell_type": "code",
      "source": [
        "#6. Explain the concept of buffering in file handling and how it helps in improving read and write operations."
      ],
      "metadata": {
        "id": "_xXOJ6VhBo6S"
      },
      "execution_count": null,
      "outputs": []
    },
    {
      "cell_type": "code",
      "source": [
        "# Buffering in file handling allows the program to read the data in chunks\n",
        "\n",
        "# as it allows the data to be read or write in chunks it saves a lot of time and efforts."
      ],
      "metadata": {
        "id": "IJTzvg2nCRCr"
      },
      "execution_count": null,
      "outputs": []
    },
    {
      "cell_type": "code",
      "source": [
        "#7. Describe the steps involved in implementing buffered file handling in a programming language of your\n",
        "#choice."
      ],
      "metadata": {
        "id": "_zAMJpK5EPux"
      },
      "execution_count": null,
      "outputs": []
    },
    {
      "cell_type": "code",
      "source": [
        "# step 1: import io\n",
        "# step 2: open or create a file\n",
        "# step 3: apply buffered reader or writer condition\n",
        "# step 4: edit the file as your wish\n",
        "# step 5: last but not the least, don't forget to close or flush the file"
      ],
      "metadata": {
        "id": "xyvdpzEoFJao"
      },
      "execution_count": null,
      "outputs": []
    },
    {
      "cell_type": "code",
      "source": [
        "#8. Write a Python function to read a text file using buffered reading and returns its contents."
      ],
      "metadata": {
        "id": "pakxOAfiFTMn"
      },
      "execution_count": null,
      "outputs": []
    },
    {
      "cell_type": "code",
      "source": [
        "import io\n",
        "with open(\"test_buf.txt\", \"wb\") as f:\n",
        "    file = io.BufferedWriter(f)\n",
        "    file.write(b\"A computer is a machine that can be programmed to automatically carry out sequences of arithmetic or logical operations (computation). Modern digital electronic computers can perform generic sets of operations known as programs. These programs enable computers to perform a wide range of tasks. The term computer system may refer to a nominally complete computer that includes the hardware, operating system, software, and peripheral equipment needed and used for full operation; or to a group of computers that are linked and function together, such as a computer network or computer cluster.\")\n",
        "    file.write(b\"hello\")\n",
        "    file.write(b\"I am good\")\n",
        "    file.flush()"
      ],
      "metadata": {
        "id": "AOMgqCzKGNPP"
      },
      "execution_count": null,
      "outputs": []
    },
    {
      "cell_type": "code",
      "source": [
        "with open(\"test_buf.txt\", \"rb\") as f:\n",
        "    file = io.BufferedReader(f)\n",
        "    data = file.read(130) #130 bytes\n",
        "    print(data)"
      ],
      "metadata": {
        "colab": {
          "base_uri": "https://localhost:8080/"
        },
        "id": "D0B1Za_xGQFR",
        "outputId": "056a0d59-bd0e-439f-dd93-66c468399928"
      },
      "execution_count": null,
      "outputs": [
        {
          "output_type": "stream",
          "name": "stdout",
          "text": [
            "b'A computer is a machine that can be programmed to automatically carry out sequences of arithmetic or logical operations (computati'\n"
          ]
        }
      ]
    },
    {
      "cell_type": "code",
      "source": [
        "#9. What are the advantages of using buffered reading over direct file reading in Python."
      ],
      "metadata": {
        "id": "xGxKbvRqGVK3"
      },
      "execution_count": null,
      "outputs": []
    },
    {
      "cell_type": "code",
      "source": [
        "# the main advantages of buffered reading is that you can set the limit which you wanted to read the file whereas direct file reading extract the whole file which consumes time and memory ."
      ],
      "metadata": {
        "id": "s2tkzSYhGuhi"
      },
      "execution_count": null,
      "outputs": []
    },
    {
      "cell_type": "code",
      "source": [
        "#10. Write a Python code snippet to append content to a file using buffered writing."
      ],
      "metadata": {
        "id": "N66DfIA_HaLs"
      },
      "execution_count": null,
      "outputs": []
    },
    {
      "cell_type": "code",
      "source": [
        "import io\n",
        "with open(\"test_buf.txt\", \"ab\") as f:\n",
        "    file = io.BufferedWriter(f)\n",
        "    file.write(b\"A  personal computer is a machine that can be programmed to automatically carry out sequences of arithmetic or logical operations (computation). Modern digital electronic computers can perform generic sets of operations known as programs. These programs enable computers to perform a wide range of tasks. The term computer system may refer to a nominally complete computer that includes the hardware, operating system, software, and peripheral equipment needed and used for full operation; or to a group of computers that are linked and function together, such as a computer network or computer cluster.\")\n",
        "    file.write(b\"hey budddy\")\n",
        "    file.write(b\"I am devil\")\n",
        "    file.flush()"
      ],
      "metadata": {
        "id": "DiG-Z85kHvy3"
      },
      "execution_count": null,
      "outputs": []
    },
    {
      "cell_type": "code",
      "source": [
        "#11. Write a Python function that demonstrates the use of close() method method on a file."
      ],
      "metadata": {
        "id": "VV2_ExFIIQz6"
      },
      "execution_count": null,
      "outputs": []
    },
    {
      "cell_type": "code",
      "source": [
        "file3 = open(\"file3.txt\",'w')\n",
        "file3.write(\"hey, wass up!! I give up \\n\")\n",
        "file3.write(\"hey, wass up!! you should work hard\")\n",
        "file3.close()\n",
        "#if we not use close() then all the content written in it will not show."
      ],
      "metadata": {
        "id": "gApVJ4OYCNsu"
      },
      "execution_count": null,
      "outputs": []
    },
    {
      "cell_type": "code",
      "source": [
        "#12. Create a Python function to showcase the detach() method on a file object."
      ],
      "metadata": {
        "id": "0on7V6GECUd5"
      },
      "execution_count": null,
      "outputs": []
    },
    {
      "cell_type": "code",
      "source": [
        "f = open('test_buf.txt','r')\n",
        "raw_stream = f.detach()\n",
        "print(raw_stream.read(5))"
      ],
      "metadata": {
        "colab": {
          "base_uri": "https://localhost:8080/"
        },
        "id": "Vxn_qi7JEA3I",
        "outputId": "1fbb5bfd-1614-41a1-b80f-2cf501fb7880"
      },
      "execution_count": null,
      "outputs": [
        {
          "output_type": "stream",
          "name": "stdout",
          "text": [
            "b'A com'\n"
          ]
        }
      ]
    },
    {
      "cell_type": "code",
      "source": [
        "#13. Write a python function to demonstrate the use of Seek() method to change the file position"
      ],
      "metadata": {
        "id": "HXufevMgEWRz"
      },
      "execution_count": null,
      "outputs": []
    },
    {
      "cell_type": "code",
      "source": [
        "with open('test_buf.txt','r') as fil:\n",
        "  fil.seek(151,0)\n",
        "  print(fil.read())\n"
      ],
      "metadata": {
        "colab": {
          "base_uri": "https://localhost:8080/"
        },
        "id": "a6WCGldvE-zk",
        "outputId": "71423b5b-e005-487c-8786-ea293bc8b757"
      },
      "execution_count": null,
      "outputs": [
        {
          "output_type": "stream",
          "name": "stdout",
          "text": [
            "lectronic computers can perform generic sets of operations known as programs. These programs enable computers to perform a wide range of tasks. The term computer system may refer to a nominally complete computer that includes the hardware, operating system, software, and peripheral equipment needed and used for full operation; or to a group of computers that are linked and function together, such as a computer network or computer cluster.helloI am goodA  personal computer is a machine that can be programmed to automatically carry out sequences of arithmetic or logical operations (computation). Modern digital electronic computers can perform generic sets of operations known as programs. These programs enable computers to perform a wide range of tasks. The term computer system may refer to a nominally complete computer that includes the hardware, operating system, software, and peripheral equipment needed and used for full operation; or to a group of computers that are linked and function together, such as a computer network or computer cluster.hey budddyI am devil\n"
          ]
        }
      ]
    },
    {
      "cell_type": "code",
      "source": [
        "#14. Create a Python function to return the file descriptor (integer number) of a file using the fileno() method."
      ],
      "metadata": {
        "id": "imza6vMRFRAP"
      },
      "execution_count": null,
      "outputs": []
    },
    {
      "cell_type": "code",
      "source": [
        "with open('test_buf.txt', 'r') as my:\n",
        " print(my.fileno())"
      ],
      "metadata": {
        "colab": {
          "base_uri": "https://localhost:8080/"
        },
        "id": "12dJ6CYjGTL8",
        "outputId": "ad75a2c0-2d90-415b-bf2a-d69e95d1033c"
      },
      "execution_count": null,
      "outputs": [
        {
          "output_type": "stream",
          "name": "stdout",
          "text": [
            "48\n"
          ]
        }
      ]
    },
    {
      "cell_type": "code",
      "source": [
        "#15. Write a Python function to return the current position of the file's object using the tell() method"
      ],
      "metadata": {
        "id": "WwPeQXnjHJM8"
      },
      "execution_count": null,
      "outputs": []
    },
    {
      "cell_type": "code",
      "source": [
        "with open('test_buf.txt', 'r') as myself:\n",
        " position = myself.tell()\n",
        " print(position)"
      ],
      "metadata": {
        "colab": {
          "base_uri": "https://localhost:8080/"
        },
        "id": "6gZhzV0MIk4R",
        "outputId": "4efbdaa4-095a-4bc2-f42b-f9c4668f3cf1"
      },
      "execution_count": null,
      "outputs": [
        {
          "output_type": "stream",
          "name": "stdout",
          "text": [
            "0\n"
          ]
        }
      ]
    },
    {
      "cell_type": "code",
      "source": [
        "#16. Create a Python program that logs a message to a file using the logging method."
      ],
      "metadata": {
        "id": "OO8kYDEXIsq5"
      },
      "execution_count": null,
      "outputs": []
    },
    {
      "cell_type": "code",
      "source": [
        "import logging\n",
        "\n",
        "logging.basicConfig(filename='example.log', level=logging.DEBUG)\n",
        "\n",
        "logging.debug('This is a debug message')"
      ],
      "metadata": {
        "id": "3mNMsv7TJdia"
      },
      "execution_count": null,
      "outputs": []
    },
    {
      "cell_type": "code",
      "source": [
        "#17. Explain the importance of logging levels in Python's logging module."
      ],
      "metadata": {
        "id": "60PamtBuJ_4D"
      },
      "execution_count": null,
      "outputs": []
    },
    {
      "cell_type": "code",
      "source": [
        "# Debug: These are used to give Detailed information, typically of interest only when diagnosing problems.\n",
        "\n",
        "# Info: These are used to confirm that things are working as expected.\n",
        "\n",
        "# Warning: These are used as an indication that something unexpected happened, or is indicative of some problem in the near future.\n",
        "\n",
        "# Error: This tells that due to a more serious problem, the software has not been able to perform some function.\n",
        "\n",
        "# Critical: This tells serious error, indicating that the program itself may be unable to continue running"
      ],
      "metadata": {
        "id": "pEhoLWWTK2h0"
      },
      "execution_count": null,
      "outputs": []
    },
    {
      "cell_type": "code",
      "source": [
        "#18. Create a Python program that uses the debugger to find the value of a variable inside a loop."
      ],
      "metadata": {
        "id": "1NKYEg3TMIxP"
      },
      "execution_count": null,
      "outputs": []
    },
    {
      "cell_type": "code",
      "source": [
        "import logging\n",
        "logging.basicConfig(filename = \"program.log\" , level = logging.DEBUG ,format = '%(asctime)s %(levelname)s %(message)s'  )"
      ],
      "metadata": {
        "id": "8FJzzkYzOigt"
      },
      "execution_count": null,
      "outputs": []
    },
    {
      "cell_type": "code",
      "source": [
        "l = [1, \"hello\", [2, \"world\"], 3, [\"python\", 4]]"
      ],
      "metadata": {
        "id": "v3qRjbLsOj7q"
      },
      "execution_count": null,
      "outputs": []
    },
    {
      "cell_type": "code",
      "source": [
        "import logging\n",
        "l1_int = []\n",
        "\n",
        "l2_str = []\n",
        "\n",
        "for i in l:\n",
        "    logging.info(f\"processing each element {i}\")\n",
        "\n",
        "    if type(i) == list:\n",
        "        for j in i:\n",
        "            logging.info(f\"processing sublist element: {j}\")\n",
        "            if type(j) == int:\n",
        "                l1_int.append(j)\n",
        "    elif type(i) == int:\n",
        "        l1_int.append(i)\n",
        "    else:\n",
        "        l2_str.append(i)\n",
        "logging.info(f\"The final result is: {l1_int}, {l2_str}\")\n",
        "logging.shutdown()"
      ],
      "metadata": {
        "id": "kfAg0wFOO1S_"
      },
      "execution_count": null,
      "outputs": []
    },
    {
      "cell_type": "code",
      "source": [
        "#19. Create a Python program that demonstrate setting breakpoints and inspecting variables using the debugger."
      ],
      "metadata": {
        "id": "3HMEjCwZO33m"
      },
      "execution_count": null,
      "outputs": []
    },
    {
      "cell_type": "code",
      "source": [
        "try:\n",
        "    5/0\n",
        "except Exception as e:\n",
        "    print(\"There is issue with denominator\", e)"
      ],
      "metadata": {
        "colab": {
          "base_uri": "https://localhost:8080/"
        },
        "id": "U3hlT_mBSJzn",
        "outputId": "71fc72b5-721e-4b57-d3c1-fa043b842c2b"
      },
      "execution_count": null,
      "outputs": [
        {
          "output_type": "stream",
          "name": "stdout",
          "text": [
            "There is issue with denominator division by zero\n"
          ]
        }
      ]
    },
    {
      "cell_type": "code",
      "source": [
        "#20. Create a Python program that uses the debugger to trace a recursive function."
      ],
      "metadata": {
        "id": "6OYDSVhMSsm3"
      },
      "execution_count": 1,
      "outputs": []
    },
    {
      "cell_type": "code",
      "source": [
        "def recursive_factorial(n):\n",
        " if n == 1:\n",
        "\t  return n\n",
        " else:\n",
        "\t  return n * recursive_factorial(n-1)\n",
        "\n",
        "num = 4\n",
        "\n",
        "if num < 0:\n",
        " print(\"Invalid input ! Please enter a positive number.\")\n",
        "elif num == 0:\n",
        " print(\"Factorial of number 0 is 1\")\n",
        "else:\n",
        " print(\"Factorial of number\", num, \"=\", recursive_factorial(num))\n"
      ],
      "metadata": {
        "colab": {
          "base_uri": "https://localhost:8080/"
        },
        "id": "lb500GFxjPGc",
        "outputId": "99d8e12d-b369-4121-85a2-ba759e05d00a"
      },
      "execution_count": 5,
      "outputs": [
        {
          "output_type": "stream",
          "name": "stdout",
          "text": [
            "Factorial of number 4 = 24\n"
          ]
        }
      ]
    },
    {
      "cell_type": "code",
      "source": [
        "#21. Write a try-except block to handle a ZeroDivisonError."
      ],
      "metadata": {
        "id": "GezWPBeijXEb"
      },
      "execution_count": 6,
      "outputs": []
    },
    {
      "cell_type": "code",
      "source": [
        "try:\n",
        "  10/0\n",
        "except ZeroDivisionError as a:\n",
        "  print(\"it is a zerodivison error\",a)"
      ],
      "metadata": {
        "colab": {
          "base_uri": "https://localhost:8080/"
        },
        "id": "zaQe-cmJkBrx",
        "outputId": "f00f6779-db6e-4221-cd85-e789975b477c"
      },
      "execution_count": 9,
      "outputs": [
        {
          "output_type": "stream",
          "name": "stdout",
          "text": [
            "it is a zerodivison error division by zero\n"
          ]
        }
      ]
    },
    {
      "cell_type": "code",
      "source": [
        "#22. How does the else block work with try-except?"
      ],
      "metadata": {
        "id": "CmIF1gK3k2bu"
      },
      "execution_count": 10,
      "outputs": []
    },
    {
      "cell_type": "code",
      "source": [
        "def divide(x, y):\n",
        "    try:\n",
        "        result = x // y\n",
        "    except ZeroDivisionError:\n",
        "        print(\"Sorry ! You are dividing by zero \")\n",
        "    else:\n",
        "        print(\"Yeah ! Your answer is :\", result)\n",
        "\n",
        "divide(3, 2)\n",
        "divide(3, 0)"
      ],
      "metadata": {
        "colab": {
          "base_uri": "https://localhost:8080/"
        },
        "id": "qgryiE6jlPbb",
        "outputId": "f20b7a80-376f-4e50-e9d4-b5fdfccee1b3"
      },
      "execution_count": 11,
      "outputs": [
        {
          "output_type": "stream",
          "name": "stdout",
          "text": [
            "Yeah ! Your answer is : 1\n",
            "Sorry ! You are dividing by zero \n"
          ]
        }
      ]
    },
    {
      "cell_type": "code",
      "source": [
        "#23. Implement a try-except-else block to open and read a file."
      ],
      "metadata": {
        "id": "uydD09m4ms7d"
      },
      "execution_count": null,
      "outputs": []
    },
    {
      "cell_type": "code",
      "source": [
        "try:\n",
        "    file_path = \"my_file.txt\"\n",
        "    with open(file_path, \"r\") as file:\n",
        "\n",
        "        file_content = file.read()\n",
        "        print(\"File content:\")\n",
        "        print(file_content)\n",
        "\n",
        "except FileNotFoundError:\n",
        "    print(f\"File '{file_path}' not found.\")\n",
        "except IOError as e:\n",
        "    print(f\"Error reading the file: {e}\")\n",
        "else:\n",
        "    print(\"File read successfully.\")\n"
      ],
      "metadata": {
        "colab": {
          "base_uri": "https://localhost:8080/"
        },
        "id": "56e6_0JbnIBR",
        "outputId": "2a1b3ebc-2818-4596-82bb-4e995d0be9b3"
      },
      "execution_count": 67,
      "outputs": [
        {
          "output_type": "stream",
          "name": "stdout",
          "text": [
            "File 'my_file.txt' not found.\n"
          ]
        }
      ]
    },
    {
      "cell_type": "code",
      "source": [
        "#24. What is the purpose of the finally block in the exception handling?"
      ],
      "metadata": {
        "id": "2jum6QdynIoW"
      },
      "execution_count": 12,
      "outputs": []
    },
    {
      "cell_type": "code",
      "source": [
        "# The purpose of finally block is that it always prints the message thaat is given even when the upper code is correct.\n",
        "#it is used to show that the code runned successfully."
      ],
      "metadata": {
        "id": "2iDwFc9PnU84"
      },
      "execution_count": 12,
      "outputs": []
    },
    {
      "cell_type": "code",
      "source": [
        "#25. Write a try-except-finally block to handle a ValueError."
      ],
      "metadata": {
        "id": "8QvUB2DMnWiS"
      },
      "execution_count": null,
      "outputs": []
    },
    {
      "cell_type": "code",
      "source": [
        "try:\n",
        "    int(\"pwskills\")\n",
        "except ValueError as e:\n",
        "    print(\"The string can not be converted to integer\", e)\n",
        "else:\n",
        "        print(\"Yeah ! converted\")\n",
        "finally:\n",
        "        print('This is always executed')\n",
        ""
      ],
      "metadata": {
        "colab": {
          "base_uri": "https://localhost:8080/"
        },
        "id": "5Uy60JRZnr98",
        "outputId": "74b7aee0-c111-4789-cd92-5d3f309f960f"
      },
      "execution_count": 16,
      "outputs": [
        {
          "output_type": "stream",
          "name": "stdout",
          "text": [
            "The string can not be converted to integer invalid literal for int() with base 10: 'pwskills'\n",
            "This is always executed\n"
          ]
        }
      ]
    },
    {
      "cell_type": "code",
      "source": [
        "#26. How multiple except blocks work in Python?"
      ],
      "metadata": {
        "id": "EnGursPIoQpZ"
      },
      "execution_count": 17,
      "outputs": []
    },
    {
      "cell_type": "code",
      "source": [
        "try:\n",
        "    int(\"pwskills\")\n",
        "except (ValueError, TypeError) as e:\n",
        "    print(\"The string can not be converted to integer\", e)"
      ],
      "metadata": {
        "colab": {
          "base_uri": "https://localhost:8080/"
        },
        "id": "DTpJ-9cYqP0X",
        "outputId": "ecb3b1c1-ce13-4f3d-f932-c2141a3f61b0"
      },
      "execution_count": 18,
      "outputs": [
        {
          "output_type": "stream",
          "name": "stdout",
          "text": [
            "The string can not be converted to integer invalid literal for int() with base 10: 'pwskills'\n"
          ]
        }
      ]
    },
    {
      "cell_type": "code",
      "source": [
        "#27. What is custom exception in Python?"
      ],
      "metadata": {
        "id": "T9bbx-AGqmCv"
      },
      "execution_count": 19,
      "outputs": []
    },
    {
      "cell_type": "code",
      "source": [
        "# You can define your own exception classes in Python to create custom exceptions. Custom exceptions might\n",
        "# be handy when you want to raise certain issues in your code that are not handled by the built-in exception\n",
        "# classes."
      ],
      "metadata": {
        "id": "rTy_zP6FqzaH"
      },
      "execution_count": 20,
      "outputs": []
    },
    {
      "cell_type": "code",
      "source": [
        "#28. Create a custom exception class with a message."
      ],
      "metadata": {
        "id": "KEyxk0zbrlTU"
      },
      "execution_count": 21,
      "outputs": []
    },
    {
      "cell_type": "code",
      "source": [
        "class NumNotInRangeError(Exception):\n",
        "\n",
        "  def __init__(self, num):\n",
        "    message = \"Number not present in (10,100) range values\"\n",
        "    self.num = num\n",
        "    self.message = message\n",
        "    super().__init__(self.message)\n",
        "\n",
        "num = int(input(\"Enter Number :\"))\n",
        "if not 10 < num < 100:\n",
        "  raise NumNotInRangeError(num)"
      ],
      "metadata": {
        "colab": {
          "base_uri": "https://localhost:8080/",
          "height": 193
        },
        "id": "ngOUl9n4r7jI",
        "outputId": "b9b9d77b-4876-4e41-92e6-b5435448d1ca"
      },
      "execution_count": 24,
      "outputs": [
        {
          "name": "stdout",
          "output_type": "stream",
          "text": [
            "Enter Number :200\n"
          ]
        },
        {
          "output_type": "error",
          "ename": "NumNotInRangeError",
          "evalue": "Number not present in (10,100) range values",
          "traceback": [
            "\u001b[0;31m---------------------------------------------------------------------------\u001b[0m",
            "\u001b[0;31mNumNotInRangeError\u001b[0m                        Traceback (most recent call last)",
            "\u001b[0;32m<ipython-input-24-5cf95df9c80f>\u001b[0m in \u001b[0;36m<cell line: 10>\u001b[0;34m()\u001b[0m\n\u001b[1;32m      9\u001b[0m \u001b[0mnum\u001b[0m \u001b[0;34m=\u001b[0m \u001b[0mint\u001b[0m\u001b[0;34m(\u001b[0m\u001b[0minput\u001b[0m\u001b[0;34m(\u001b[0m\u001b[0;34m\"Enter Number :\"\u001b[0m\u001b[0;34m)\u001b[0m\u001b[0;34m)\u001b[0m\u001b[0;34m\u001b[0m\u001b[0;34m\u001b[0m\u001b[0m\n\u001b[1;32m     10\u001b[0m \u001b[0;32mif\u001b[0m \u001b[0;32mnot\u001b[0m \u001b[0;36m10\u001b[0m \u001b[0;34m<\u001b[0m \u001b[0mnum\u001b[0m \u001b[0;34m<\u001b[0m \u001b[0;36m100\u001b[0m\u001b[0;34m:\u001b[0m\u001b[0;34m\u001b[0m\u001b[0;34m\u001b[0m\u001b[0m\n\u001b[0;32m---> 11\u001b[0;31m   \u001b[0;32mraise\u001b[0m \u001b[0mNumNotInRangeError\u001b[0m\u001b[0;34m(\u001b[0m\u001b[0mnum\u001b[0m\u001b[0;34m)\u001b[0m\u001b[0;34m\u001b[0m\u001b[0;34m\u001b[0m\u001b[0m\n\u001b[0m",
            "\u001b[0;31mNumNotInRangeError\u001b[0m: Number not present in (10,100) range values"
          ]
        }
      ]
    },
    {
      "cell_type": "code",
      "source": [
        "#29. Write a code to raise a custom exception in Python."
      ],
      "metadata": {
        "id": "9OwOZmcqs95k"
      },
      "execution_count": 25,
      "outputs": []
    },
    {
      "cell_type": "code",
      "source": [
        "class NumNotInRangeError(Exception):\n",
        "\n",
        "  def __init__(self, num):\n",
        "    message = \"Number not present in (10,100) range values\"\n",
        "    self.num = num\n",
        "    self.message = message\n",
        "    super().__init__(self.message)\n",
        "\n",
        "num = int(input(\"Enter Number :\"))\n",
        "if not 10 < num < 100:\n",
        "  raise NumNotInRangeError(num)\n",
        "else:\n",
        "  print(\"all is well\")"
      ],
      "metadata": {
        "colab": {
          "base_uri": "https://localhost:8080/"
        },
        "id": "s6u8DHVJthtG",
        "outputId": "fe561e81-326b-43a7-bf16-01906b1b50ca"
      },
      "execution_count": 27,
      "outputs": [
        {
          "output_type": "stream",
          "name": "stdout",
          "text": [
            "Enter Number :25\n",
            "all is well\n"
          ]
        }
      ]
    },
    {
      "cell_type": "code",
      "source": [
        "#30. Write a function that raises a custom exception when a value is negative."
      ],
      "metadata": {
        "id": "A_GFA4fotkJG"
      },
      "execution_count": 28,
      "outputs": []
    },
    {
      "cell_type": "code",
      "source": [
        "class NumNotInRangeError(Exception):\n",
        "\n",
        "  def __init__(self, num):\n",
        "    message = \"Number not present in (0,+) range values\"\n",
        "    self.num = num\n",
        "    self.message = message\n",
        "    super().__init__(self.message)\n",
        "\n",
        "num = int(input(\"Enter Number :\"))\n",
        "if not 0 <= num:\n",
        "  raise NumNotInRangeError(num)\n",
        "else:\n",
        "  print(\"all is well, dont't worry\")"
      ],
      "metadata": {
        "colab": {
          "base_uri": "https://localhost:8080/"
        },
        "id": "XdOqKvjXt-qg",
        "outputId": "2c4e7a72-65f8-4351-cd72-d88cf9f2a3b2"
      },
      "execution_count": 32,
      "outputs": [
        {
          "output_type": "stream",
          "name": "stdout",
          "text": [
            "Enter Number :0\n",
            "all is well, dont't worry\n"
          ]
        }
      ]
    },
    {
      "cell_type": "code",
      "source": [
        "#31. What is the role of try,except,else, and finally in handling exceptions."
      ],
      "metadata": {
        "id": "U86gbd95uSz2"
      },
      "execution_count": 33,
      "outputs": []
    },
    {
      "cell_type": "code",
      "source": [
        "# Try: This block will test the excepted error to occur\n",
        "# Except:  Here you can handle the error\n",
        "# Else: If there is no exception then this block will be executed\n",
        "# Finally: Finally block always gets executed either exception is generated or not"
      ],
      "metadata": {
        "id": "Gsi2gugOvgNA"
      },
      "execution_count": 34,
      "outputs": []
    },
    {
      "cell_type": "code",
      "source": [
        "#32. How can custom exception improve code readabiity and maintainability?"
      ],
      "metadata": {
        "id": "QxTB_wkBvzlV"
      },
      "execution_count": 35,
      "outputs": []
    },
    {
      "cell_type": "code",
      "source": [
        "# Custom exception can improve code readability and maintainability because we can create certain exception which can be understand by its name by us."
      ],
      "metadata": {
        "id": "5C4mc-dCxMLV"
      },
      "execution_count": 36,
      "outputs": []
    },
    {
      "cell_type": "code",
      "source": [
        "#33. What is multithreading?"
      ],
      "metadata": {
        "id": "-dGo7G0ax_yY"
      },
      "execution_count": 37,
      "outputs": []
    },
    {
      "cell_type": "code",
      "source": [
        "# Multithreading is defined as the ability of a processor to execute multiple\n",
        "# threads concurrently. In a simple, single-core CPU, it is achieved using frequent\n",
        "# switching between threads. This is termed context switching. In context switching,\n",
        "# the state of a thread is saved and the state of another thread is loaded whenever\n",
        "# any interrupt (due to I/O or manually set) takes place."
      ],
      "metadata": {
        "id": "UchGFS1KykvO"
      },
      "execution_count": 38,
      "outputs": []
    },
    {
      "cell_type": "code",
      "source": [
        "#34. Create a thread in Python?"
      ],
      "metadata": {
        "id": "HuYgID7PzJOO"
      },
      "execution_count": 39,
      "outputs": []
    },
    {
      "cell_type": "code",
      "source": [
        "import threading\n",
        "\n",
        "class thread(threading.Thread):\n",
        "    def __init__(self, thread_name, thread_ID):\n",
        "        threading.Thread.__init__(self)\n",
        "        self.thread_name = thread_name\n",
        "        self.thread_ID = thread_ID\n",
        "\n",
        "    def run(self):\n",
        "        print(str(self.thread_name) +\" \"+ str(self.thread_ID));\n",
        "\n",
        "thread1 = thread(\"thanks for using my video\",1)\n",
        "thread2 = thread(\"welcome\",2);\n",
        "\n",
        "thread1.start()\n",
        "thread2.start()\n",
        "\n",
        "print(\"Exit\")"
      ],
      "metadata": {
        "colab": {
          "base_uri": "https://localhost:8080/"
        },
        "id": "UpwpPpBDz5pu",
        "outputId": "71594f12-06ae-4721-cf9b-55a0f6a28e37"
      },
      "execution_count": 41,
      "outputs": [
        {
          "output_type": "stream",
          "name": "stdout",
          "text": [
            "thanks for using my video 1\n",
            "welcome 2\n",
            "Exit\n"
          ]
        }
      ]
    },
    {
      "cell_type": "code",
      "source": [
        "#35. What is the Global Interpreter Lock(GIL) in Python?"
      ],
      "metadata": {
        "id": "L2bpA8AN0Xwi"
      },
      "execution_count": 42,
      "outputs": []
    },
    {
      "cell_type": "code",
      "source": [
        "# The Python Global Interpreter Lock or GIL, in simple words, is a mutex (or a lock) that allows only one thread to hold the control of the Python interpreter.\n",
        "\n",
        "# This means that only one thread can be in a state of execution at any point in time. The impact of the GIL isn’t visible to developers who execute single-threaded\n",
        "# programs, but it can be a performance bottleneck in CPU-bound and multi-threaded code"
      ],
      "metadata": {
        "id": "cStFErDM02t4"
      },
      "execution_count": 43,
      "outputs": []
    },
    {
      "cell_type": "code",
      "source": [
        "#36. Implement a simple multithreading example in Python."
      ],
      "metadata": {
        "id": "HOWIgxU-0_OB"
      },
      "execution_count": 44,
      "outputs": []
    },
    {
      "cell_type": "code",
      "source": [
        "import threading\n",
        "\n",
        "class thread(threading.Thread):\n",
        "    def __init__(self, thread_name, thread_ID):\n",
        "        threading.Thread.__init__(self)\n",
        "        self.thread_name = thread_name\n",
        "        self.thread_ID = thread_ID\n",
        "\n",
        "    def run(self):\n",
        "        print(str(self.thread_name) +\" \"+ str(self.thread_ID));\n",
        "\n",
        "thread1 = thread(\"thanks for using my video\",1)\n",
        "thread2 = thread(\"welcome\",2);\n",
        "\n",
        "thread1.start()\n",
        "thread2.start()\n",
        "\n",
        "print(\"Exit\")"
      ],
      "metadata": {
        "colab": {
          "base_uri": "https://localhost:8080/"
        },
        "id": "KgaXMAbs1KiW",
        "outputId": "3be1e495-6544-495c-d169-c8f474f0a31b"
      },
      "execution_count": 53,
      "outputs": [
        {
          "output_type": "stream",
          "name": "stdout",
          "text": [
            "thanks for using my video 1\n",
            "welcome 2Exit\n",
            "\n"
          ]
        }
      ]
    },
    {
      "cell_type": "code",
      "source": [
        "#37. What is the purpose of the 'join()' method in threading?"
      ],
      "metadata": {
        "id": "jHjdhOSz3PST"
      },
      "execution_count": 54,
      "outputs": []
    },
    {
      "cell_type": "code",
      "source": [
        "# The join() method indicates wait till the thread terminates. We can also specify a timeout value to the join() method. In such a situation the calling thread may\n",
        "# ask the thread to stop by sending a signal through an event object. The join() method can be called multiple times."
      ],
      "metadata": {
        "id": "WfWqfXMZ4o0l"
      },
      "execution_count": 55,
      "outputs": []
    },
    {
      "cell_type": "code",
      "source": [
        "#38. Describe a scenario where multithreading would be beneficial in Python."
      ],
      "metadata": {
        "id": "7DMPdsgn40Fr"
      },
      "execution_count": 56,
      "outputs": []
    },
    {
      "cell_type": "code",
      "source": [
        "# Suppose you’re building a web scraper to collect data from multiple websites. Each website has a different URL, and you want to fetch information concurrently to improve performance. Here’s how multithreading can help:\n",
        "\n",
        "# Sequential Approach (Single Thread):\n",
        "# Without multithreading, you’d fetch data from one website at a time.\n",
        "# You’d send an HTTP request to a site, wait for the response, process the data, and then move on to the next site.\n",
        "# This approach is slow because it’s bound by the network latency and the time taken for each request-response cycle.\n",
        "\n",
        "# Multithreading Approach:\n",
        "# With multithreading, you can create multiple threads, each responsible for fetching data from a different website.\n",
        "# Each thread runs concurrently, allowing you to fetch data from multiple sites simultaneously.\n",
        "# While one thread waits for a response from a site, other threads can continue working.\n",
        "# Once all threads complete their tasks, you merge the collected data"
      ],
      "metadata": {
        "id": "MWGrpxsk6pLC"
      },
      "execution_count": 56,
      "outputs": []
    },
    {
      "cell_type": "code",
      "source": [
        "#39. What is multiprocessing in Python?"
      ],
      "metadata": {
        "id": "hLkFX0y56qMn"
      },
      "execution_count": 57,
      "outputs": []
    },
    {
      "cell_type": "code",
      "source": [
        "# Multiprocessing in Python is a powerful technique that allows you to run multiple independent processes concurrently. It’s particularly useful for tasks that are CPU-bound, such as heavy computations or data processing."
      ],
      "metadata": {
        "id": "O2V1i1e26yWL"
      },
      "execution_count": 58,
      "outputs": []
    },
    {
      "cell_type": "code",
      "source": [
        "#40. How is multiprocessing different from multithreading in Python?"
      ],
      "metadata": {
        "id": "PfDPdmmH7bBC"
      },
      "execution_count": 59,
      "outputs": []
    },
    {
      "cell_type": "code",
      "source": [
        "# Multiprocessing:\n",
        "\n",
        "# Concept:\n",
        "\n",
        "# Multiprocessing involves creating multiple processes, each with its own memory space and Python interpreter.\n",
        "# Each process runs independently and can execute different tasks concurrently.\n",
        "\n",
        "\n",
        "\n",
        "# Multithreading:\n",
        "\n",
        "# Concept:\n",
        "\n",
        "# Multithreading involves creating multiple threads within a single process.\n",
        "# Threads share the same memory space and Python interpreter.\n",
        "# They run concurrently but are subject to the Global Interpreter Lock (GIL)"
      ],
      "metadata": {
        "id": "xIZ1CKAJ8f4N"
      },
      "execution_count": 60,
      "outputs": []
    },
    {
      "cell_type": "code",
      "source": [
        "#41. Create a process using the multiprocessing module in Python."
      ],
      "metadata": {
        "id": "p4XjFNPA8tdc"
      },
      "execution_count": 61,
      "outputs": []
    },
    {
      "cell_type": "code",
      "source": [
        "import multiprocessing\n",
        "\n",
        "import time\n",
        "start = time.perf_counter()\n",
        "\n",
        "def test_func():\n",
        "    print(\"do something\")\n",
        "    print(\"sleep for 1 sec\")\n",
        "    time.sleep(1)\n",
        "    print(\"done with sleeping\")\n",
        "\n",
        "p1 = multiprocessing.Process(target = test_func)\n",
        "p2 = multiprocessing.Process(target = test_func)\n",
        "\n",
        "\n",
        "p1.start()\n",
        "p2.start()\n",
        "\n",
        "p1.join()\n",
        "p2.join()\n",
        "\n",
        "end = time.perf_counter()\n",
        "\n",
        "\n",
        "print(f\"The program finished in {round(end-start, 2)} seconds.\")"
      ],
      "metadata": {
        "colab": {
          "base_uri": "https://localhost:8080/"
        },
        "id": "H0h6loFQ9TNe",
        "outputId": "d242713f-beeb-4854-c419-c98aba58f574"
      },
      "execution_count": 63,
      "outputs": [
        {
          "output_type": "stream",
          "name": "stdout",
          "text": [
            "do something\n",
            "do somethingsleep for 1 sec\n",
            "sleep for 1 sec\n",
            "\n",
            "done with sleeping\n",
            "done with sleeping\n",
            "The program finished in 1.08 seconds.\n"
          ]
        }
      ]
    },
    {
      "cell_type": "code",
      "source": [
        "#42. Explain the concept of Pool in the multiprocessing module."
      ],
      "metadata": {
        "id": "JXd1fknj9fIX"
      },
      "execution_count": 64,
      "outputs": []
    },
    {
      "cell_type": "code",
      "source": [
        "# A Pool is a high-level abstraction provided by the multiprocessing module. It allows you to create a group\n",
        "#  of worker processes (a pool) that can execute tasks concurrently. The primary purpose of using a pool is\n",
        "#  to parallelize the execution of a function across multiple processes, distributing the workload efficiently."
      ],
      "metadata": {
        "id": "h_salkpT-Zbk"
      },
      "execution_count": 65,
      "outputs": []
    },
    {
      "cell_type": "code",
      "source": [
        "#43. Explain Inter-process communication in multiprocessing."
      ],
      "metadata": {
        "id": "ODwpCw59-f1p"
      },
      "execution_count": 66,
      "outputs": []
    },
    {
      "cell_type": "code",
      "source": [
        "# Inter-process communication (IPC) refers to the mechanisms and techniques used for communication between separate processes\n",
        "# running concurrently in a multiprocessing environment. When you have multiple processes working together, they often need to\n",
        "#  exchange data, synchronize their actions, or coordinate their behavior. IPC provides the means to achieve this coordination."
      ],
      "metadata": {
        "id": "5e6GVu3B-41u"
      },
      "execution_count": null,
      "outputs": []
    }
  ]
}