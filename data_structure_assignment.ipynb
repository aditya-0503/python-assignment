{
  "nbformat": 4,
  "nbformat_minor": 0,
  "metadata": {
    "colab": {
      "provenance": [],
      "authorship_tag": "ABX9TyM1AtBdriN+K+cessNcGU24",
      "include_colab_link": true
    },
    "kernelspec": {
      "name": "python3",
      "display_name": "Python 3"
    },
    "language_info": {
      "name": "python"
    }
  },
  "cells": [
    {
      "cell_type": "markdown",
      "metadata": {
        "id": "view-in-github",
        "colab_type": "text"
      },
      "source": [
        "<a href=\"https://colab.research.google.com/github/aditya-0503/python-assignment/blob/main/data_structure_assignment.ipynb\" target=\"_parent\"><img src=\"https://colab.research.google.com/assets/colab-badge.svg\" alt=\"Open In Colab\"/></a>"
      ]
    },
    {
      "cell_type": "code",
      "execution_count": 1,
      "metadata": {
        "id": "BGru-ENdFVSZ"
      },
      "outputs": [],
      "source": [
        "# 1. Why might you choose a deque from the collections module to implementa queue instead of using a regular python list?"
      ]
    },
    {
      "cell_type": "code",
      "source": [
        "# Deque (Double Ended Query) in Python is implemented using the module collections. This data structure is mainly used for queues. The FIFO queue mechanism is implemented by append() and\n",
        "#popleft(). It's operations are quite faster as compared to lists."
      ],
      "metadata": {
        "id": "77I2BaP3Fzbz"
      },
      "execution_count": 2,
      "outputs": []
    },
    {
      "cell_type": "code",
      "source": [
        "# 2. Can you explain a real-world scenario where using a stack would be more practical choice than a list for data storage and retrieval?"
      ],
      "metadata": {
        "id": "-9bHaOddH4wu"
      },
      "execution_count": 3,
      "outputs": []
    },
    {
      "cell_type": "code",
      "source": [
        "# Stacks are used in various algorithms, data manipulation procedures and system architecture- like process schduling in operating systems. Real-world examples include the 'undo'\n",
        "#function in software applications following the 'LIFO' principle and a web browser's back button function using stack to track visited sites."
      ],
      "metadata": {
        "id": "ZHGfDUa3IOZE"
      },
      "execution_count": 4,
      "outputs": []
    },
    {
      "cell_type": "code",
      "source": [
        "# 3. What is the primary advantage of using sets in python, and in what type of problem-solving scenarios are they most useful?"
      ],
      "metadata": {
        "id": "1jXV6JLcOX65"
      },
      "execution_count": 5,
      "outputs": []
    },
    {
      "cell_type": "code",
      "source": [
        "# Set can be used to store unique values in order to avoid duplications of elements present in the set.\n",
        "# Sets provide fast and efficient operations for checking if an elements is present in the sets or not.\n",
        "\n",
        "# Sets are used to determine the distinct values in an array.\n",
        "# Sets are used in various database operations such as performing joins."
      ],
      "metadata": {
        "id": "QoneZouGOvcH"
      },
      "execution_count": 7,
      "outputs": []
    },
    {
      "cell_type": "code",
      "source": [
        "# 4. When might you choose to use an array instead of a list for sorting numerical data in Python? What benefits do arrays offer in this context?"
      ],
      "metadata": {
        "id": "_lFvZkjEP2m9"
      },
      "execution_count": 9,
      "outputs": []
    },
    {
      "cell_type": "code",
      "source": [
        "# Arrays are prefered over lists for a longer sequence of data items.\n",
        "# Arrays can directly handle arithematic operations while lists cannot.\n",
        "# We use arrays over lists in python as it requires less memory.\n",
        "# Arrays are faster than lists in Python.\n",
        "\n",
        "# So we use arrays over lists."
      ],
      "metadata": {
        "id": "59ikm6NrQnjs"
      },
      "execution_count": 11,
      "outputs": []
    },
    {
      "cell_type": "code",
      "source": [
        "# 5. In Python, what's the primary difference between dictionaries and lists, and how does this difference impact their use cases in programming?"
      ],
      "metadata": {
        "id": "lTE7buW3SIrR"
      },
      "execution_count": 12,
      "outputs": []
    },
    {
      "cell_type": "code",
      "source": [
        "# Dictionaries are unordered collections of key-value pairs. Each key in a dictionary is unique, and associated with a corresponding value. It is difined between the curly braces{}.\n",
        "#Lists are ordered , mutable , and can contain elements of different data types, such as strings, integers, floats, and even other lists. It is defined between the square brackets[].\n",
        "\n",
        "# use cases-\n",
        "# when the order matters or when you need to store multiple values for an item , you should go for lists.\n",
        "# when you need a unique key for each piece of data, then you should opt for dictionaries."
      ],
      "metadata": {
        "id": "-KR2pzu_SkiI"
      },
      "execution_count": null,
      "outputs": []
    }
  ]
}