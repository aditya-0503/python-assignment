{
  "nbformat": 4,
  "nbformat_minor": 0,
  "metadata": {
    "colab": {
      "provenance": [],
      "authorship_tag": "ABX9TyNTbdd6oA2m0uKdAO73/J8c",
      "include_colab_link": true
    },
    "kernelspec": {
      "name": "python3",
      "display_name": "Python 3"
    },
    "language_info": {
      "name": "python"
    }
  },
  "cells": [
    {
      "cell_type": "markdown",
      "metadata": {
        "id": "view-in-github",
        "colab_type": "text"
      },
      "source": [
        "<a href=\"https://colab.research.google.com/github/aditya-0503/python-assignment/blob/main/Inbuilt_string.ipynb\" target=\"_parent\"><img src=\"https://colab.research.google.com/assets/colab-badge.svg\" alt=\"Open In Colab\"/></a>"
      ]
    },
    {
      "cell_type": "code",
      "execution_count": null,
      "metadata": {
        "id": "dH8cFVqSJZbr"
      },
      "outputs": [],
      "source": [
        "# 1. What is the purpose of the len() function in Python, and how it be used with strings?"
      ]
    },
    {
      "cell_type": "code",
      "source": [
        "# Python len () function is an inbuilt function in Python. It can be used to find the length of an object.\n",
        "# example-\n",
        "list1 = [\"my\",\"name\",\"is\",\"aditya\"]\n",
        "print(len(list1))"
      ],
      "metadata": {
        "colab": {
          "base_uri": "https://localhost:8080/"
        },
        "id": "fLXm5drEJwMl",
        "outputId": "0a4986b3-ea89-478f-a055-52c3ae30bb7c"
      },
      "execution_count": null,
      "outputs": [
        {
          "output_type": "stream",
          "name": "stdout",
          "text": [
            "4\n"
          ]
        }
      ]
    },
    {
      "cell_type": "code",
      "source": [
        "# 2. How can yo concatenate two or more strings in Python, and can you provide an example of string concatenate?"
      ],
      "metadata": {
        "id": "w6gbAo8NK-DX"
      },
      "execution_count": null,
      "outputs": []
    },
    {
      "cell_type": "code",
      "source": [
        "# String concatenate is the proce of joining two or more strings together and forming one single string. by using the + operator or \",\"(comma).\n",
        "#example\n",
        "list1 = [\"hello\",\"what\",\"is\",\"your\",\"name\"]\n",
        "list2 = [\"my\",\"name\",\"is\",\"aditya\"]\n",
        "list3 = list1 + list2"
      ],
      "metadata": {
        "id": "o5GSraRLLUlv"
      },
      "execution_count": null,
      "outputs": []
    },
    {
      "cell_type": "code",
      "source": [
        "list3"
      ],
      "metadata": {
        "colab": {
          "base_uri": "https://localhost:8080/"
        },
        "id": "m-arfJhGO6d9",
        "outputId": "4ae6fcf7-0403-4165-c1a1-0edeeb5095d8"
      },
      "execution_count": null,
      "outputs": [
        {
          "output_type": "execute_result",
          "data": {
            "text/plain": [
              "['hello', 'what', 'is', 'your', 'name', 'my', 'name', 'is', 'aditya']"
            ]
          },
          "metadata": {},
          "execution_count": 5
        }
      ]
    },
    {
      "cell_type": "code",
      "source": [
        "# 3. What is string slicing in Python, and how can you extract a portion of a string using this method?"
      ],
      "metadata": {
        "id": "_YsH4fltO7yb"
      },
      "execution_count": null,
      "outputs": []
    },
    {
      "cell_type": "code",
      "source": [
        "# Python slicing is about obtaining a sub-string from the given string by slicing it respectively from start to end.\n",
        "# example-\n",
        "string1 = 'mynameisaditya'\n",
        "string1[10]"
      ],
      "metadata": {
        "colab": {
          "base_uri": "https://localhost:8080/",
          "height": 36
        },
        "id": "jnbwo0zyPfhK",
        "outputId": "26adae6d-b954-4401-e6b1-73fb45c479b4"
      },
      "execution_count": null,
      "outputs": [
        {
          "output_type": "execute_result",
          "data": {
            "text/plain": [
              "'i'"
            ],
            "application/vnd.google.colaboratory.intrinsic+json": {
              "type": "string"
            }
          },
          "metadata": {},
          "execution_count": 12
        }
      ]
    },
    {
      "cell_type": "code",
      "source": [
        "# 4. How can you change the case of a string in Python, can you provide examples of both making a string all uppercase and all lowercase?"
      ],
      "metadata": {
        "id": "-EZpi-aOQnj_"
      },
      "execution_count": null,
      "outputs": []
    },
    {
      "cell_type": "code",
      "source": [
        "# Python String swapcase() method converts all uppercase characters to lowercase and vice versa of the given string and returns it.\n",
        "stry = \"aDiTyA\"\n",
        "print(stry.upper())"
      ],
      "metadata": {
        "colab": {
          "base_uri": "https://localhost:8080/"
        },
        "id": "fKLLF1yfSk-l",
        "outputId": "7611516c-4bec-49d8-a167-7810a356a136"
      },
      "execution_count": null,
      "outputs": [
        {
          "output_type": "stream",
          "name": "stdout",
          "text": [
            "ADITYA\n"
          ]
        }
      ]
    },
    {
      "cell_type": "code",
      "source": [
        "print(stry.lower())"
      ],
      "metadata": {
        "colab": {
          "base_uri": "https://localhost:8080/"
        },
        "id": "YThrN7ayTjqD",
        "outputId": "b72a4125-f0c3-45ba-c2cf-4ffc5e595299"
      },
      "execution_count": null,
      "outputs": [
        {
          "output_type": "stream",
          "name": "stdout",
          "text": [
            "aditya\n"
          ]
        }
      ]
    },
    {
      "cell_type": "code",
      "source": [
        "# 5. What does the split() method do in Python, and how can you split a string using a specific delimeter?"
      ],
      "metadata": {
        "id": "7ChLjk8NT1y5"
      },
      "execution_count": null,
      "outputs": []
    },
    {
      "cell_type": "code",
      "source": [
        "# Python string split() method splits a string into a list of strings after breaking the given string by the specified separator.\n",
        "text = \"apple,banana,orange,grape\"\n",
        "fruits = text.split(\",\")\n",
        "print(fruits)"
      ],
      "metadata": {
        "colab": {
          "base_uri": "https://localhost:8080/"
        },
        "id": "1Gs4ytdfUVZh",
        "outputId": "cf082fa1-1413-4e02-efb9-0ef9b99de21b"
      },
      "execution_count": 29,
      "outputs": [
        {
          "output_type": "stream",
          "name": "stdout",
          "text": [
            "['apple', 'banana', 'orange', 'grape']\n"
          ]
        }
      ]
    },
    {
      "cell_type": "code",
      "source": [],
      "metadata": {
        "id": "uuVJFK5TVnuP"
      },
      "execution_count": null,
      "outputs": []
    }
  ]
}