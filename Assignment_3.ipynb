{
  "nbformat": 4,
  "nbformat_minor": 0,
  "metadata": {
    "colab": {
      "provenance": [],
      "authorship_tag": "ABX9TyMjMC6b5F08znR9895hjzn+",
      "include_colab_link": true
    },
    "kernelspec": {
      "name": "python3",
      "display_name": "Python 3"
    },
    "language_info": {
      "name": "python"
    }
  },
  "cells": [
    {
      "cell_type": "markdown",
      "metadata": {
        "id": "view-in-github",
        "colab_type": "text"
      },
      "source": [
        "<a href=\"https://colab.research.google.com/github/aditya-0503/python-assignment/blob/main/Assignment_3.ipynb\" target=\"_parent\"><img src=\"https://colab.research.google.com/assets/colab-badge.svg\" alt=\"Open In Colab\"/></a>"
      ]
    },
    {
      "cell_type": "code",
      "execution_count": 1,
      "metadata": {
        "id": "XuhJMFBzFQFZ"
      },
      "outputs": [],
      "source": [
        "# 1. Explain the significance of pythonkeywords and provide examples of five keywords."
      ]
    },
    {
      "cell_type": "code",
      "source": [
        "\n",
        "# > Keywords in python are predefined words that hold a special meaning and have a specific purpose within the python language.\n",
        "# > These keywords are reserved and already defined by the python compiler or interpreter, and they cannot be used as variable names or functions names.\n",
        "# > Keywords are used to define the syntax and structure of the python language, forming the building blocks for creating programs.\n",
        "\n",
        "# example of python keywwords -\n",
        "#False , True , continue , if , else"
      ],
      "metadata": {
        "id": "aQWAgA7QGvY9"
      },
      "execution_count": 3,
      "outputs": []
    },
    {
      "cell_type": "code",
      "source": [
        "# 2. Describe the rules for defining identifiers in python and provide an example."
      ],
      "metadata": {
        "id": "UbbNCowuJP9l"
      },
      "execution_count": 4,
      "outputs": []
    },
    {
      "cell_type": "code",
      "source": [
        "# > Avoid using keywords: Keywords in python are reserved words and cannot be used as identifies names, attempting to use a keywords as an identifers will result in a syntx error.\n",
        "# > Character restrictions: python identifers can consist of lowercase (a-z), uppercase letters(A-Z), digit (0-9) and underscores(_).However, they cannot begin with a digit or consist solely of digits.\n",
        "# > Starting with an underscore: identifers can begin with an underscore(_), making it a valid identifer.\n",
        "# > Case sensitivity: python identifers names are case-sensitive meaning that \"abc\" and \"ABC\" are considered as different identifers. Pay attention to letter casing when using identifers.\n",
        "\n",
        "# examples\n",
        "# valid identifers >   _abc , IOIP75 , PWSkills\n",
        "# Invalid identifers >   a-bs , 243 , 88Hello"
      ],
      "metadata": {
        "id": "oPFDWan0Jw8M"
      },
      "execution_count": 5,
      "outputs": []
    },
    {
      "cell_type": "code",
      "source": [
        "# 3. What are comments in python, and why are they useful? Provide an example."
      ],
      "metadata": {
        "id": "rV5p15n_NHNs"
      },
      "execution_count": 6,
      "outputs": []
    },
    {
      "cell_type": "code",
      "source": [
        "# > Comments are used in python to give explanations and documentation inside your code.\n",
        "# > The python interpreter does not excute comments, and they exist purely to help human readers to understand the code\n",
        "# > They are a great way to explain the purpose of code, provide context, make code more readable.\n",
        "# example>\n",
        "# this is a single line comment"
      ],
      "metadata": {
        "id": "0vjAyK_dNcC8"
      },
      "execution_count": 7,
      "outputs": []
    },
    {
      "cell_type": "code",
      "source": [
        "# 4. Why is proper indentation important in Python?"
      ],
      "metadata": {
        "id": "OOlNsdhLQ8H8"
      },
      "execution_count": 8,
      "outputs": []
    },
    {
      "cell_type": "code",
      "source": [
        "# Indentation is a very important concept of Python because without properly indenting the Python code, you will end up seeing IndentationError and the code will not get compiled."
      ],
      "metadata": {
        "id": "7DxY2EaoRFrq"
      },
      "execution_count": 9,
      "outputs": []
    },
    {
      "cell_type": "code",
      "source": [
        "# 5.What happens if indentation is correct in Python?"
      ],
      "metadata": {
        "id": "_J0NzU6WRtTZ"
      },
      "execution_count": 10,
      "outputs": []
    },
    {
      "cell_type": "code",
      "source": [
        "# Indentation Error is a very common error in Python. Because Python is an interpreted language, its interpreter reads the code line by line. In Python coding, we have to write code that is appropriately formatted with perfect use of gaps to make the code Executable. This perfect use of gaps is termed as indentation. If the user does not write code with proper indentation, it generates an indentation error."
      ],
      "metadata": {
        "id": "w_zPg4D3TWiN"
      },
      "execution_count": 11,
      "outputs": []
    },
    {
      "cell_type": "code",
      "source": [
        "# 6. Differentiate between expression and statement in python with examples."
      ],
      "metadata": {
        "id": "FzVVcPqrT72I"
      },
      "execution_count": 12,
      "outputs": []
    },
    {
      "cell_type": "code",
      "source": [
        "# Expression is a combination of operands and operators. Expression helps us to produce some other values.\n",
        "\n",
        "#In the python programming language,  expressions produce some other value and result after being interpreted with the help of a python interpreter.\n",
        "\n",
        "# Suppose we have a=a+20. In this expression 20 is a value that will be added to the variable a, and after the addition, we will get the result and it will be assigned to the variable a."
      ],
      "metadata": {
        "id": "-QOEKWuEURdT"
      },
      "execution_count": 13,
      "outputs": []
    },
    {
      "cell_type": "code",
      "source": [
        "# In Python, the statement is an instruction that a python interpreter can execute. In other words, the statement can be anything written in Python language. In the Python program, statement always end with the token NEWLINE character. It shows that each line in a Python program is a statement that can be executed with the help of a python interpreter.\n",
        "\n"
      ],
      "metadata": {
        "id": "9QBHjNq9Wt-u"
      },
      "execution_count": 14,
      "outputs": []
    },
    {
      "cell_type": "code",
      "source": [
        "# statement 1\n",
        "print('Hello world')\n",
        "\n",
        "\n",
        "# statement 2\n",
        "x = 200\n",
        "\n",
        "\n",
        "# statement 3\n",
        "print(x)"
      ],
      "metadata": {
        "colab": {
          "base_uri": "https://localhost:8080/"
        },
        "id": "sOJstDoQXBSG",
        "outputId": "c0422a97-5ae1-4642-cbcd-0a7df2faaf79"
      },
      "execution_count": 15,
      "outputs": [
        {
          "output_type": "stream",
          "name": "stdout",
          "text": [
            "Hello world\n",
            "200\n"
          ]
        }
      ]
    },
    {
      "cell_type": "code",
      "source": [],
      "metadata": {
        "id": "2aKEjrQAXLVt"
      },
      "execution_count": null,
      "outputs": []
    }
  ]
}