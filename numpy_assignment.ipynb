{
  "nbformat": 4,
  "nbformat_minor": 0,
  "metadata": {
    "colab": {
      "provenance": [],
      "authorship_tag": "ABX9TyNZA2m2UQHlrlIXwc7bIvEC",
      "include_colab_link": true
    },
    "kernelspec": {
      "name": "python3",
      "display_name": "Python 3"
    },
    "language_info": {
      "name": "python"
    }
  },
  "cells": [
    {
      "cell_type": "markdown",
      "metadata": {
        "id": "view-in-github",
        "colab_type": "text"
      },
      "source": [
        "<a href=\"https://colab.research.google.com/github/aditya-0503/python-assignment/blob/main/numpy_assignment.ipynb\" target=\"_parent\"><img src=\"https://colab.research.google.com/assets/colab-badge.svg\" alt=\"Open In Colab\"/></a>"
      ]
    },
    {
      "cell_type": "code",
      "source": [
        "import numpy as np\n",
        "import pandas as pd"
      ],
      "metadata": {
        "id": "IMuUIHHNy_ca"
      },
      "execution_count": 1,
      "outputs": []
    },
    {
      "cell_type": "code",
      "execution_count": null,
      "metadata": {
        "id": "VOIfuilVzG-P"
      },
      "outputs": [],
      "source": [
        "# 1. Create a NumPy array 'arr' of integers from 0 to 5 and print its data type."
      ]
    },
    {
      "cell_type": "code",
      "source": [
        "arr = np.array([0,1,2,3,4,5])\n",
        "print(arr)\n",
        "arr.dtype"
      ],
      "metadata": {
        "colab": {
          "base_uri": "https://localhost:8080/"
        },
        "id": "0qYmQaEg0xx_",
        "outputId": "0ed52b2f-a042-4650-de9d-5eb150850a18"
      },
      "execution_count": null,
      "outputs": [
        {
          "output_type": "stream",
          "name": "stdout",
          "text": [
            "[0 1 2 3 4 5]\n"
          ]
        },
        {
          "output_type": "execute_result",
          "data": {
            "text/plain": [
              "dtype('int64')"
            ]
          },
          "metadata": {},
          "execution_count": 3
        }
      ]
    },
    {
      "cell_type": "code",
      "source": [
        "# 2.Given a NumPy array 'arr' ,check if its data type is float64."
      ],
      "metadata": {
        "id": "_rT1EIU01ElE"
      },
      "execution_count": null,
      "outputs": []
    },
    {
      "cell_type": "code",
      "source": [
        "arr = np.array([0,1,2,3,4,5])\n",
        "print(arr.dtype)"
      ],
      "metadata": {
        "colab": {
          "base_uri": "https://localhost:8080/"
        },
        "id": "OBIQTmzeyi2s",
        "outputId": "29c9da8a-0010-4e16-e316-61ce1def6c12"
      },
      "execution_count": null,
      "outputs": [
        {
          "output_type": "stream",
          "name": "stdout",
          "text": [
            "int64\n"
          ]
        }
      ]
    },
    {
      "cell_type": "code",
      "source": [
        "# 3. Create a NumPy array 'arr' with a data type of complex128 containing three complex numbers."
      ],
      "metadata": {
        "id": "9w9k6-7Wy48l"
      },
      "execution_count": null,
      "outputs": []
    },
    {
      "cell_type": "code",
      "source": [
        "arr = np.array([1+3j,4+2j,6+7j])\n",
        "print(arr.dtype)"
      ],
      "metadata": {
        "colab": {
          "base_uri": "https://localhost:8080/"
        },
        "id": "-o6_QsJrz9uT",
        "outputId": "22784eeb-8a61-40d3-9330-0dbaf7467bec"
      },
      "execution_count": null,
      "outputs": [
        {
          "output_type": "stream",
          "name": "stdout",
          "text": [
            "complex128\n"
          ]
        }
      ]
    },
    {
      "cell_type": "code",
      "source": [
        "# 4. Convert an existing NumPy array 'arr' of integers to float32 data type."
      ],
      "metadata": {
        "id": "S0bHmm3G0J-g"
      },
      "execution_count": null,
      "outputs": []
    },
    {
      "cell_type": "code",
      "source": [
        "arr = np.array([0,1,2,3,4,5])\n",
        "print(arr.dtype)\n",
        "arr = arr.astype(np.float32)\n",
        "print(arr.dtype)"
      ],
      "metadata": {
        "colab": {
          "base_uri": "https://localhost:8080/"
        },
        "id": "9gyMzP3_0kM9",
        "outputId": "9f2b6ea4-70f2-454f-d209-386b1977427c"
      },
      "execution_count": null,
      "outputs": [
        {
          "output_type": "stream",
          "name": "stdout",
          "text": [
            "int64\n",
            "float32\n"
          ]
        }
      ]
    },
    {
      "cell_type": "code",
      "source": [
        "#5. Given a NumPy array 'arr' with float64 data type, convert it to float 32 to reduce decimal precision."
      ],
      "metadata": {
        "id": "xc8H-oQB0p7r"
      },
      "execution_count": null,
      "outputs": []
    },
    {
      "cell_type": "code",
      "source": [
        "arr = np.array([1.4533545433,5.654413243,3.35445656565,4.8535765652])\n",
        "print(arr.dtype)\n",
        "arr = arr.astype(np.float32)\n",
        "print(arr.dtype)\n",
        "arr"
      ],
      "metadata": {
        "colab": {
          "base_uri": "https://localhost:8080/"
        },
        "id": "13fdznss1h-d",
        "outputId": "495c1584-458b-4aca-ba14-1a39d3eac727"
      },
      "execution_count": null,
      "outputs": [
        {
          "output_type": "stream",
          "name": "stdout",
          "text": [
            "float64\n",
            "float32\n"
          ]
        },
        {
          "output_type": "execute_result",
          "data": {
            "text/plain": [
              "array([1.4533546, 5.654413 , 3.3544567, 4.8535767], dtype=float32)"
            ]
          },
          "metadata": {},
          "execution_count": 11
        }
      ]
    },
    {
      "cell_type": "code",
      "source": [
        "# 6. Write a function array_attributes that takes a NumPy array as input and returns its shape, size, and data type."
      ],
      "metadata": {
        "id": "nRYku1_41q6T"
      },
      "execution_count": null,
      "outputs": []
    },
    {
      "cell_type": "code",
      "source": [
        "def array_attributes(arr):\n",
        "  shape = arr.shape\n",
        "  size = arr.size\n",
        "  data_type = arr.dtype\n",
        "\n",
        "  return shape, size, data_type\n",
        "\n",
        "arr = np.array([0,1,2,3,4,5])\n",
        "attributes = array_attributes(arr)\n",
        "print(f\"shape = {attributes[0]}\")\n",
        "print(f\"size = {attributes[1]}\")\n",
        "print(f\"data_type = {attributes[2]}\")"
      ],
      "metadata": {
        "colab": {
          "base_uri": "https://localhost:8080/"
        },
        "id": "E6iLajlK3p4X",
        "outputId": "4f207d2f-bd3f-456c-c16e-bd83db1a65d5"
      },
      "execution_count": null,
      "outputs": [
        {
          "output_type": "stream",
          "name": "stdout",
          "text": [
            "shape = (6,)\n",
            "size = 6\n",
            "data_type = int64\n"
          ]
        }
      ]
    },
    {
      "cell_type": "code",
      "source": [
        "# 7. Create a function array_dimension that takes a NumPy array as input and returns its dimensionality."
      ],
      "metadata": {
        "id": "_ogN9JFX4l5b"
      },
      "execution_count": null,
      "outputs": []
    },
    {
      "cell_type": "code",
      "source": [
        "def array_dimension(arr):\n",
        "  return arr.ndim\n",
        "\n",
        "arr = np.array([[2,4,5,6],[3,56,84,3]])\n",
        "dim = array_dimension(arr)\n",
        "print(f\"dimensionality:{dim} \")"
      ],
      "metadata": {
        "colab": {
          "base_uri": "https://localhost:8080/"
        },
        "id": "lvDFaZEP584K",
        "outputId": "ba504053-3267-4a2b-e7e0-d93f9bc48f97"
      },
      "execution_count": null,
      "outputs": [
        {
          "output_type": "stream",
          "name": "stdout",
          "text": [
            "dimensionality:2 \n"
          ]
        }
      ]
    },
    {
      "cell_type": "code",
      "source": [
        "# 8. Design a function item_size_info that takes a NumPy array as input and returns the item size and the total size in bytes."
      ],
      "metadata": {
        "id": "83coF6U_6kP9"
      },
      "execution_count": null,
      "outputs": []
    },
    {
      "cell_type": "code",
      "source": [
        "def item_size_info(arr):\n",
        "  item_size = arr.itemsize\n",
        "  total_size = arr.size * item_size\n",
        "  return item_size, total_size\n",
        "\n",
        "arr = np.array([[2,4,5,6],[3,56,84,3]])\n",
        "attri = item_size_info(arr)\n",
        "print(f\"item_size:{attri[0]}\")\n",
        "print(f\"total_size:{attri[1]}\")"
      ],
      "metadata": {
        "colab": {
          "base_uri": "https://localhost:8080/"
        },
        "id": "8KruBG7o72lB",
        "outputId": "7baa1ec5-4e9d-4b56-ce4f-277f6a010334"
      },
      "execution_count": null,
      "outputs": [
        {
          "output_type": "stream",
          "name": "stdout",
          "text": [
            "item_size:8\n",
            "total_size:64\n"
          ]
        }
      ]
    },
    {
      "cell_type": "code",
      "source": [
        "#9. Create a function array_strides that takes a NumPy array as input and returns the strides of the array."
      ],
      "metadata": {
        "id": "m3Fn-IKw93YE"
      },
      "execution_count": null,
      "outputs": []
    },
    {
      "cell_type": "code",
      "source": [
        "def array_strides(arr):\n",
        "  strides = arr.strides\n",
        "  return strides\n",
        "\n",
        "arr = np.array([[2,4,5,6],[3,56,84,3]])\n",
        "stri = array_strides(arr)\n",
        "print(f\"strides:{stri}\")"
      ],
      "metadata": {
        "colab": {
          "base_uri": "https://localhost:8080/"
        },
        "id": "oFFzr1ZT_BwJ",
        "outputId": "289a1fb0-c1ed-412a-94ae-b4fe9b38fb82"
      },
      "execution_count": null,
      "outputs": [
        {
          "output_type": "stream",
          "name": "stdout",
          "text": [
            "strides:(32, 8)\n"
          ]
        }
      ]
    },
    {
      "cell_type": "code",
      "source": [
        "# 10. Design a function shape_stride_relationship that takes a NumPy array as input and returns the shape and strides of the array."
      ],
      "metadata": {
        "id": "1sYH9OYS_mhg"
      },
      "execution_count": null,
      "outputs": []
    },
    {
      "cell_type": "code",
      "source": [
        "def shape_stride_relationship(arr):\n",
        "  shape = arr.shape\n",
        "  strides = arr.strides\n",
        "\n",
        "  return shape, strides\n",
        "\n",
        "arr = np.array([[2,4,5,6],[3,56,84,3]])\n",
        "shape_stride = shape_stride_relationship(arr)\n",
        "print(f\"shape:{shape_stride[0]}\")\n",
        "print(f\"strides:{shape_stride[1]}\")"
      ],
      "metadata": {
        "colab": {
          "base_uri": "https://localhost:8080/"
        },
        "id": "MZ-I05QMRpkH",
        "outputId": "5ac97225-6ec0-4dff-9e77-72fdd0a6e691"
      },
      "execution_count": null,
      "outputs": [
        {
          "output_type": "stream",
          "name": "stdout",
          "text": [
            "shape:(2, 4)\n",
            "strides:(32, 8)\n"
          ]
        }
      ]
    },
    {
      "cell_type": "code",
      "source": [
        "# 11. Create a function 'create_zeroes_array' that takes an integer 'n' as input and returns a NumPy array of zeroes with 'n' elements."
      ],
      "metadata": {
        "id": "VlL2vPenSXUL"
      },
      "execution_count": null,
      "outputs": []
    },
    {
      "cell_type": "code",
      "source": [
        "def create_zeroes_array(arr):\n",
        " no_zero = int(input(\"number_of_zeroes:\"))\n",
        " arr = np.zeros(no_zero)\n",
        "\n",
        " return arr\n",
        "\n",
        "no_of_zeroes = create_zeroes_array(arr)\n",
        "print(f\"arr:{no_of_zeroes}\")"
      ],
      "metadata": {
        "colab": {
          "base_uri": "https://localhost:8080/"
        },
        "id": "96z7JPviVKif",
        "outputId": "85ddb469-5535-41e1-eb7b-3eeb7482203e"
      },
      "execution_count": null,
      "outputs": [
        {
          "output_type": "stream",
          "name": "stdout",
          "text": [
            "number_of_zeroes:3\n",
            "arr:[0. 0. 0.]\n"
          ]
        }
      ]
    },
    {
      "cell_type": "code",
      "source": [
        "# 12. Write a function 'create_ones_matrix' that takes integers 'rows' and 'cols' as inputs and generates a 2D NumPy array filled with ones of size 'rows x cols'."
      ],
      "metadata": {
        "id": "YTXxFn7E_JYv"
      },
      "execution_count": null,
      "outputs": []
    },
    {
      "cell_type": "code",
      "source": [
        "def create_ones_matrix(arr):\n",
        "  rows = int(input(\"no of rows:\"))\n",
        "  columns = int(input(\"no of columns:\"))\n",
        "  arr = np.ones((rows,columns))\n",
        "\n",
        "  return arr\n",
        "\n",
        "no_of_rows_and_cols = create_ones_matrix(arr)\n",
        "print(f\"2D_NumPy_array:{no_of_rows_and_cols}\")"
      ],
      "metadata": {
        "colab": {
          "base_uri": "https://localhost:8080/"
        },
        "id": "8r8PyLEBC1iq",
        "outputId": "37183064-5c8b-45d2-8236-52be10a75508"
      },
      "execution_count": null,
      "outputs": [
        {
          "output_type": "stream",
          "name": "stdout",
          "text": [
            "no of rows:4\n",
            "no of columns:3\n",
            "2D_NumPy_array:[[1. 1. 1.]\n",
            " [1. 1. 1.]\n",
            " [1. 1. 1.]\n",
            " [1. 1. 1.]]\n"
          ]
        }
      ]
    },
    {
      "cell_type": "code",
      "source": [
        "# 13. Write a function `generate_range_array` that takes three integers start, stop, and step as arguments and creates a NumPy array with a range starting from `start`, ending at stop (exclusive), and with the specified `step`."
      ],
      "metadata": {
        "id": "WuDKu03HEIGx"
      },
      "execution_count": null,
      "outputs": []
    },
    {
      "cell_type": "code",
      "source": [
        "def generate_range_array(arr):\n",
        "  start = 0\n",
        "  stop = 12\n",
        "  step = 3\n",
        "\n",
        "  arr = np.arange(start, stop, step)\n",
        "  return arr\n",
        "array_2 = generate_range_array(arr)\n",
        "print(f\"array:{array_2}\")"
      ],
      "metadata": {
        "colab": {
          "base_uri": "https://localhost:8080/"
        },
        "id": "MNhNpi8k3-lS",
        "outputId": "ce042bf2-cce5-4dc2-e235-41ce2f6930a0"
      },
      "execution_count": null,
      "outputs": [
        {
          "output_type": "stream",
          "name": "stdout",
          "text": [
            "array:[0 3 6 9]\n"
          ]
        }
      ]
    },
    {
      "cell_type": "code",
      "source": [
        "# 14. Design a function `generate_linear_space` that takes two floats `start`, `stop`, and an integer `num` as arguments and generates a NumPy array with num equally spaced values between `start` and `stop` (inclusive)."
      ],
      "metadata": {
        "id": "exg7avtq4j-k"
      },
      "execution_count": null,
      "outputs": []
    },
    {
      "cell_type": "code",
      "source": [
        "def generate_linear_space(arr):\n",
        "  start = 1\n",
        "  stop = 10\n",
        "  num = 10\n",
        "  arr = np.linspace(start, stop, num)\n",
        "\n",
        "  return arr\n",
        "\n",
        "array = generate_linear_space(arr)\n",
        "print(f\"array is like:{array}\")"
      ],
      "metadata": {
        "colab": {
          "base_uri": "https://localhost:8080/"
        },
        "id": "f4Du1o0z5-W0",
        "outputId": "053d0151-02b4-4af4-f847-917cdf322dd4"
      },
      "execution_count": null,
      "outputs": [
        {
          "output_type": "stream",
          "name": "stdout",
          "text": [
            "array is like:[ 1.  2.  3.  4.  5.  6.  7.  8.  9. 10.]\n"
          ]
        }
      ]
    },
    {
      "cell_type": "code",
      "source": [
        "# 15. Create a function `create_identity_matrix` that takes an integer `n` as input and generates a square identity matrix of size `n x n` using `numpy.eye`."
      ],
      "metadata": {
        "id": "eeHvvkIF6vwq"
      },
      "execution_count": null,
      "outputs": []
    },
    {
      "cell_type": "code",
      "source": [
        "def create_identity_matrix(array):\n",
        "  n = int(input(\"enter the number\"))\n",
        "  array = np.eye(n)\n",
        "  return array\n",
        "\n",
        "array_2 = create_identity_matrix(array)\n",
        "print(f\"the matrix is:{array_2}\")"
      ],
      "metadata": {
        "colab": {
          "base_uri": "https://localhost:8080/"
        },
        "id": "iw5G5X337LzS",
        "outputId": "076dd155-9445-4b1d-d740-3bd7839f42cb"
      },
      "execution_count": null,
      "outputs": [
        {
          "output_type": "stream",
          "name": "stdout",
          "text": [
            "enter the number3\n",
            "the matrix is:[[1. 0. 0.]\n",
            " [0. 1. 0.]\n",
            " [0. 0. 1.]]\n"
          ]
        }
      ]
    },
    {
      "cell_type": "code",
      "source": [
        "# 16. Write a function that takes a Python list and converts it into a NumPy array."
      ],
      "metadata": {
        "id": "G7ZxMWvD8KOr"
      },
      "execution_count": null,
      "outputs": []
    },
    {
      "cell_type": "code",
      "source": [
        "def convert_into_pylist(pylist):\n",
        "  NumPy_array = np.array(pylist)\n",
        "\n",
        "  return NumPy_array\n",
        "pylist = [1,2,3,4,5,6,7,8]\n",
        "Numpy_array = convert_into_pylist(pylist)\n",
        "print(f\"NumPy array is:{Numpy_array}\")"
      ],
      "metadata": {
        "colab": {
          "base_uri": "https://localhost:8080/"
        },
        "id": "lJal3m-1_nbQ",
        "outputId": "ef95f4ff-9374-4100-c5ca-e94d19745506"
      },
      "execution_count": null,
      "outputs": [
        {
          "output_type": "stream",
          "name": "stdout",
          "text": [
            "NumPy array is:[1 2 3 4 5 6 7 8]\n"
          ]
        }
      ]
    },
    {
      "cell_type": "code",
      "source": [
        "# 17. Create a NumPy array and demonstrate the use of `numpy.view` to create a new array object with the same data."
      ],
      "metadata": {
        "id": "vTszZdhgAsl_"
      },
      "execution_count": null,
      "outputs": []
    },
    {
      "cell_type": "code",
      "source": [
        "original_array = np.array([1, 2, 3, 4, 5], dtype=np.int32)\n",
        "viewed_array = original_array.view(dtype=np.float32)\n",
        "\n",
        "print(\"Original array:\")\n",
        "print(original_array)\n",
        "\n",
        "print(\"\\nViewed array (as float32):\")\n",
        "print(viewed_array)"
      ],
      "metadata": {
        "colab": {
          "base_uri": "https://localhost:8080/"
        },
        "id": "gJwzTj7RCnLf",
        "outputId": "4dccd8fb-665c-4aac-c879-6b726e2cf805"
      },
      "execution_count": null,
      "outputs": [
        {
          "output_type": "stream",
          "name": "stdout",
          "text": [
            "Original array:\n",
            "[1 2 3 4 5]\n",
            "\n",
            "Viewed array (as float32):\n",
            "[1.e-45 3.e-45 4.e-45 6.e-45 7.e-45]\n"
          ]
        }
      ]
    },
    {
      "cell_type": "code",
      "source": [
        "# 18. Write a function that takes two NumPy arrays and concatenates them along a specified axis."
      ],
      "metadata": {
        "id": "s3hzK5GDC2vq"
      },
      "execution_count": null,
      "outputs": []
    },
    {
      "cell_type": "code",
      "source": [
        "array1 = np.array([[1, 2, 3], [4, 5, 6]])\n",
        "array2 = np.array([[7, 8, 9], [10, 11, 12]])\n",
        "\n",
        "first = np.concatenate((array1, array2), axis=0)\n",
        "\n",
        "print(\"Concatenated along axis 0:\")\n",
        "print(first)\n"
      ],
      "metadata": {
        "colab": {
          "base_uri": "https://localhost:8080/"
        },
        "id": "cfDp8HTpHSMd",
        "outputId": "a14dcca7-f71f-46da-e54e-f8c90b5d64a9"
      },
      "execution_count": null,
      "outputs": [
        {
          "output_type": "stream",
          "name": "stdout",
          "text": [
            "Concatenated along axis 0:\n",
            "[[ 1  2  3]\n",
            " [ 4  5  6]\n",
            " [ 7  8  9]\n",
            " [10 11 12]]\n"
          ]
        }
      ]
    },
    {
      "cell_type": "code",
      "source": [
        "# 19. Create two NumPy arrays with different shapes and concatenate them horizontally using `numpy.concatenate`."
      ],
      "metadata": {
        "id": "PPXhH3w0HaxE"
      },
      "execution_count": null,
      "outputs": []
    },
    {
      "cell_type": "code",
      "source": [
        "array1 = np.array([[1, 2, 3], [4, 5, 6]])\n",
        "array2 = np.array([[7, 8], [10, 11]])\n",
        "\n",
        "first = np.concatenate((array1, array2), axis=1)\n",
        "\n",
        "print(\"Concatenated along axis 1:\")\n",
        "print(first)"
      ],
      "metadata": {
        "colab": {
          "base_uri": "https://localhost:8080/"
        },
        "id": "TRpbVVHUJFzW",
        "outputId": "8d8cf1dc-e43b-4811-bf62-81f9f0e73e7e"
      },
      "execution_count": null,
      "outputs": [
        {
          "output_type": "stream",
          "name": "stdout",
          "text": [
            "Concatenated along axis 1:\n",
            "[[ 1  2  3  7  8]\n",
            " [ 4  5  6 10 11]]\n"
          ]
        }
      ]
    },
    {
      "cell_type": "code",
      "source": [
        "# 20. Write a function that vertically stacks multiple NumPy arrays given as a list."
      ],
      "metadata": {
        "id": "Ip45ANeKJddH"
      },
      "execution_count": null,
      "outputs": []
    },
    {
      "cell_type": "code",
      "source": [
        "import numpy as np\n",
        "\n",
        "def vertical_stack(arrays):\n",
        "\n",
        "    return np.vstack(arrays)\n",
        "\n",
        "array1 = np.array([[1, 2, 3], [4, 5, 6]])\n",
        "array2 = np.array([[7, 8, 9], [10, 11, 12]])\n",
        "array3 = np.array([[13, 14, 15]])\n",
        "\n",
        "arrays = [array1, array2, array3]\n",
        "\n",
        "stacked_array = vertical_stack(arrays)\n",
        "\n",
        "print(\"Array 1:\")\n",
        "print(array1)\n",
        "\n",
        "print(\"\\nArray 2:\")\n",
        "print(array2)\n",
        "\n",
        "print(\"\\nArray 3:\")\n",
        "print(array3)\n",
        "\n",
        "print(\"\\nStacked Array (vertically):\")\n",
        "print(stacked_array)"
      ],
      "metadata": {
        "colab": {
          "base_uri": "https://localhost:8080/"
        },
        "id": "Fc7thg8pQpRe",
        "outputId": "00229573-6637-43ed-be28-16b4263b1f5b"
      },
      "execution_count": null,
      "outputs": [
        {
          "output_type": "stream",
          "name": "stdout",
          "text": [
            "Array 1:\n",
            "[[1 2 3]\n",
            " [4 5 6]]\n",
            "\n",
            "Array 2:\n",
            "[[ 7  8  9]\n",
            " [10 11 12]]\n",
            "\n",
            "Array 3:\n",
            "[[13 14 15]]\n",
            "\n",
            "Stacked Array (vertically):\n",
            "[[ 1  2  3]\n",
            " [ 4  5  6]\n",
            " [ 7  8  9]\n",
            " [10 11 12]\n",
            " [13 14 15]]\n"
          ]
        }
      ]
    },
    {
      "cell_type": "code",
      "source": [
        "# 21. Write a Python function using NumPy to create an array of integers within a specified range (inclusive) with a given step size."
      ],
      "metadata": {
        "id": "ISBBnS6eQ6IL"
      },
      "execution_count": null,
      "outputs": []
    },
    {
      "cell_type": "code",
      "source": [
        "def generate_linear_space(arr):\n",
        "  start = 1\n",
        "  stop = 10\n",
        "  num = 10\n",
        "  arr = np.linspace(start, stop, num)\n",
        "\n",
        "  return arr\n",
        "\n",
        "array = generate_linear_space(arr)\n",
        "print(f\"array is like:{array}\")"
      ],
      "metadata": {
        "colab": {
          "base_uri": "https://localhost:8080/"
        },
        "id": "yIdX4QdUOCNh",
        "outputId": "110d8496-5006-4b2b-a360-60ae917d7712"
      },
      "execution_count": null,
      "outputs": [
        {
          "output_type": "stream",
          "name": "stdout",
          "text": [
            "array is like:[ 1.  2.  3.  4.  5.  6.  7.  8.  9. 10.]\n"
          ]
        }
      ]
    },
    {
      "cell_type": "code",
      "source": [
        "# 22. Write a Python function using NumPy to generate an array of 10 equally spaced values between 0 and 1 (inclusive)."
      ],
      "metadata": {
        "id": "YeFaEx--OEg_"
      },
      "execution_count": null,
      "outputs": []
    },
    {
      "cell_type": "code",
      "source": [
        "def generate_linear_space(arr):\n",
        "  start = 0\n",
        "  stop = 1\n",
        "  num = 10\n",
        "  arr = np.linspace(start, stop, num)\n",
        "\n",
        "  return arr\n",
        "\n",
        "array = generate_linear_space(arr)\n",
        "print(f\"array is like:{array}\")"
      ],
      "metadata": {
        "colab": {
          "base_uri": "https://localhost:8080/"
        },
        "id": "dsX-gckIOdS8",
        "outputId": "ae1c8d27-399c-468b-fe2a-d5ec5368ed7d"
      },
      "execution_count": null,
      "outputs": [
        {
          "output_type": "stream",
          "name": "stdout",
          "text": [
            "array is like:[0.         0.11111111 0.22222222 0.33333333 0.44444444 0.55555556\n",
            " 0.66666667 0.77777778 0.88888889 1.        ]\n"
          ]
        }
      ]
    },
    {
      "cell_type": "code",
      "source": [
        "# 23. Write a Python function using NumPy to create an array of 5 logarithmically spaced values between 1 and 1000 (inclusive)."
      ],
      "metadata": {
        "id": "cb9-hVw6OnKf"
      },
      "execution_count": null,
      "outputs": []
    },
    {
      "cell_type": "code",
      "source": [
        "def logarithmically_spaced(arr):\n",
        "  start = 0\n",
        "  stop = 3.0\n",
        "  num = 5\n",
        "  arr = np.logspace(start, stop, num)\n",
        "\n",
        "  return arr\n",
        "\n",
        "array = logarithmically_spaced(arr)\n",
        "print(f\"array is like:{array}\")"
      ],
      "metadata": {
        "colab": {
          "base_uri": "https://localhost:8080/"
        },
        "id": "c3LCEX0VPNrJ",
        "outputId": "b849a36d-0273-4663-fb39-3669f7d9db61"
      },
      "execution_count": null,
      "outputs": [
        {
          "output_type": "stream",
          "name": "stdout",
          "text": [
            "array is like:[   1.            5.62341325   31.6227766   177.827941   1000.        ]\n"
          ]
        }
      ]
    },
    {
      "cell_type": "code",
      "source": [
        "# 24. Create a Pandas DataFrame using a NumPy array that contains 5 rows and 3 columns, where the values are random integers between 1 and 100."
      ],
      "metadata": {
        "id": "-09ayuYGQFCw"
      },
      "execution_count": null,
      "outputs": []
    },
    {
      "cell_type": "code",
      "source": [
        "array = np.random.randint(1,100,(3,5))\n",
        "my_array = pd.DataFrame(array)"
      ],
      "metadata": {
        "id": "7Ci26w_XSlo8"
      },
      "execution_count": null,
      "outputs": []
    },
    {
      "cell_type": "code",
      "source": [
        "my_array"
      ],
      "metadata": {
        "colab": {
          "base_uri": "https://localhost:8080/",
          "height": 143
        },
        "id": "c3seLilDS5hF",
        "outputId": "a42053c0-ca51-439f-d63e-8c7d4d924f1a"
      },
      "execution_count": null,
      "outputs": [
        {
          "output_type": "execute_result",
          "data": {
            "text/plain": [
              "    0   1   2   3   4\n",
              "0  77  48  66  47  51\n",
              "1  30  59  86  58  88\n",
              "2  60  82   4  57  80"
            ],
            "text/html": [
              "\n",
              "  <div id=\"df-32a64448-fe90-4ae1-b52c-c2bf0c11faae\" class=\"colab-df-container\">\n",
              "    <div>\n",
              "<style scoped>\n",
              "    .dataframe tbody tr th:only-of-type {\n",
              "        vertical-align: middle;\n",
              "    }\n",
              "\n",
              "    .dataframe tbody tr th {\n",
              "        vertical-align: top;\n",
              "    }\n",
              "\n",
              "    .dataframe thead th {\n",
              "        text-align: right;\n",
              "    }\n",
              "</style>\n",
              "<table border=\"1\" class=\"dataframe\">\n",
              "  <thead>\n",
              "    <tr style=\"text-align: right;\">\n",
              "      <th></th>\n",
              "      <th>0</th>\n",
              "      <th>1</th>\n",
              "      <th>2</th>\n",
              "      <th>3</th>\n",
              "      <th>4</th>\n",
              "    </tr>\n",
              "  </thead>\n",
              "  <tbody>\n",
              "    <tr>\n",
              "      <th>0</th>\n",
              "      <td>77</td>\n",
              "      <td>48</td>\n",
              "      <td>66</td>\n",
              "      <td>47</td>\n",
              "      <td>51</td>\n",
              "    </tr>\n",
              "    <tr>\n",
              "      <th>1</th>\n",
              "      <td>30</td>\n",
              "      <td>59</td>\n",
              "      <td>86</td>\n",
              "      <td>58</td>\n",
              "      <td>88</td>\n",
              "    </tr>\n",
              "    <tr>\n",
              "      <th>2</th>\n",
              "      <td>60</td>\n",
              "      <td>82</td>\n",
              "      <td>4</td>\n",
              "      <td>57</td>\n",
              "      <td>80</td>\n",
              "    </tr>\n",
              "  </tbody>\n",
              "</table>\n",
              "</div>\n",
              "    <div class=\"colab-df-buttons\">\n",
              "\n",
              "  <div class=\"colab-df-container\">\n",
              "    <button class=\"colab-df-convert\" onclick=\"convertToInteractive('df-32a64448-fe90-4ae1-b52c-c2bf0c11faae')\"\n",
              "            title=\"Convert this dataframe to an interactive table.\"\n",
              "            style=\"display:none;\">\n",
              "\n",
              "  <svg xmlns=\"http://www.w3.org/2000/svg\" height=\"24px\" viewBox=\"0 -960 960 960\">\n",
              "    <path d=\"M120-120v-720h720v720H120Zm60-500h600v-160H180v160Zm220 220h160v-160H400v160Zm0 220h160v-160H400v160ZM180-400h160v-160H180v160Zm440 0h160v-160H620v160ZM180-180h160v-160H180v160Zm440 0h160v-160H620v160Z\"/>\n",
              "  </svg>\n",
              "    </button>\n",
              "\n",
              "  <style>\n",
              "    .colab-df-container {\n",
              "      display:flex;\n",
              "      gap: 12px;\n",
              "    }\n",
              "\n",
              "    .colab-df-convert {\n",
              "      background-color: #E8F0FE;\n",
              "      border: none;\n",
              "      border-radius: 50%;\n",
              "      cursor: pointer;\n",
              "      display: none;\n",
              "      fill: #1967D2;\n",
              "      height: 32px;\n",
              "      padding: 0 0 0 0;\n",
              "      width: 32px;\n",
              "    }\n",
              "\n",
              "    .colab-df-convert:hover {\n",
              "      background-color: #E2EBFA;\n",
              "      box-shadow: 0px 1px 2px rgba(60, 64, 67, 0.3), 0px 1px 3px 1px rgba(60, 64, 67, 0.15);\n",
              "      fill: #174EA6;\n",
              "    }\n",
              "\n",
              "    .colab-df-buttons div {\n",
              "      margin-bottom: 4px;\n",
              "    }\n",
              "\n",
              "    [theme=dark] .colab-df-convert {\n",
              "      background-color: #3B4455;\n",
              "      fill: #D2E3FC;\n",
              "    }\n",
              "\n",
              "    [theme=dark] .colab-df-convert:hover {\n",
              "      background-color: #434B5C;\n",
              "      box-shadow: 0px 1px 3px 1px rgba(0, 0, 0, 0.15);\n",
              "      filter: drop-shadow(0px 1px 2px rgba(0, 0, 0, 0.3));\n",
              "      fill: #FFFFFF;\n",
              "    }\n",
              "  </style>\n",
              "\n",
              "    <script>\n",
              "      const buttonEl =\n",
              "        document.querySelector('#df-32a64448-fe90-4ae1-b52c-c2bf0c11faae button.colab-df-convert');\n",
              "      buttonEl.style.display =\n",
              "        google.colab.kernel.accessAllowed ? 'block' : 'none';\n",
              "\n",
              "      async function convertToInteractive(key) {\n",
              "        const element = document.querySelector('#df-32a64448-fe90-4ae1-b52c-c2bf0c11faae');\n",
              "        const dataTable =\n",
              "          await google.colab.kernel.invokeFunction('convertToInteractive',\n",
              "                                                    [key], {});\n",
              "        if (!dataTable) return;\n",
              "\n",
              "        const docLinkHtml = 'Like what you see? Visit the ' +\n",
              "          '<a target=\"_blank\" href=https://colab.research.google.com/notebooks/data_table.ipynb>data table notebook</a>'\n",
              "          + ' to learn more about interactive tables.';\n",
              "        element.innerHTML = '';\n",
              "        dataTable['output_type'] = 'display_data';\n",
              "        await google.colab.output.renderOutput(dataTable, element);\n",
              "        const docLink = document.createElement('div');\n",
              "        docLink.innerHTML = docLinkHtml;\n",
              "        element.appendChild(docLink);\n",
              "      }\n",
              "    </script>\n",
              "  </div>\n",
              "\n",
              "\n",
              "<div id=\"df-3a1885ce-7ff2-4000-b560-04d96bfb858e\">\n",
              "  <button class=\"colab-df-quickchart\" onclick=\"quickchart('df-3a1885ce-7ff2-4000-b560-04d96bfb858e')\"\n",
              "            title=\"Suggest charts\"\n",
              "            style=\"display:none;\">\n",
              "\n",
              "<svg xmlns=\"http://www.w3.org/2000/svg\" height=\"24px\"viewBox=\"0 0 24 24\"\n",
              "     width=\"24px\">\n",
              "    <g>\n",
              "        <path d=\"M19 3H5c-1.1 0-2 .9-2 2v14c0 1.1.9 2 2 2h14c1.1 0 2-.9 2-2V5c0-1.1-.9-2-2-2zM9 17H7v-7h2v7zm4 0h-2V7h2v10zm4 0h-2v-4h2v4z\"/>\n",
              "    </g>\n",
              "</svg>\n",
              "  </button>\n",
              "\n",
              "<style>\n",
              "  .colab-df-quickchart {\n",
              "      --bg-color: #E8F0FE;\n",
              "      --fill-color: #1967D2;\n",
              "      --hover-bg-color: #E2EBFA;\n",
              "      --hover-fill-color: #174EA6;\n",
              "      --disabled-fill-color: #AAA;\n",
              "      --disabled-bg-color: #DDD;\n",
              "  }\n",
              "\n",
              "  [theme=dark] .colab-df-quickchart {\n",
              "      --bg-color: #3B4455;\n",
              "      --fill-color: #D2E3FC;\n",
              "      --hover-bg-color: #434B5C;\n",
              "      --hover-fill-color: #FFFFFF;\n",
              "      --disabled-bg-color: #3B4455;\n",
              "      --disabled-fill-color: #666;\n",
              "  }\n",
              "\n",
              "  .colab-df-quickchart {\n",
              "    background-color: var(--bg-color);\n",
              "    border: none;\n",
              "    border-radius: 50%;\n",
              "    cursor: pointer;\n",
              "    display: none;\n",
              "    fill: var(--fill-color);\n",
              "    height: 32px;\n",
              "    padding: 0;\n",
              "    width: 32px;\n",
              "  }\n",
              "\n",
              "  .colab-df-quickchart:hover {\n",
              "    background-color: var(--hover-bg-color);\n",
              "    box-shadow: 0 1px 2px rgba(60, 64, 67, 0.3), 0 1px 3px 1px rgba(60, 64, 67, 0.15);\n",
              "    fill: var(--button-hover-fill-color);\n",
              "  }\n",
              "\n",
              "  .colab-df-quickchart-complete:disabled,\n",
              "  .colab-df-quickchart-complete:disabled:hover {\n",
              "    background-color: var(--disabled-bg-color);\n",
              "    fill: var(--disabled-fill-color);\n",
              "    box-shadow: none;\n",
              "  }\n",
              "\n",
              "  .colab-df-spinner {\n",
              "    border: 2px solid var(--fill-color);\n",
              "    border-color: transparent;\n",
              "    border-bottom-color: var(--fill-color);\n",
              "    animation:\n",
              "      spin 1s steps(1) infinite;\n",
              "  }\n",
              "\n",
              "  @keyframes spin {\n",
              "    0% {\n",
              "      border-color: transparent;\n",
              "      border-bottom-color: var(--fill-color);\n",
              "      border-left-color: var(--fill-color);\n",
              "    }\n",
              "    20% {\n",
              "      border-color: transparent;\n",
              "      border-left-color: var(--fill-color);\n",
              "      border-top-color: var(--fill-color);\n",
              "    }\n",
              "    30% {\n",
              "      border-color: transparent;\n",
              "      border-left-color: var(--fill-color);\n",
              "      border-top-color: var(--fill-color);\n",
              "      border-right-color: var(--fill-color);\n",
              "    }\n",
              "    40% {\n",
              "      border-color: transparent;\n",
              "      border-right-color: var(--fill-color);\n",
              "      border-top-color: var(--fill-color);\n",
              "    }\n",
              "    60% {\n",
              "      border-color: transparent;\n",
              "      border-right-color: var(--fill-color);\n",
              "    }\n",
              "    80% {\n",
              "      border-color: transparent;\n",
              "      border-right-color: var(--fill-color);\n",
              "      border-bottom-color: var(--fill-color);\n",
              "    }\n",
              "    90% {\n",
              "      border-color: transparent;\n",
              "      border-bottom-color: var(--fill-color);\n",
              "    }\n",
              "  }\n",
              "</style>\n",
              "\n",
              "  <script>\n",
              "    async function quickchart(key) {\n",
              "      const quickchartButtonEl =\n",
              "        document.querySelector('#' + key + ' button');\n",
              "      quickchartButtonEl.disabled = true;  // To prevent multiple clicks.\n",
              "      quickchartButtonEl.classList.add('colab-df-spinner');\n",
              "      try {\n",
              "        const charts = await google.colab.kernel.invokeFunction(\n",
              "            'suggestCharts', [key], {});\n",
              "      } catch (error) {\n",
              "        console.error('Error during call to suggestCharts:', error);\n",
              "      }\n",
              "      quickchartButtonEl.classList.remove('colab-df-spinner');\n",
              "      quickchartButtonEl.classList.add('colab-df-quickchart-complete');\n",
              "    }\n",
              "    (() => {\n",
              "      let quickchartButtonEl =\n",
              "        document.querySelector('#df-3a1885ce-7ff2-4000-b560-04d96bfb858e button');\n",
              "      quickchartButtonEl.style.display =\n",
              "        google.colab.kernel.accessAllowed ? 'block' : 'none';\n",
              "    })();\n",
              "  </script>\n",
              "</div>\n",
              "\n",
              "  <div id=\"id_d7c51fb5-aac0-4115-bc08-74fc81e6ee5f\">\n",
              "    <style>\n",
              "      .colab-df-generate {\n",
              "        background-color: #E8F0FE;\n",
              "        border: none;\n",
              "        border-radius: 50%;\n",
              "        cursor: pointer;\n",
              "        display: none;\n",
              "        fill: #1967D2;\n",
              "        height: 32px;\n",
              "        padding: 0 0 0 0;\n",
              "        width: 32px;\n",
              "      }\n",
              "\n",
              "      .colab-df-generate:hover {\n",
              "        background-color: #E2EBFA;\n",
              "        box-shadow: 0px 1px 2px rgba(60, 64, 67, 0.3), 0px 1px 3px 1px rgba(60, 64, 67, 0.15);\n",
              "        fill: #174EA6;\n",
              "      }\n",
              "\n",
              "      [theme=dark] .colab-df-generate {\n",
              "        background-color: #3B4455;\n",
              "        fill: #D2E3FC;\n",
              "      }\n",
              "\n",
              "      [theme=dark] .colab-df-generate:hover {\n",
              "        background-color: #434B5C;\n",
              "        box-shadow: 0px 1px 3px 1px rgba(0, 0, 0, 0.15);\n",
              "        filter: drop-shadow(0px 1px 2px rgba(0, 0, 0, 0.3));\n",
              "        fill: #FFFFFF;\n",
              "      }\n",
              "    </style>\n",
              "    <button class=\"colab-df-generate\" onclick=\"generateWithVariable('my_array')\"\n",
              "            title=\"Generate code using this dataframe.\"\n",
              "            style=\"display:none;\">\n",
              "\n",
              "  <svg xmlns=\"http://www.w3.org/2000/svg\" height=\"24px\"viewBox=\"0 0 24 24\"\n",
              "       width=\"24px\">\n",
              "    <path d=\"M7,19H8.4L18.45,9,17,7.55,7,17.6ZM5,21V16.75L18.45,3.32a2,2,0,0,1,2.83,0l1.4,1.43a1.91,1.91,0,0,1,.58,1.4,1.91,1.91,0,0,1-.58,1.4L9.25,21ZM18.45,9,17,7.55Zm-12,3A5.31,5.31,0,0,0,4.9,8.1,5.31,5.31,0,0,0,1,6.5,5.31,5.31,0,0,0,4.9,4.9,5.31,5.31,0,0,0,6.5,1,5.31,5.31,0,0,0,8.1,4.9,5.31,5.31,0,0,0,12,6.5,5.46,5.46,0,0,0,6.5,12Z\"/>\n",
              "  </svg>\n",
              "    </button>\n",
              "    <script>\n",
              "      (() => {\n",
              "      const buttonEl =\n",
              "        document.querySelector('#id_d7c51fb5-aac0-4115-bc08-74fc81e6ee5f button.colab-df-generate');\n",
              "      buttonEl.style.display =\n",
              "        google.colab.kernel.accessAllowed ? 'block' : 'none';\n",
              "\n",
              "      buttonEl.onclick = () => {\n",
              "        google.colab.notebook.generateWithVariable('my_array');\n",
              "      }\n",
              "      })();\n",
              "    </script>\n",
              "  </div>\n",
              "\n",
              "    </div>\n",
              "  </div>\n"
            ],
            "application/vnd.google.colaboratory.intrinsic+json": {
              "type": "dataframe",
              "variable_name": "my_array",
              "summary": "{\n  \"name\": \"my_array\",\n  \"rows\": 3,\n  \"fields\": [\n    {\n      \"column\": 0,\n      \"properties\": {\n        \"dtype\": \"number\",\n        \"std\": 23,\n        \"min\": 30,\n        \"max\": 77,\n        \"num_unique_values\": 3,\n        \"samples\": [\n          77,\n          30,\n          60\n        ],\n        \"semantic_type\": \"\",\n        \"description\": \"\"\n      }\n    },\n    {\n      \"column\": 1,\n      \"properties\": {\n        \"dtype\": \"number\",\n        \"std\": 17,\n        \"min\": 48,\n        \"max\": 82,\n        \"num_unique_values\": 3,\n        \"samples\": [\n          48,\n          59,\n          82\n        ],\n        \"semantic_type\": \"\",\n        \"description\": \"\"\n      }\n    },\n    {\n      \"column\": 2,\n      \"properties\": {\n        \"dtype\": \"number\",\n        \"std\": 42,\n        \"min\": 4,\n        \"max\": 86,\n        \"num_unique_values\": 3,\n        \"samples\": [\n          66,\n          86,\n          4\n        ],\n        \"semantic_type\": \"\",\n        \"description\": \"\"\n      }\n    },\n    {\n      \"column\": 3,\n      \"properties\": {\n        \"dtype\": \"number\",\n        \"std\": 6,\n        \"min\": 47,\n        \"max\": 58,\n        \"num_unique_values\": 3,\n        \"samples\": [\n          47,\n          58,\n          57\n        ],\n        \"semantic_type\": \"\",\n        \"description\": \"\"\n      }\n    },\n    {\n      \"column\": 4,\n      \"properties\": {\n        \"dtype\": \"number\",\n        \"std\": 19,\n        \"min\": 51,\n        \"max\": 88,\n        \"num_unique_values\": 3,\n        \"samples\": [\n          51,\n          88,\n          80\n        ],\n        \"semantic_type\": \"\",\n        \"description\": \"\"\n      }\n    }\n  ]\n}"
            }
          },
          "metadata": {},
          "execution_count": 50
        }
      ]
    },
    {
      "cell_type": "code",
      "source": [
        "# 25. Write a function that takes a Pandas DataFrame and replaces all negative values in a specific column with zeros. Use NumPy operations within the Pandas DataFrame."
      ],
      "metadata": {
        "id": "StucbSmXTGgo"
      },
      "execution_count": null,
      "outputs": []
    },
    {
      "cell_type": "code",
      "source": [
        "import pandas as pd\n",
        "import numpy as np\n",
        "\n",
        "def replace_negatives_with_zero(df, column_name):\n",
        "    if column_name in df.columns:\n",
        "        df[column_name] = np.where(df[column_name] < 0, 0, df[column_name])\n",
        "    else:\n",
        "        raise ValueError(f\"Column '{column_name}' does not exist in the DataFrame.\")\n",
        "    return df\n",
        "\n",
        "data = {'A': [10, -5, 7, -3, 12],\n",
        "    'B': [-1, 8, -4, 3, -6]}\n",
        "df = pd.DataFrame(data)\n",
        "\n",
        "print(\"Original DataFrame:\")\n",
        "print(df)\n",
        "\n",
        "df = replace_negatives_with_zero(df, 'A')\n",
        "\n",
        "print(\"\\nDataFrame after replacing negatives in column 'A':\")\n",
        "print(df)\n"
      ],
      "metadata": {
        "colab": {
          "base_uri": "https://localhost:8080/"
        },
        "id": "bviA0lPWVGo1",
        "outputId": "f62194ed-7438-4969-b81c-deedf724b91d"
      },
      "execution_count": null,
      "outputs": [
        {
          "output_type": "stream",
          "name": "stdout",
          "text": [
            "Original DataFrame:\n",
            "    A  B\n",
            "0  10 -1\n",
            "1  -5  8\n",
            "2   7 -4\n",
            "3  -3  3\n",
            "4  12 -6\n",
            "\n",
            "DataFrame after replacing negatives in column 'A':\n",
            "    A  B\n",
            "0  10 -1\n",
            "1   0  8\n",
            "2   7 -4\n",
            "3   0  3\n",
            "4  12 -6\n"
          ]
        }
      ]
    },
    {
      "cell_type": "code",
      "source": [
        "# 26. Access the 3rd element from the given NumPy array.\n",
        "arr = np.array([10, 20, 30, 40, 50])"
      ],
      "metadata": {
        "id": "OIfauFWGak9B"
      },
      "execution_count": null,
      "outputs": []
    },
    {
      "cell_type": "code",
      "source": [
        "arr[2]"
      ],
      "metadata": {
        "colab": {
          "base_uri": "https://localhost:8080/"
        },
        "id": "KecyvDCBfTmQ",
        "outputId": "cb7f8d8b-a560-4ee1-aa31-d030cc1b4581"
      },
      "execution_count": null,
      "outputs": [
        {
          "output_type": "execute_result",
          "data": {
            "text/plain": [
              "30"
            ]
          },
          "metadata": {},
          "execution_count": 54
        }
      ]
    },
    {
      "cell_type": "code",
      "source": [
        "# 27. Retrieve the element at index (1, 2) from the 2D NumPy array.\n",
        "arr_2d = np.array([[1, 2, 3],\n",
        "                   [4, 5, 6],\n",
        "                   [7, 8, 9]])"
      ],
      "metadata": {
        "id": "eotxC3GDfbQ6"
      },
      "execution_count": null,
      "outputs": []
    },
    {
      "cell_type": "code",
      "source": [
        "arr_2d[1][2]"
      ],
      "metadata": {
        "colab": {
          "base_uri": "https://localhost:8080/"
        },
        "id": "ccLN-XA2g3M3",
        "outputId": "e82d295a-0938-413f-8d47-3171951ca907"
      },
      "execution_count": null,
      "outputs": [
        {
          "output_type": "execute_result",
          "data": {
            "text/plain": [
              "6"
            ]
          },
          "metadata": {},
          "execution_count": 56
        }
      ]
    },
    {
      "cell_type": "code",
      "source": [
        "# 28. Using boolean indexing, extract elements greater than 5 from the given NumPy array.\n",
        "arr = np.array([3, 8, 2, 10, 5, 7])"
      ],
      "metadata": {
        "id": "k6pgDc4Zg6lF"
      },
      "execution_count": null,
      "outputs": []
    },
    {
      "cell_type": "code",
      "source": [
        "arr[arr>5]"
      ],
      "metadata": {
        "colab": {
          "base_uri": "https://localhost:8080/"
        },
        "id": "_tf_tzCwXa5v",
        "outputId": "1f757db9-43b1-4d46-cbf7-b131d18ab827"
      },
      "execution_count": null,
      "outputs": [
        {
          "output_type": "execute_result",
          "data": {
            "text/plain": [
              "array([ 8, 10,  7])"
            ]
          },
          "metadata": {},
          "execution_count": 59
        }
      ]
    },
    {
      "cell_type": "code",
      "source": [
        "np.extract(arr>5,arr)"
      ],
      "metadata": {
        "colab": {
          "base_uri": "https://localhost:8080/"
        },
        "id": "GMHVzTDPX3aS",
        "outputId": "cbb479cc-54ee-4abb-e5fe-f06b55d5cc0b"
      },
      "execution_count": null,
      "outputs": [
        {
          "output_type": "execute_result",
          "data": {
            "text/plain": [
              "array([ 8, 10,  7])"
            ]
          },
          "metadata": {},
          "execution_count": 62
        }
      ]
    },
    {
      "cell_type": "code",
      "source": [
        "# 29. Perform basic slicing to extract elements from index 2 to 5 (inclusive) from the given NumPy array.\n",
        "arr = np.array([1, 2, 3, 4, 5, 6, 7, 8, 9])"
      ],
      "metadata": {
        "id": "hA7Ol8DlYRoA"
      },
      "execution_count": null,
      "outputs": []
    },
    {
      "cell_type": "code",
      "source": [
        "arr[2:5]"
      ],
      "metadata": {
        "colab": {
          "base_uri": "https://localhost:8080/"
        },
        "id": "dGyRYfAEYlK7",
        "outputId": "9864957c-2c4c-4489-f958-607dd0fb228d"
      },
      "execution_count": null,
      "outputs": [
        {
          "output_type": "execute_result",
          "data": {
            "text/plain": [
              "array([3, 4, 5])"
            ]
          },
          "metadata": {},
          "execution_count": 64
        }
      ]
    },
    {
      "cell_type": "code",
      "source": [
        "# 30. Slice the 2D NumPy array to extract the sub-array `[[2, 3], [5, 6]]` from the given array.\n",
        "arr_2d = np.array([[1, 2, 3],\n",
        "                   [4, 5, 6],\n",
        "                   [7, 8, 9]])"
      ],
      "metadata": {
        "id": "qQjoLcsJY4sL"
      },
      "execution_count": null,
      "outputs": []
    },
    {
      "cell_type": "code",
      "source": [
        "arr_2d[0:2,1:3]"
      ],
      "metadata": {
        "colab": {
          "base_uri": "https://localhost:8080/"
        },
        "id": "k6c7PZRkZMmY",
        "outputId": "80469580-1592-4517-a6db-5d1bcca4ee3b"
      },
      "execution_count": null,
      "outputs": [
        {
          "output_type": "execute_result",
          "data": {
            "text/plain": [
              "array([[2, 3],\n",
              "       [5, 6]])"
            ]
          },
          "metadata": {},
          "execution_count": 71
        }
      ]
    },
    {
      "cell_type": "code",
      "source": [
        "# 31.Write a NumPy function to extract elements in specific order from a given 2D array based on indices provided in another array."
      ],
      "metadata": {
        "id": "-xDyAPhoZrdg"
      },
      "execution_count": null,
      "outputs": []
    },
    {
      "cell_type": "code",
      "source": [
        "def extract_elements(arr_2d, row_indices, col_indices):\n",
        "    return arr_2d[row_indices, col_indices]\n",
        "\n",
        "arr_2d = np.array([[1, 2, 3],\n",
        "                   [4, 5, 6],\n",
        "                   [7, 8, 9]])\n",
        "\n",
        "row_indices = np.array([0, 1, 2])\n",
        "col_indices = np.array([1, 2, 0])\n",
        "\n",
        "result = extract_elements(arr_2d, row_indices, col_indices)\n",
        "\n",
        "print(\"the extracted elements:\",result)"
      ],
      "metadata": {
        "colab": {
          "base_uri": "https://localhost:8080/"
        },
        "id": "rH-OKB7ngAf5",
        "outputId": "a54bb0a6-7176-48a1-94d9-52ffb50230d0"
      },
      "execution_count": null,
      "outputs": [
        {
          "output_type": "stream",
          "name": "stdout",
          "text": [
            "the extracted elements: [2 6 7]\n"
          ]
        }
      ]
    },
    {
      "cell_type": "code",
      "source": [
        "# 32. Create a NumPy function that filters elements greater than a threshold from a given 1D array using boolean indexing."
      ],
      "metadata": {
        "id": "U1GRAzxZgO6i"
      },
      "execution_count": null,
      "outputs": []
    },
    {
      "cell_type": "code",
      "source": [
        "def filter_elements(array):\n",
        "  threshold = 10\n",
        "  func = np.extract(array>threshold,array)\n",
        "  return func\n",
        "\n",
        "array = np.array([1,2,3,11,23,32,5,0,56])\n",
        "array_extract = filter_elements(array)\n",
        "print(f\"the filtered elements are:{array_extract}\")"
      ],
      "metadata": {
        "colab": {
          "base_uri": "https://localhost:8080/"
        },
        "id": "DA4F5Sm7iG-5",
        "outputId": "37372af5-fac7-490d-e109-619d7a9e20bc"
      },
      "execution_count": null,
      "outputs": [
        {
          "output_type": "stream",
          "name": "stdout",
          "text": [
            "the filtered elements are:[11 23 32 56]\n"
          ]
        }
      ]
    },
    {
      "cell_type": "code",
      "source": [
        "# 33. Develop a NumPy function that extracts specific elements from a 3D array using indices provided in three separate arrays for each dimension."
      ],
      "metadata": {
        "id": "lqcJYRsBiVzA"
      },
      "execution_count": null,
      "outputs": []
    },
    {
      "cell_type": "code",
      "source": [
        "def extracted_elements(arr_3d, first_indices, second_indices, third_indices):\n",
        "  arr_3d = np.random.randint(0,100,size =(3,4,5))\n",
        "  return arr_3d\n",
        "\n",
        "\n",
        "first_indices = np.array([1,2,3])\n",
        "second_indices = np.array([1,4,6])\n",
        "third_indices = np.array([2,4,8])\n",
        "\n",
        "result = extracted_elements(arr_3d, first_indices, second_indices, third_indices)\n",
        "print(f\"the extracted elements from a 3D_array:{result}\")"
      ],
      "metadata": {
        "colab": {
          "base_uri": "https://localhost:8080/"
        },
        "id": "3CUKPxy0mn8O",
        "outputId": "6c318328-393a-43b7-ceee-1dd2f9f556f6"
      },
      "execution_count": null,
      "outputs": [
        {
          "output_type": "stream",
          "name": "stdout",
          "text": [
            "the extracted elements from a 3D_array:[[[40 93 80 18 88]\n",
            "  [23 52 47 78 39]\n",
            "  [47 82 47 87 96]\n",
            "  [40 91 38  7 72]]\n",
            "\n",
            " [[ 3 43 56 82 91]\n",
            "  [98 76 28 45 45]\n",
            "  [29 12 65 59 67]\n",
            "  [29 66 83 13 23]]\n",
            "\n",
            " [[41 21 43 59 59]\n",
            "  [ 2 41 97 56 15]\n",
            "  [72 68 56 98 85]\n",
            "  [45 49 51  6 93]]]\n"
          ]
        }
      ]
    },
    {
      "cell_type": "code",
      "source": [
        "# 34. Write a NumPy function that returns elements from an array where both two conditions are satisfied using boolean indexing."
      ],
      "metadata": {
        "id": "aSGAj1TUsTKa"
      },
      "execution_count": null,
      "outputs": []
    },
    {
      "cell_type": "code",
      "source": [
        "def filter_elements(arr, condition1, condition2):\n",
        "\n",
        "    mask1 = condition1(arr)\n",
        "    mask2 = condition2(arr)\n",
        "\n",
        "    combined_mask = mask1 & mask2\n",
        "    filtered_elements = arr[combined_mask]\n",
        "\n",
        "    return filtered_elements\n",
        "\n",
        "arr = np.array([10, 50, 100, 150, 200, 250])\n",
        "\n",
        "condition1 = lambda x: x > 50\n",
        "condition2 = lambda x: x < 200\n",
        "result = filter_elements(arr, condition1, condition2)\n",
        "print(result)"
      ],
      "metadata": {
        "colab": {
          "base_uri": "https://localhost:8080/"
        },
        "id": "YtQkLQjvjijw",
        "outputId": "8ae3af0d-7555-4e50-b99d-d807069e3ddc"
      },
      "execution_count": null,
      "outputs": [
        {
          "output_type": "stream",
          "name": "stdout",
          "text": [
            "[100 150]\n"
          ]
        }
      ]
    },
    {
      "cell_type": "code",
      "source": [
        "# 35. Create a NumPy function that extracts elements from a 2D array using row and column indices provided in separate arrays."
      ],
      "metadata": {
        "id": "fR3XmAkMkdDx"
      },
      "execution_count": null,
      "outputs": []
    },
    {
      "cell_type": "code",
      "source": [
        "import numpy as np\n",
        "\n",
        "def extract_elements(matrix, row_indices, col_indices):\n",
        "\n",
        "    row_indices = np.asarray(row_indices)\n",
        "    col_indices = np.asarray(col_indices)\n",
        "\n",
        "    if len(row_indices) != len(col_indices):\n",
        "        raise ValueError(\"row_indices and col_indices must be of the same length\")\n",
        "\n",
        "    extracted_elements = matrix[row_indices, col_indices]\n",
        "\n",
        "    return extracted_elements\n",
        "\n",
        "matrix = np.array([[1, 2, 3],\n",
        "                   [4, 5, 6],\n",
        "                   [7, 8, 9]])\n",
        "\n",
        "row_indices = np.array([0, 1, 2])\n",
        "col_indices = np.array([2, 1, 0])\n",
        "\n",
        "result = extract_elements(matrix, row_indices, col_indices)\n",
        "print(result)"
      ],
      "metadata": {
        "colab": {
          "base_uri": "https://localhost:8080/"
        },
        "id": "mc7NtMX4oZIp",
        "outputId": "f95d5abe-0eec-4a34-874c-445fb4fed04d"
      },
      "execution_count": null,
      "outputs": [
        {
          "output_type": "stream",
          "name": "stdout",
          "text": [
            "[3 5 7]\n"
          ]
        }
      ]
    },
    {
      "cell_type": "code",
      "source": [
        "# 36. Given an array arr of shape (3, 3), add a scalar value of 5 to each element using NumPy broadcasting."
      ],
      "metadata": {
        "id": "Ex9WhLCromAK"
      },
      "execution_count": null,
      "outputs": []
    },
    {
      "cell_type": "code",
      "source": [
        "arr = np.random.randint(1,10,size = (3,3))"
      ],
      "metadata": {
        "id": "vgjQHbLwp6iV"
      },
      "execution_count": null,
      "outputs": []
    },
    {
      "cell_type": "code",
      "source": [
        "print(arr)\n",
        "arr2 = arr +5\n",
        "print(arr2)"
      ],
      "metadata": {
        "colab": {
          "base_uri": "https://localhost:8080/"
        },
        "id": "JeYSvjT4qEDx",
        "outputId": "b8ebc5d1-525e-43ab-be87-7381c5421651"
      },
      "execution_count": null,
      "outputs": [
        {
          "output_type": "stream",
          "name": "stdout",
          "text": [
            "[[5 8 4]\n",
            " [4 6 6]\n",
            " [2 3 1]]\n",
            "[[10 13  9]\n",
            " [ 9 11 11]\n",
            " [ 7  8  6]]\n"
          ]
        }
      ]
    },
    {
      "cell_type": "code",
      "source": [
        "# 37. Consider two arrays arr1 of shape (1, 3) and arr2 of shape (3, 4). Multiply each row of arr2 by the corresponding element in arr1 using NumPy broadcasting."
      ],
      "metadata": {
        "id": "1k3ph5UyqFFt"
      },
      "execution_count": null,
      "outputs": []
    },
    {
      "cell_type": "code",
      "source": [
        "arr = np.random.randint(1,10,size = (1,3))\n",
        "arr2 = np.random.randint(10,20,size = (3,4))\n",
        "new_arr = arr2 * arr\n",
        "print(\"The first array:\\n\",arr)\n",
        "print(\"The second array:\\n\",arr2)\n",
        "print(\"Newly formed array by multiplying both array:\\n\",new_arr)"
      ],
      "metadata": {
        "colab": {
          "base_uri": "https://localhost:8080/",
          "height": 211
        },
        "id": "GAIGPxvUq3pK",
        "outputId": "06212aa5-ffc8-4bc3-d1f3-b2f81fd40893"
      },
      "execution_count": null,
      "outputs": [
        {
          "output_type": "error",
          "ename": "ValueError",
          "evalue": "operands could not be broadcast together with shapes (3,4) (1,3) ",
          "traceback": [
            "\u001b[0;31m---------------------------------------------------------------------------\u001b[0m",
            "\u001b[0;31mValueError\u001b[0m                                Traceback (most recent call last)",
            "\u001b[0;32m<ipython-input-21-a8a1d38bbee6>\u001b[0m in \u001b[0;36m<cell line: 3>\u001b[0;34m()\u001b[0m\n\u001b[1;32m      1\u001b[0m \u001b[0marr\u001b[0m \u001b[0;34m=\u001b[0m \u001b[0mnp\u001b[0m\u001b[0;34m.\u001b[0m\u001b[0mrandom\u001b[0m\u001b[0;34m.\u001b[0m\u001b[0mrandint\u001b[0m\u001b[0;34m(\u001b[0m\u001b[0;36m1\u001b[0m\u001b[0;34m,\u001b[0m\u001b[0;36m10\u001b[0m\u001b[0;34m,\u001b[0m\u001b[0msize\u001b[0m \u001b[0;34m=\u001b[0m \u001b[0;34m(\u001b[0m\u001b[0;36m1\u001b[0m\u001b[0;34m,\u001b[0m\u001b[0;36m3\u001b[0m\u001b[0;34m)\u001b[0m\u001b[0;34m)\u001b[0m\u001b[0;34m\u001b[0m\u001b[0;34m\u001b[0m\u001b[0m\n\u001b[1;32m      2\u001b[0m \u001b[0marr2\u001b[0m \u001b[0;34m=\u001b[0m \u001b[0mnp\u001b[0m\u001b[0;34m.\u001b[0m\u001b[0mrandom\u001b[0m\u001b[0;34m.\u001b[0m\u001b[0mrandint\u001b[0m\u001b[0;34m(\u001b[0m\u001b[0;36m10\u001b[0m\u001b[0;34m,\u001b[0m\u001b[0;36m20\u001b[0m\u001b[0;34m,\u001b[0m\u001b[0msize\u001b[0m \u001b[0;34m=\u001b[0m \u001b[0;34m(\u001b[0m\u001b[0;36m3\u001b[0m\u001b[0;34m,\u001b[0m\u001b[0;36m4\u001b[0m\u001b[0;34m)\u001b[0m\u001b[0;34m)\u001b[0m\u001b[0;34m\u001b[0m\u001b[0;34m\u001b[0m\u001b[0m\n\u001b[0;32m----> 3\u001b[0;31m \u001b[0mnew_arr\u001b[0m \u001b[0;34m=\u001b[0m \u001b[0marr2\u001b[0m \u001b[0;34m*\u001b[0m \u001b[0marr\u001b[0m\u001b[0;34m\u001b[0m\u001b[0;34m\u001b[0m\u001b[0m\n\u001b[0m\u001b[1;32m      4\u001b[0m \u001b[0mprint\u001b[0m\u001b[0;34m(\u001b[0m\u001b[0;34m\"The first array:\\n\"\u001b[0m\u001b[0;34m,\u001b[0m\u001b[0marr\u001b[0m\u001b[0;34m)\u001b[0m\u001b[0;34m\u001b[0m\u001b[0;34m\u001b[0m\u001b[0m\n\u001b[1;32m      5\u001b[0m \u001b[0mprint\u001b[0m\u001b[0;34m(\u001b[0m\u001b[0;34m\"The second array:\\n\"\u001b[0m\u001b[0;34m,\u001b[0m\u001b[0marr2\u001b[0m\u001b[0;34m)\u001b[0m\u001b[0;34m\u001b[0m\u001b[0;34m\u001b[0m\u001b[0m\n",
            "\u001b[0;31mValueError\u001b[0m: operands could not be broadcast together with shapes (3,4) (1,3) "
          ]
        }
      ]
    },
    {
      "cell_type": "code",
      "source": [
        "# 38. Given a 1D array arr1 of shape (1, 4) and a 2D array arr2 of shape (4, 3), add arr1 to each row of arr2 using NumPy broadcasting."
      ],
      "metadata": {
        "id": "Nl9E81_2rIde"
      },
      "execution_count": null,
      "outputs": []
    },
    {
      "cell_type": "code",
      "source": [
        "arr = np.array([1,2,3,4])\n",
        "arr2 = np.random.randint(10,20,size = (4,3))\n",
        "print(arr)\n",
        "print(arr2)"
      ],
      "metadata": {
        "colab": {
          "base_uri": "https://localhost:8080/"
        },
        "id": "MdZRhyWStJJU",
        "outputId": "de048b0a-62b8-48fb-9ace-0c612d1d750e"
      },
      "execution_count": null,
      "outputs": [
        {
          "output_type": "stream",
          "name": "stdout",
          "text": [
            "[1 2 3 4]\n",
            "[[12 13 17]\n",
            " [10 13 14]\n",
            " [14 14 11]\n",
            " [14 11 12]]\n"
          ]
        }
      ]
    },
    {
      "cell_type": "code",
      "source": [
        "arr2 + arr"
      ],
      "metadata": {
        "colab": {
          "base_uri": "https://localhost:8080/",
          "height": 141
        },
        "id": "BFleRfgptMZj",
        "outputId": "4f8ec006-e72b-4e27-cd41-f221be435eff"
      },
      "execution_count": null,
      "outputs": [
        {
          "output_type": "error",
          "ename": "ValueError",
          "evalue": "operands could not be broadcast together with shapes (4,3) (4,) ",
          "traceback": [
            "\u001b[0;31m---------------------------------------------------------------------------\u001b[0m",
            "\u001b[0;31mValueError\u001b[0m                                Traceback (most recent call last)",
            "\u001b[0;32m<ipython-input-23-31d968b06bc3>\u001b[0m in \u001b[0;36m<cell line: 1>\u001b[0;34m()\u001b[0m\n\u001b[0;32m----> 1\u001b[0;31m \u001b[0marr2\u001b[0m \u001b[0;34m+\u001b[0m \u001b[0marr\u001b[0m\u001b[0;34m\u001b[0m\u001b[0;34m\u001b[0m\u001b[0m\n\u001b[0m",
            "\u001b[0;31mValueError\u001b[0m: operands could not be broadcast together with shapes (4,3) (4,) "
          ]
        }
      ]
    },
    {
      "cell_type": "code",
      "source": [
        "# 39. Consider two arrays arr1 of shape (3, 1) and arr2 of shape (1, 3). Add these arrays using NumPy broadcasting."
      ],
      "metadata": {
        "id": "WmvxZAEQtT9c"
      },
      "execution_count": null,
      "outputs": []
    },
    {
      "cell_type": "code",
      "source": [
        "arr1 = np.random.randint(1,10,size=(3,1))\n",
        "arr2 = np.random.randint(1,10,size=(1,3))\n",
        "arr3 = arr1 + arr2\n",
        "print(\"the first array is:\\n\",arr1)\n",
        "print(\"the second array is:\\n\",arr2)\n",
        "print(\"the resultant array is:\\n\",arr3)"
      ],
      "metadata": {
        "colab": {
          "base_uri": "https://localhost:8080/"
        },
        "id": "uF9QKVGfvAFk",
        "outputId": "9aa1a245-dae1-4ef4-96d9-cbad055f0e37"
      },
      "execution_count": null,
      "outputs": [
        {
          "output_type": "stream",
          "name": "stdout",
          "text": [
            "the first array is:\n",
            " [[6]\n",
            " [9]\n",
            " [8]]\n",
            "the second array is:\n",
            " [[3 5 5]]\n",
            "the resultant array is:\n",
            " [[ 9 11 11]\n",
            " [12 14 14]\n",
            " [11 13 13]]\n"
          ]
        }
      ]
    },
    {
      "cell_type": "code",
      "source": [
        "# 40. Given arrays arr1 of shape (2, 3) and arr2 of shape (2, 2), perform multiplication using NumPy broadcasting. Handle the shape incompatibility."
      ],
      "metadata": {
        "id": "l9Ll2w2tvXqW"
      },
      "execution_count": null,
      "outputs": []
    },
    {
      "cell_type": "code",
      "source": [
        "# I don't know how to solve it, please help."
      ],
      "metadata": {
        "id": "sv-IaWxc0G-M"
      },
      "execution_count": null,
      "outputs": []
    },
    {
      "cell_type": "code",
      "source": [
        "# 41. Calculate column wise mean for the given array:\n",
        "arr = np.array([[1, 2, 3], [4, 5, 6]])"
      ],
      "metadata": {
        "id": "ug77X4f10Prv"
      },
      "execution_count": null,
      "outputs": []
    },
    {
      "cell_type": "code",
      "source": [
        "mean = np.mean(arr,axis=0)\n",
        "print(mean)"
      ],
      "metadata": {
        "colab": {
          "base_uri": "https://localhost:8080/"
        },
        "id": "m6zIbHLE0wRp",
        "outputId": "cf43b674-a632-4122-b185-d3ad620ce0b8"
      },
      "execution_count": null,
      "outputs": [
        {
          "output_type": "stream",
          "name": "stdout",
          "text": [
            "[2.5 3.5 4.5]\n"
          ]
        }
      ]
    },
    {
      "cell_type": "code",
      "source": [
        "# 42. Find maximum value in each row of the given array:\n",
        "arr = np.array([[1, 2, 3], [4, 5, 6]])"
      ],
      "metadata": {
        "id": "Lq7ySuf203Wv"
      },
      "execution_count": null,
      "outputs": []
    },
    {
      "cell_type": "code",
      "source": [
        "max_value = np.max(arr, axis= 1)\n",
        "print(\"the maximum value in each row is:\\n\",max_value)"
      ],
      "metadata": {
        "colab": {
          "base_uri": "https://localhost:8080/"
        },
        "id": "NuwkBvkO25VJ",
        "outputId": "f5c458ef-7bf6-49ac-f836-57df672d60e3"
      },
      "execution_count": null,
      "outputs": [
        {
          "output_type": "stream",
          "name": "stdout",
          "text": [
            "the maximum value in each row is:\n",
            " [3 6]\n"
          ]
        }
      ]
    },
    {
      "cell_type": "code",
      "source": [
        "# 43. For the given array, find indices of maximum value in each column.\n",
        "arr = np.array([[1, 2, 3], [4, 5, 6]])"
      ],
      "metadata": {
        "id": "P8VoTMHy3DJq"
      },
      "execution_count": null,
      "outputs": []
    },
    {
      "cell_type": "code",
      "source": [
        "indices = np.argmax(arr,axis=0)\n",
        "print(indices)"
      ],
      "metadata": {
        "colab": {
          "base_uri": "https://localhost:8080/"
        },
        "id": "RD85K4L03jcb",
        "outputId": "45f5c187-f8d3-455e-b9c5-e67b4fef93b9"
      },
      "execution_count": null,
      "outputs": [
        {
          "output_type": "stream",
          "name": "stdout",
          "text": [
            "[1 1 1]\n"
          ]
        }
      ]
    },
    {
      "cell_type": "code",
      "source": [
        "# 44. For the given array, apply custom function to calculate moving sum along rows.\n",
        "arr = np.array([[1, 2, 3], [4, 5, 6]])"
      ],
      "metadata": {
        "id": "YSW6dXTq3vM5"
      },
      "execution_count": null,
      "outputs": []
    },
    {
      "cell_type": "code",
      "source": [
        "def moving_sum(arr, window_size):\n",
        "    result = np.zeros((arr.shape[0], arr.shape[1] - window_size + 1))\n",
        "\n",
        "    for i in range(arr.shape[0]):\n",
        "        row = arr[i]\n",
        "        for j in range(result.shape[1]):\n",
        "            result[i, j] = np.sum(row[j:j + window_size])\n",
        "\n",
        "    return result\n",
        "\n",
        "arr = np.array([[1, 2, 3], [4, 5, 6]])\n",
        "window_size = 2\n",
        "\n",
        "result = moving_sum(arr, window_size)\n",
        "print(result)"
      ],
      "metadata": {
        "id": "g_cWv1rW4yvU",
        "colab": {
          "base_uri": "https://localhost:8080/"
        },
        "outputId": "5b0b9701-a8e5-4475-e958-62222ed88738"
      },
      "execution_count": null,
      "outputs": [
        {
          "output_type": "stream",
          "name": "stdout",
          "text": [
            "[[ 3.  5.]\n",
            " [ 9. 11.]]\n"
          ]
        }
      ]
    },
    {
      "cell_type": "code",
      "source": [
        "# 45. In the given array, check if all elements in each column are even.\n",
        "arr = np.array([[2, 4, 6], [3, 5, 7]])"
      ],
      "metadata": {
        "id": "rcE29WdM5HXu"
      },
      "execution_count": null,
      "outputs": []
    },
    {
      "cell_type": "code",
      "source": [
        "def all_even(arr):\n",
        "  even_no = (arr %2 == 0)\n",
        "\n",
        "  return np.all(even_no,axis = 0)\n",
        "\n",
        "all_even_col = all_even(arr)\n",
        "print(all_even_col)"
      ],
      "metadata": {
        "colab": {
          "base_uri": "https://localhost:8080/"
        },
        "id": "vqZaU5ax7UxU",
        "outputId": "595aca82-b2e8-4adc-852c-6eb9ad0d4549"
      },
      "execution_count": null,
      "outputs": [
        {
          "output_type": "stream",
          "name": "stdout",
          "text": [
            "[False False False]\n"
          ]
        }
      ]
    },
    {
      "cell_type": "code",
      "source": [
        "# 46. Given a NumPy array arr, reshape it into a matrix of dimensions `m` rows and `n` columns. Return the reshaped matrix.\n",
        "original_array = np.array([1, 2, 3, 4, 5, 6])"
      ],
      "metadata": {
        "id": "jGs7bfzB74Ce"
      },
      "execution_count": null,
      "outputs": []
    },
    {
      "cell_type": "code",
      "source": [
        "def reshape_arr(original_array):\n",
        "  reshaped_arr = np.reshape(original_array,(2,3))\n",
        "  return reshaped_arr\n",
        "\n",
        "reshaped_array = reshape_arr(original_array)\n",
        "print(reshaped_array)"
      ],
      "metadata": {
        "colab": {
          "base_uri": "https://localhost:8080/"
        },
        "id": "0qAa4P8T8oPu",
        "outputId": "2bec6e95-44ad-4188-c3e0-e4acea689775"
      },
      "execution_count": null,
      "outputs": [
        {
          "output_type": "stream",
          "name": "stdout",
          "text": [
            "[[1 2 3]\n",
            " [4 5 6]]\n"
          ]
        }
      ]
    },
    {
      "cell_type": "code",
      "source": [
        "# 47. Create a function that takes a matrix as input and returns the flattened array.\n",
        "input_matrix = np.array([[1, 2, 3], [4, 5, 6]])"
      ],
      "metadata": {
        "id": "QVPgrpBK9ZX2"
      },
      "execution_count": null,
      "outputs": []
    },
    {
      "cell_type": "code",
      "source": [
        "def flat_arr(input_matrix):\n",
        "  flat = input_matrix.flatten()\n",
        "  return flat\n",
        "\n",
        "flattened_array = flat_arr(input_matrix)\n",
        "print(flattened_array)"
      ],
      "metadata": {
        "colab": {
          "base_uri": "https://localhost:8080/"
        },
        "id": "5QBuSVLe-W7J",
        "outputId": "945fca73-2914-4528-903e-b04fbd94aba6"
      },
      "execution_count": null,
      "outputs": [
        {
          "output_type": "stream",
          "name": "stdout",
          "text": [
            "[1 2 3 4 5 6]\n"
          ]
        }
      ]
    },
    {
      "cell_type": "code",
      "source": [
        "# 48. Write a function that concatenates two given arrays along a specified axis.\n",
        "array1 = np.array([[1, 2], [3, 4]])\n",
        "array2 = np.array([[5, 6], [7, 8]])"
      ],
      "metadata": {
        "id": "XZANi7Uk-vKA"
      },
      "execution_count": null,
      "outputs": []
    },
    {
      "cell_type": "code",
      "source": [
        "def arr_concat(array1,array2):\n",
        "  array_concat = np.concatenate((array1, array2), axis=1)\n",
        "\n",
        "  return array_concat\n",
        "\n",
        "concat_ok = arr_concat(array1,array2)\n",
        "print(\"The array concatenation is successfully done:\\n\",concat_ok)"
      ],
      "metadata": {
        "colab": {
          "base_uri": "https://localhost:8080/"
        },
        "id": "twVqblyyAsb-",
        "outputId": "7a3724ea-bb6e-49a2-f268-fa4b4fa6340c"
      },
      "execution_count": null,
      "outputs": [
        {
          "output_type": "stream",
          "name": "stdout",
          "text": [
            "The array concatenation is successfully done:\n",
            " [[1 2 5 6]\n",
            " [3 4 7 8]]\n"
          ]
        }
      ]
    },
    {
      "cell_type": "code",
      "source": [
        "# 49. Create a function that splits an array into multiple sub-arrays along a specified axis.\n",
        "original_array = np.array([[1, 2, 3], [4, 5, 6], [7, 8, 9]])"
      ],
      "metadata": {
        "id": "2k0aOjbHBhp3"
      },
      "execution_count": null,
      "outputs": []
    },
    {
      "cell_type": "code",
      "source": [
        "def split(original_array):\n",
        "  array_split = np.split(original_array,3,axis=0)\n",
        "  return array_split\n",
        "\n",
        "arr_split = split(original_array)\n",
        "print(\"The array is splited successfully:\\n\",arr_split)"
      ],
      "metadata": {
        "colab": {
          "base_uri": "https://localhost:8080/"
        },
        "id": "fV5zu9nWCLoA",
        "outputId": "024a4a3d-41ac-4c44-fb31-628b02e8205a"
      },
      "execution_count": null,
      "outputs": [
        {
          "output_type": "stream",
          "name": "stdout",
          "text": [
            "The array is splited successfully:\n",
            " [array([[1, 2, 3]]), array([[4, 5, 6]]), array([[7, 8, 9]])]\n"
          ]
        }
      ]
    },
    {
      "cell_type": "code",
      "source": [
        "# 50. Write a function that inserts and then deletes elements from a given array at specified indices.\n",
        "original_array = np.array([1, 2, 3, 4, 5])\n",
        "indices_to_insert = [2, 4]\n",
        "values_to_insert = [10, 11]\n",
        "indices_to_delete = [1, 3]"
      ],
      "metadata": {
        "id": "J0E5GTWpC4KE"
      },
      "execution_count": null,
      "outputs": []
    },
    {
      "cell_type": "code",
      "source": [],
      "metadata": {
        "id": "cx8W97pmSBuB"
      },
      "execution_count": null,
      "outputs": []
    },
    {
      "cell_type": "code",
      "source": [
        "# 51. Create a NumPy array `arr1` with random integers and another array `arr2` with integers from 1 to 10. Perform element-wise addition between `arr1` and `arr2`."
      ],
      "metadata": {
        "id": "6vbZcqf4SDTp"
      },
      "execution_count": null,
      "outputs": []
    },
    {
      "cell_type": "code",
      "source": [
        "arr1 = np.random.rand(3,4)\n",
        "arr2 = np.random.randint(1,10,size=(3,4))\n",
        "arr3 = arr1 + arr2\n",
        "print(\"The first array:\\n\",arr1)\n",
        "print(\"The second array:\\n\",arr2)\n",
        "print(\"Sum of arr1 and arr2 is:\\n\",arr3)"
      ],
      "metadata": {
        "colab": {
          "base_uri": "https://localhost:8080/"
        },
        "id": "g75zr7DiSbNP",
        "outputId": "8389db5e-cd3d-4f12-81dd-3476b4eb5b23"
      },
      "execution_count": null,
      "outputs": [
        {
          "output_type": "stream",
          "name": "stdout",
          "text": [
            "The first array:\n",
            " [[0.55017295 0.363326   0.82714223 0.83338167]\n",
            " [0.9805915  0.67599484 0.31950837 0.94450781]\n",
            " [0.17008376 0.54283122 0.73158197 0.69199561]]\n",
            "The second array:\n",
            " [[5 3 3 7]\n",
            " [3 1 9 6]\n",
            " [4 6 9 9]]\n",
            "Sum of arr1 and arr2 is:\n",
            " [[5.55017295 3.363326   3.82714223 7.83338167]\n",
            " [3.9805915  1.67599484 9.31950837 6.94450781]\n",
            " [4.17008376 6.54283122 9.73158197 9.69199561]]\n"
          ]
        }
      ]
    },
    {
      "cell_type": "code",
      "source": [
        "# 52. Generate a NumPy array `arr1` with sequential integers from 10 to 1 and another array `arr2` with integers from 1 to 10. Subtract `arr2` from `arr1` element-wise."
      ],
      "metadata": {
        "id": "TPhDWq4FS6_A"
      },
      "execution_count": null,
      "outputs": []
    },
    {
      "cell_type": "code",
      "source": [
        "arr1 = np.arange(10,0,-1)\n",
        "arr2 = np.arange(1,11)\n",
        "result_arr = arr1 - arr2\n",
        "print(\"This is arr1:\\n\",arr1)\n",
        "print(\"This is arr2:\\n\",arr2)\n",
        "print(\"This is newly formed array according to the conditions:\\n\",result_arr)"
      ],
      "metadata": {
        "colab": {
          "base_uri": "https://localhost:8080/"
        },
        "id": "_f6l42GDY2eT",
        "outputId": "9addc603-c509-4d54-954d-2646253cd49e"
      },
      "execution_count": null,
      "outputs": [
        {
          "output_type": "stream",
          "name": "stdout",
          "text": [
            "This is arr1:\n",
            " [10  9  8  7  6  5  4  3  2  1]\n",
            "This is arr2:\n",
            " [ 1  2  3  4  5  6  7  8  9 10]\n",
            "This is newly formed array according to the conditions:\n",
            " [ 9  7  5  3  1 -1 -3 -5 -7 -9]\n"
          ]
        }
      ]
    },
    {
      "cell_type": "code",
      "source": [
        "# 53. Create a NumPy array `arr1` with random integers and another array `arr2` with integers from 1 to 5. Perform element-wise multiplication between `arr1` and `arr2`."
      ],
      "metadata": {
        "id": "VEmtYyPIZo0q"
      },
      "execution_count": null,
      "outputs": []
    },
    {
      "cell_type": "code",
      "source": [
        "arr1 = np.random.rand(6)\n",
        "arr2 = np.random.randint(1,5,size = (6))\n",
        "res_arr = arr2 * arr1\n",
        "print(\"This is first array:\\n\",arr1)\n",
        "print(\"This is second array:\\n\",arr2)\n",
        "print(\"This is resultant array:\\n\",res_arr)"
      ],
      "metadata": {
        "colab": {
          "base_uri": "https://localhost:8080/"
        },
        "id": "6viV7MfebqA6",
        "outputId": "bcab0028-da00-4d19-d2fc-4eb8187179fd"
      },
      "execution_count": null,
      "outputs": [
        {
          "output_type": "stream",
          "name": "stdout",
          "text": [
            "This is first array:\n",
            " [0.22167229 0.33138416 0.54185126 0.56644427 0.95344097 0.28062624]\n",
            "This is second array:\n",
            " [4 4 2 3 3 1]\n",
            "This is resultant array:\n",
            " [0.88668916 1.32553665 1.08370253 1.69933282 2.86032291 0.28062624]\n"
          ]
        }
      ]
    },
    {
      "cell_type": "code",
      "source": [
        "# 54. Generate a NumPy array `arr1` with even integers from 2 to 10 and another array `arr2` with integers from 1 to 5. Perform element-wise division of `arr1` by `arr2`."
      ],
      "metadata": {
        "id": "mIeTa9tZb5Y8"
      },
      "execution_count": null,
      "outputs": []
    },
    {
      "cell_type": "code",
      "source": [
        "arr1 = np.arange(2,11,2)\n",
        "arr2 = np.arange(1,6)\n",
        "div_arr = arr1/arr2\n",
        "print(\"This is first array:\\n\",arr1)\n",
        "print(\"This is second array:\\n\",arr2)\n",
        "print(\"This is resultant array:\\n\",div_arr)"
      ],
      "metadata": {
        "colab": {
          "base_uri": "https://localhost:8080/"
        },
        "id": "7jSK2QVldZXH",
        "outputId": "3a4e2e4b-e5a7-490f-c1c4-a8beb7425131"
      },
      "execution_count": null,
      "outputs": [
        {
          "output_type": "stream",
          "name": "stdout",
          "text": [
            "This is first array:\n",
            " [ 2  4  6  8 10]\n",
            "This is second array:\n",
            " [1 2 3 4 5]\n",
            "This is resultant array:\n",
            " [2. 2. 2. 2. 2.]\n"
          ]
        }
      ]
    },
    {
      "cell_type": "code",
      "source": [
        "# 55. Create a NumPy array `arr1` with integers from 1 to 5 and another array `arr2` with the same numbers reversed. Calculate the exponentiation of `arr1` raised to the power of `arr2` element-wise."
      ],
      "metadata": {
        "id": "kQXu5ZhyjTeZ"
      },
      "execution_count": null,
      "outputs": []
    },
    {
      "cell_type": "code",
      "source": [
        "arr1 = np.arange(1,6)\n",
        "arr2 = np.flip(arr1)\n",
        "expo_arr = arr1 ** arr2\n",
        "print(\"This is first array:\\n\",arr1)\n",
        "print(\"This is second array:\\n\",arr2)\n",
        "print(\"This is resultant array:\\n\",expo_arr)"
      ],
      "metadata": {
        "colab": {
          "base_uri": "https://localhost:8080/"
        },
        "id": "RLgvV7hckr85",
        "outputId": "071f28e8-e62f-47f1-80f4-799343211f74"
      },
      "execution_count": null,
      "outputs": [
        {
          "output_type": "stream",
          "name": "stdout",
          "text": [
            "This is first array:\n",
            " [1 2 3 4 5]\n",
            "This is second array:\n",
            " [5 4 3 2 1]\n",
            "This is resultant array:\n",
            " [ 1 16 27 16  5]\n"
          ]
        }
      ]
    },
    {
      "cell_type": "code",
      "source": [
        "# 56. Write a function that counts the occurrences of a specific substring within a NumPy array of strings.\n",
        "arr = np.array(['hello', 'world', 'hello', 'numpy', 'hello'])"
      ],
      "metadata": {
        "id": "EFdRap3nkyda"
      },
      "execution_count": null,
      "outputs": []
    },
    {
      "cell_type": "code",
      "source": [
        "import numpy as np\n",
        "\n",
        "def count_substring_occurrences(arr, substring):\n",
        "    return sum(s.count(substring) for s in arr)\n",
        "\n",
        "arr = np.array(['hello', 'world', 'hello', 'numpy', 'hello'])\n",
        "substring = 'hello'\n",
        "count = count_substring_occurrences(arr, substring)\n",
        "\n",
        "print(f\"The substring '{substring}' occurs {count} times in the array.\")"
      ],
      "metadata": {
        "colab": {
          "base_uri": "https://localhost:8080/"
        },
        "id": "jt2_rdPQvMn2",
        "outputId": "bf029a57-90fe-4443-81ad-0aa670c5e51e"
      },
      "execution_count": null,
      "outputs": [
        {
          "output_type": "stream",
          "name": "stdout",
          "text": [
            "The substring 'hello' occurs 3 times in the array.\n"
          ]
        }
      ]
    },
    {
      "cell_type": "code",
      "source": [
        "# 57. Write a function that extracts uppercase characters from a NumPy array of strings.\n",
        "arr = np.array(['Hello', 'World', 'OpenAI', 'GPT'])"
      ],
      "metadata": {
        "id": "oc08hhookeGo"
      },
      "execution_count": null,
      "outputs": []
    },
    {
      "cell_type": "code",
      "source": [
        "import numpy as np\n",
        "\n",
        "def extract_uppercase(arr):\n",
        "    uppercase_chars = ''.join([char for s in arr for char in s if char.isupper()])\n",
        "    return uppercase_chars\n",
        "\n",
        "arr = np.array(['Hello', 'World', 'OpenAI', 'GPT'])\n",
        "uppercase_characters = extract_uppercase(arr)\n",
        "\n",
        "print(f\"Uppercase characters: {uppercase_characters}\")"
      ],
      "metadata": {
        "colab": {
          "base_uri": "https://localhost:8080/"
        },
        "id": "494BA41zw33j",
        "outputId": "28a64e8c-1a3a-4cea-84f2-689748c26be1"
      },
      "execution_count": null,
      "outputs": [
        {
          "output_type": "stream",
          "name": "stdout",
          "text": [
            "Uppercase characters: HWOAIGPT\n"
          ]
        }
      ]
    },
    {
      "cell_type": "code",
      "source": [
        "# 58. Write a function that replaces occurrences of a substring in a NumPy array of strings with a new string.\n",
        "arr = np.array(['apple', 'banana', 'grape', 'pineapple'])"
      ],
      "metadata": {
        "id": "7VWLgZBJxPWD"
      },
      "execution_count": null,
      "outputs": []
    },
    {
      "cell_type": "code",
      "source": [
        "def replace_occur(arr,old,new):\n",
        "  return np.char.replace(arr,old,new)\n",
        "\n",
        "replace = replace_occur(arr,'a','Z')\n",
        "print(replace)"
      ],
      "metadata": {
        "colab": {
          "base_uri": "https://localhost:8080/"
        },
        "id": "Tc2dsMJ_siyP",
        "outputId": "e73b4393-f4fb-4104-bd31-7b549bd8b870"
      },
      "execution_count": null,
      "outputs": [
        {
          "output_type": "stream",
          "name": "stdout",
          "text": [
            "['Zpple' 'bZnZnZ' 'grZpe' 'pineZpple']\n"
          ]
        }
      ]
    },
    {
      "cell_type": "code",
      "source": [
        "# 59. Write a function that concatenates strings in a NumPy array element-wise\n",
        "arr1 = np.array(['Hello', 'World'])\n",
        "arr2 = np.array(['Open', 'AI'])"
      ],
      "metadata": {
        "id": "AHJ3hAZXtiWM"
      },
      "execution_count": null,
      "outputs": []
    },
    {
      "cell_type": "code",
      "source": [
        "def concat_str(arr1,arr2):\n",
        "  return np.char.add(arr1,arr2)\n",
        "\n",
        "concate = concat_str(arr1,arr2)\n",
        "print(concate)"
      ],
      "metadata": {
        "colab": {
          "base_uri": "https://localhost:8080/"
        },
        "id": "d8iYZ4lluy8n",
        "outputId": "99862d93-1e0d-4159-d248-d301335be3fe"
      },
      "execution_count": null,
      "outputs": [
        {
          "output_type": "stream",
          "name": "stdout",
          "text": [
            "['HelloOpen' 'WorldAI']\n"
          ]
        }
      ]
    },
    {
      "cell_type": "code",
      "source": [
        "# 60. Write a function that finds the length of the longest string in a NumPy array.\n",
        "arr = np.array(['apple', 'banana', 'grape', 'pineapple'])"
      ],
      "metadata": {
        "id": "vmA1eCD7vF-r"
      },
      "execution_count": null,
      "outputs": []
    },
    {
      "cell_type": "code",
      "source": [
        "def longest_string_length(arr):\n",
        "    lengths = np.char.str_len(arr)\n",
        "    return np.max(lengths)\n",
        "\n",
        "arr = np.array(['apple', 'banana', 'grape', 'pineapple'])\n",
        "result = longest_string_length(arr)\n",
        "print(result)"
      ],
      "metadata": {
        "colab": {
          "base_uri": "https://localhost:8080/"
        },
        "id": "h8RZAOiVvc4X",
        "outputId": "34385bcf-395a-4432-f125-48ac47c2bd71"
      },
      "execution_count": null,
      "outputs": [
        {
          "output_type": "stream",
          "name": "stdout",
          "text": [
            "9\n"
          ]
        }
      ]
    },
    {
      "cell_type": "code",
      "source": [
        "# 61. Create a dataset of 100 random integers between 1 and 1000. Compute the mean, median, variance, and standard deviation of the dataset using NumPy's functions."
      ],
      "metadata": {
        "id": "o_ml0Wb3wGvb"
      },
      "execution_count": null,
      "outputs": []
    },
    {
      "cell_type": "code",
      "source": [
        "def details(arr):\n",
        "  mean = np.mean(arr)\n",
        "  median = np.median(arr)\n",
        "  variance = np.var(arr)\n",
        "  standard_deviation = np.std(arr)\n",
        "\n",
        "  return mean, median, variance, standard_deviation\n",
        "\n",
        "arr = np.random.randint(1,1001,size=100)\n",
        "print(arr)\n",
        "detail_arr = details(arr)\n",
        "print(\"The mean, median, variance and standard deviation are:\\n\", detail_arr)"
      ],
      "metadata": {
        "colab": {
          "base_uri": "https://localhost:8080/"
        },
        "id": "m3Xrkt1gzHqJ",
        "outputId": "9c7392eb-0e12-4e5d-9265-3c7c615082d2"
      },
      "execution_count": null,
      "outputs": [
        {
          "output_type": "stream",
          "name": "stdout",
          "text": [
            "[982 102 846 612 753 133 746 840 655   3 406 138 330 115 159  15 821 956\n",
            " 534 561 393 824 749 742  82 179 349 689 347 423  50 650 607 254 297 869\n",
            " 245 973 297 775 375 795 778 456 103 647 118 609  94  80 593 569 793 726\n",
            " 167 353 580 646 707 975 170 675 437 358 710 831 259 239 184 178 566 999\n",
            " 247 324 247 555 528 464 418 850 798 629 554 178 489 900 339 278 326 387\n",
            " 248 443 493 217 321  96 758 168 581 142]\n",
            "The mean, median, variance and standard deviation are:\n",
            " (472.49, 449.5, 73370.2899, 270.8695071431999)\n"
          ]
        }
      ]
    },
    {
      "cell_type": "code",
      "source": [
        "# 62. Generate an array of 50 random numbers between 1 and 100. Find the 25th and 75th percentiles of the dataset."
      ],
      "metadata": {
        "id": "CWfJEKj30gi4"
      },
      "execution_count": null,
      "outputs": []
    },
    {
      "cell_type": "code",
      "source": [
        "arr = np.random.randint(1,101,size=50)\n",
        "\n",
        "percentile_25th = np.percentile(arr,25)\n",
        "percentile_75th = np.percentile(arr,75)\n",
        "\n",
        "print(\"The array is:\\n\",arr)\n",
        "print(\"25th percentile for the array is:\\n\",percentile_25th)\n",
        "print(\"75th percentile for the array is:\\n\",percentile_75th)"
      ],
      "metadata": {
        "colab": {
          "base_uri": "https://localhost:8080/"
        },
        "id": "ikJK5mo41gov",
        "outputId": "d62e5652-34fc-496c-f358-e157298431ed"
      },
      "execution_count": null,
      "outputs": [
        {
          "output_type": "stream",
          "name": "stdout",
          "text": [
            "The array is:\n",
            " [ 52  38  60  51   5  27  37  63  61  35 100  38  73  22  18  91  80  32\n",
            "  99  67  70   3  35   2  64  54   6  49  51  96  22  86   6  11   9  83\n",
            "   1   7  97  93  44  76  87  40  84  39  76  43  69  52]\n",
            "25th percentile for the array is:\n",
            " 28.25\n",
            "75th percentile for the array is:\n",
            " 75.25\n"
          ]
        }
      ]
    },
    {
      "cell_type": "code",
      "source": [
        "# 63. Create two arrays representing two sets of variables. Compute the correlation coefficient between these arrays using NumPy's `corrcoef` function."
      ],
      "metadata": {
        "id": "tqJ1Huo64Klf"
      },
      "execution_count": null,
      "outputs": []
    },
    {
      "cell_type": "code",
      "source": [
        "array1 = np.array([1, 2, 3, 4, 5])\n",
        "array2 = np.array([5, 4, 3, 2, 1])\n",
        "\n",
        "correlation_matrix = np.corrcoef(array1, array2)\n",
        "\n",
        "correlation_coefficient = correlation_matrix[1, 0]\n",
        "\n",
        "print(\"Correlation Coefficient:\", correlation_coefficient)"
      ],
      "metadata": {
        "colab": {
          "base_uri": "https://localhost:8080/"
        },
        "id": "B-kO4x4S55Et",
        "outputId": "3cc1a622-e7ab-44ce-a2c8-869902a19621"
      },
      "execution_count": null,
      "outputs": [
        {
          "output_type": "stream",
          "name": "stdout",
          "text": [
            "Correlation Coefficient: -0.9999999999999999\n"
          ]
        }
      ]
    },
    {
      "cell_type": "code",
      "source": [
        "# 64. Create two matrices and perform matrix multiplication using NumPy's `dot` function."
      ],
      "metadata": {
        "id": "1M2X3k6g5_no"
      },
      "execution_count": null,
      "outputs": []
    },
    {
      "cell_type": "code",
      "source": [
        "array1 = np.random.randint(1,6,size=(3,4))\n",
        "array2 = np.random.randint(6,11,size=(4,2))\n",
        "\n",
        "matrix_multi = np.dot(array1, array2)\n",
        "\n",
        "print(\"The first matrix:\\n\",array1)\n",
        "print(\"The second matrix:\\n\",array2)\n",
        "print(\"The resultant matrix is:\\n\",matrix_multi)"
      ],
      "metadata": {
        "colab": {
          "base_uri": "https://localhost:8080/"
        },
        "id": "WuUVN3Ak6p-A",
        "outputId": "9968caf3-8e1a-458c-8e39-811f7cd6d4ab"
      },
      "execution_count": null,
      "outputs": [
        {
          "output_type": "stream",
          "name": "stdout",
          "text": [
            "The first matrix:\n",
            " [[4 5 4 1]\n",
            " [4 1 4 5]\n",
            " [4 4 3 4]]\n",
            "The second matrix:\n",
            " [[9 8]\n",
            " [7 7]\n",
            " [9 6]\n",
            " [7 9]]\n",
            "The resultant matrix is:\n",
            " [[114 100]\n",
            " [114 108]\n",
            " [119 114]]\n"
          ]
        }
      ]
    },
    {
      "cell_type": "code",
      "source": [
        "# 65. Create an array of 50 integers between 10 and 1000. Calculate the 10th, 50th (median), and 90th percentiles along with the first and third quartiles."
      ],
      "metadata": {
        "id": "jZ_OU9sB7AOs"
      },
      "execution_count": null,
      "outputs": []
    },
    {
      "cell_type": "code",
      "source": [
        "array = np.random.randint(10,1001,size=50)\n",
        "\n",
        "percentile_10th = np.percentile(array, 10)\n",
        "percentile_50th = np.percentile(array, 50)\n",
        "percentile_90th = np.percentile(array, 90)\n",
        "first_quartile = np.percentile(array, 25)\n",
        "third_quartile = np.percentile(array, 75)\n",
        "\n",
        "print(\"This is the array:\\n\", array)\n",
        "print(\"percentile_10th:\\n\", percentile_10th)\n",
        "print(\"percentile_50th(median):\\n\", percentile_50th)\n",
        "print(\"percentile_90th:\\n\", percentile_90th)\n",
        "print(\"first_quartile:\\n\", first_quartile)\n",
        "print(\"third_quartile:\\n\", third_quartile)"
      ],
      "metadata": {
        "colab": {
          "base_uri": "https://localhost:8080/"
        },
        "id": "HmsWDPDK9hqY",
        "outputId": "9ba13ad2-3161-4e6d-8b41-3dbf09e793cb"
      },
      "execution_count": null,
      "outputs": [
        {
          "output_type": "stream",
          "name": "stdout",
          "text": [
            "This is the array:\n",
            " [640 719 864  51 596 840 328 477 501 515 740 533 502 856 850 225 481 774\n",
            " 192 583 914 436 226 126 620 927 427 286 515  40 343 349 558 285 290 290\n",
            " 557 313 259 531 494 621 156  27 784 928 315 609 457  69]\n",
            "percentile_10th:\n",
            " 153.0\n",
            "percentile_50th(median):\n",
            " 497.5\n",
            "percentile_90th:\n",
            " 850.6\n",
            "first_quartile:\n",
            " 290.0\n",
            "third_quartile:\n",
            " 620.75\n"
          ]
        }
      ]
    },
    {
      "cell_type": "code",
      "source": [
        "# 66. Create a NumPy array of integers and find the index of a specific element."
      ],
      "metadata": {
        "id": "nxzffl_t_OgI"
      },
      "execution_count": null,
      "outputs": []
    },
    {
      "cell_type": "code",
      "source": [
        "array = np.array([1, 2, 3, 4, 5, 6])\n",
        "specific = int(input(\"Enter a subarray : \"))\n",
        "find_index = list(array).index(specific)\n",
        "print(\"the index is :\", find_index)"
      ],
      "metadata": {
        "colab": {
          "base_uri": "https://localhost:8080/"
        },
        "id": "4nL39Do7_-5l",
        "outputId": "ee995f85-0b03-4f41-9c86-f8ef5b9f720f"
      },
      "execution_count": null,
      "outputs": [
        {
          "output_type": "stream",
          "name": "stdout",
          "text": [
            "Enter a subarray : 4\n",
            "the index is : 3\n"
          ]
        }
      ]
    },
    {
      "cell_type": "code",
      "source": [
        "# 67. Generate a random NumPy array and sort it in ascending order."
      ],
      "metadata": {
        "id": "TzgXZq5LDP7q"
      },
      "execution_count": null,
      "outputs": []
    },
    {
      "cell_type": "code",
      "source": [
        "random_array = np.random.randint(10, 100, size=10)\n",
        "\n",
        "sorted_array = np.sort(random_array)\n",
        "\n",
        "print(\"Random Array:\", random_array)\n",
        "print(\"Sorted Array:\", sorted_array)"
      ],
      "metadata": {
        "colab": {
          "base_uri": "https://localhost:8080/"
        },
        "id": "GsrbWEd3GKh_",
        "outputId": "b99f30e1-151f-47cb-df71-59509e9242c1"
      },
      "execution_count": null,
      "outputs": [
        {
          "output_type": "stream",
          "name": "stdout",
          "text": [
            "Random Array: [98 85 81 27 68 36 15 94 77 81]\n",
            "Sorted Array: [15 27 36 68 77 81 81 85 94 98]\n"
          ]
        }
      ]
    },
    {
      "cell_type": "code",
      "source": [
        "# 68. Filter elements >20  in the given NumPy array.\n",
        "arr = np.array([12, 25, 6, 42, 8, 30])"
      ],
      "metadata": {
        "id": "ep4FgSWIGXG4"
      },
      "execution_count": null,
      "outputs": []
    },
    {
      "cell_type": "code",
      "source": [
        "arr = np.array([12, 25, 6, 42, 8, 30])\n",
        "filtered_array = arr[arr > 20]\n",
        "\n",
        "print(\"Original Array:\", arr)\n",
        "print(\"Filtered Array (elements > 20):\", filtered_array)"
      ],
      "metadata": {
        "colab": {
          "base_uri": "https://localhost:8080/"
        },
        "id": "Pq6veuWVGoYY",
        "outputId": "0350f843-4fbe-44d0-c70d-c9f882b13c80"
      },
      "execution_count": null,
      "outputs": [
        {
          "output_type": "stream",
          "name": "stdout",
          "text": [
            "Original Array: [12 25  6 42  8 30]\n",
            "Filtered Array (elements > 20): [25 42 30]\n"
          ]
        }
      ]
    },
    {
      "cell_type": "code",
      "source": [
        "# 69. Filter elements which are divisible by 3 from a given NumPy array.\n",
        "arr = np.array([1, 5, 8, 12, 15])"
      ],
      "metadata": {
        "id": "IAg84lz3G8B6"
      },
      "execution_count": null,
      "outputs": []
    },
    {
      "cell_type": "code",
      "source": [
        "arr = np.array([1, 5, 8, 12, 15])\n",
        "\n",
        "filtered_array = arr[arr % 3 == 0]\n",
        "\n",
        "print(\"Original Array:\", arr)\n",
        "print(\"Filtered Array (elements divisible by 3):\", filtered_array)"
      ],
      "metadata": {
        "colab": {
          "base_uri": "https://localhost:8080/"
        },
        "id": "_c70bID3HJxk",
        "outputId": "e694e411-9935-493b-90cf-33676d43efd6"
      },
      "execution_count": null,
      "outputs": [
        {
          "output_type": "stream",
          "name": "stdout",
          "text": [
            "Original Array: [ 1  5  8 12 15]\n",
            "Filtered Array (elements divisible by 3): [12 15]\n"
          ]
        }
      ]
    },
    {
      "cell_type": "code",
      "source": [
        "# 70. Filter elements which are ≥ 20 and ≤ 40 from a given NumPy array.\n",
        "arr = np.array([10, 20, 30, 40, 50])"
      ],
      "metadata": {
        "id": "HWSSHvCDHT22"
      },
      "execution_count": null,
      "outputs": []
    },
    {
      "cell_type": "code",
      "source": [
        "arr = np.array([10, 20, 30, 40, 50])\n",
        "\n",
        "filtered_array = arr[(arr >= 20) & (arr <= 40)]\n",
        "\n",
        "print(\"Original Array:\", arr)\n",
        "print(\"Filtered Array (elements ≥ 20 and ≤ 40):\", filtered_array)"
      ],
      "metadata": {
        "colab": {
          "base_uri": "https://localhost:8080/"
        },
        "id": "EgXV4fk6Hmvu",
        "outputId": "b8417d72-cf75-43fc-abd8-c406ba107e12"
      },
      "execution_count": null,
      "outputs": [
        {
          "output_type": "stream",
          "name": "stdout",
          "text": [
            "Original Array: [10 20 30 40 50]\n",
            "Filtered Array (elements ≥ 20 and ≤ 40): [20 30 40]\n"
          ]
        }
      ]
    },
    {
      "cell_type": "code",
      "source": [
        "# 71. For the given NumPy array, check its byte order using the `dtype` attribute byteorder.\n",
        "arr = np.array([1, 2, 3])"
      ],
      "metadata": {
        "id": "PZhQrtaZHr-t"
      },
      "execution_count": null,
      "outputs": []
    },
    {
      "cell_type": "code",
      "source": [
        "arr = np.array([1, 2, 3])\n",
        "\n",
        "byte_order = arr.dtype.byteorder\n",
        "\n",
        "print(\"Array:\", arr)\n",
        "print(\"Byte Order:\", byte_order)"
      ],
      "metadata": {
        "colab": {
          "base_uri": "https://localhost:8080/"
        },
        "id": "yJH3XSqXIbYK",
        "outputId": "87b523d2-e9b0-431d-ffd0-4370085c2614"
      },
      "execution_count": null,
      "outputs": [
        {
          "output_type": "stream",
          "name": "stdout",
          "text": [
            "Array: [1 2 3]\n",
            "Byte Order: =\n"
          ]
        }
      ]
    },
    {
      "cell_type": "code",
      "source": [
        "# 72. For the given NumPy array, perform byte swapping in place using `byteswap()`.\n",
        "arr = np.array([1, 2, 3], dtype=np.int32)"
      ],
      "metadata": {
        "id": "Y0nE5US0Ifr0"
      },
      "execution_count": null,
      "outputs": []
    },
    {
      "cell_type": "code",
      "source": [
        "arr = np.array([1, 2, 3], dtype=np.int32)\n",
        "\n",
        "print(\"Original Array:\", arr)\n",
        "\n",
        "arr.byteswap(True)\n",
        "\n",
        "print(\"Byte Swapped Array:\", arr)"
      ],
      "metadata": {
        "colab": {
          "base_uri": "https://localhost:8080/"
        },
        "id": "8rLet6K1JSbF",
        "outputId": "599044cd-532d-4664-cd74-fc2a5ea953b1"
      },
      "execution_count": null,
      "outputs": [
        {
          "output_type": "stream",
          "name": "stdout",
          "text": [
            "Original Array: [1 2 3]\n",
            "Byte Swapped Array: [16777216 33554432 50331648]\n"
          ]
        }
      ]
    },
    {
      "cell_type": "code",
      "source": [
        "# 73. For the given NumPy array, swap its byte order without modifying the original array using `newbyteorder()`.\n",
        "arr = np.array([1, 2, 3], dtype=np.int32)"
      ],
      "metadata": {
        "id": "IA6TFY5RJahf"
      },
      "execution_count": null,
      "outputs": []
    },
    {
      "cell_type": "code",
      "source": [
        "arr = np.array([1, 2, 3], dtype=np.int32)\n",
        "\n",
        "print(\"Original Array:\", arr)\n",
        "\n",
        "swapped_array = arr.newbyteorder()\n",
        "\n",
        "print(\"Swapped Byte Order Array:\", swapped_array)"
      ],
      "metadata": {
        "colab": {
          "base_uri": "https://localhost:8080/"
        },
        "id": "K7URhCpEJuRL",
        "outputId": "26f67b80-f859-473a-a39e-1be0c4b9c736"
      },
      "execution_count": null,
      "outputs": [
        {
          "output_type": "stream",
          "name": "stdout",
          "text": [
            "Original Array: [1 2 3]\n",
            "Swapped Byte Order Array: [16777216 33554432 50331648]\n"
          ]
        }
      ]
    },
    {
      "cell_type": "code",
      "source": [
        "# 74. For the given NumPy array and swap its byte order conditionally based on system endianness using `newbyteorder()`.\n",
        "arr = np.array([1, 2, 3], dtype=np.int32)"
      ],
      "metadata": {
        "id": "vVY3iW9qJ1cx"
      },
      "execution_count": 2,
      "outputs": []
    },
    {
      "cell_type": "code",
      "source": [
        "import sys\n",
        "\n",
        "arr = np.array([1, 2, 3], dtype=np.int32)\n",
        "\n",
        "if sys.byteorder == 'little':\n",
        "    arr = arr.newbyteorder('>')\n",
        "\n",
        "print(arr)"
      ],
      "metadata": {
        "colab": {
          "base_uri": "https://localhost:8080/"
        },
        "id": "U328O4z1EKa2",
        "outputId": "fec221bc-cad8-4f07-c104-537d01ab11be"
      },
      "execution_count": 3,
      "outputs": [
        {
          "output_type": "stream",
          "name": "stdout",
          "text": [
            "[16777216 33554432 50331648]\n"
          ]
        }
      ]
    },
    {
      "cell_type": "code",
      "source": [
        "# 75. For the given NumPy array, check if byte swapping is necessary for the current system using `dtype` attribute `byteorder`.\n",
        "arr = np.array([1, 2, 3], dtype=np.int32)"
      ],
      "metadata": {
        "id": "Tuosq6iJEX_c"
      },
      "execution_count": 4,
      "outputs": []
    },
    {
      "cell_type": "code",
      "source": [
        "arr = np.array([1, 2, 3], dtype=np.int32)\n",
        "\n",
        "if sys.byteorder == 'little':\n",
        "    if arr.dtype.byteorder == '<':\n",
        "        arr = arr.newbyteorder('>')\n",
        "        print(\"Byte order was swapped to big-endian.\")\n",
        "else:\n",
        "    if arr.dtype.byteorder == '>':\n",
        "        arr = arr.newbyteorder('<')\n",
        "        print(\"Byte order was swapped to little-endian.\")\n",
        "\n",
        "print(arr)\n",
        "print(\"Final byte order:\", arr.dtype.byteorder)"
      ],
      "metadata": {
        "colab": {
          "base_uri": "https://localhost:8080/"
        },
        "id": "p1KnIUPcElPq",
        "outputId": "2bf3ae5b-da47-40f2-bd92-08d2ac244057"
      },
      "execution_count": 5,
      "outputs": [
        {
          "output_type": "stream",
          "name": "stdout",
          "text": [
            "[1 2 3]\n",
            "Final byte order: =\n"
          ]
        }
      ]
    },
    {
      "cell_type": "code",
      "source": [
        "# 76. Create a NumPy array `arr1` with values from 1 to 10. Create a copy of `arr1` named `copy_arr` and modify an element in `copy_arr`. Check if modifying `copy_arr` affects `arr1`."
      ],
      "metadata": {
        "id": "ELEtQvn9E9ZP"
      },
      "execution_count": 6,
      "outputs": []
    },
    {
      "cell_type": "code",
      "source": [
        "arr1 = np.arange(1, 11)\n",
        "\n",
        "copy_arr = arr1.copy()\n",
        "\n",
        "copy_arr[0] = 100\n",
        "\n",
        "print(\"Original array (arr1):\", arr1)\n",
        "print(\"Modified copy array (copy_arr):\", copy_arr)"
      ],
      "metadata": {
        "colab": {
          "base_uri": "https://localhost:8080/"
        },
        "id": "2KVKRbEgFXSd",
        "outputId": "e0f452b7-7c88-48ce-b7d4-3d29441582c3"
      },
      "execution_count": 7,
      "outputs": [
        {
          "output_type": "stream",
          "name": "stdout",
          "text": [
            "Original array (arr1): [ 1  2  3  4  5  6  7  8  9 10]\n",
            "Modified copy array (copy_arr): [100   2   3   4   5   6   7   8   9  10]\n"
          ]
        }
      ]
    },
    {
      "cell_type": "markdown",
      "source": [
        "The copied array doesn't affect the original one."
      ],
      "metadata": {
        "id": "UPaQV7dXFmF4"
      }
    },
    {
      "cell_type": "code",
      "source": [
        "# 77. Create a 2D NumPy array `matrix` of shape (3, 3) with random integers. Extract a slice `view_slice` from the matrix. Modify an element in `view_slice` and observe if it changes the original `matrix`."
      ],
      "metadata": {
        "id": "MbK4VqrdFjXG"
      },
      "execution_count": 8,
      "outputs": []
    },
    {
      "cell_type": "code",
      "source": [
        "matrix = np.random.randint(1, 100, size=(3, 3))\n",
        "\n",
        "view_slice = matrix[1:3, 1:3]\n",
        "\n",
        "view_slice[0, 0] = 999\n",
        "\n",
        "print(\"Original matrix:\")\n",
        "print(matrix)\n",
        "print(\"\\nModified view_slice:\")\n",
        "print(view_slice)"
      ],
      "metadata": {
        "colab": {
          "base_uri": "https://localhost:8080/"
        },
        "id": "fP6zLjXAGHJd",
        "outputId": "fef1dc58-f107-45fe-d500-de4f112ca705"
      },
      "execution_count": 12,
      "outputs": [
        {
          "output_type": "stream",
          "name": "stdout",
          "text": [
            "Original matrix:\n",
            "[[ 71  14  13]\n",
            " [ 51 999  37]\n",
            " [ 36  61  78]]\n",
            "\n",
            "Modified view_slice:\n",
            "[[999  37]\n",
            " [ 61  78]]\n"
          ]
        }
      ]
    },
    {
      "cell_type": "markdown",
      "source": [
        "The view slice has changed the original matrix."
      ],
      "metadata": {
        "id": "lUXg7xB4HIbU"
      }
    },
    {
      "cell_type": "code",
      "source": [
        "# 78. Create a NumPy array `array_a` of shape (4, 3) with sequential integers from 1 to 12. Extract a slice `view_b` from `array_a` and broadcast the addition of 5 to view_b.\n",
        "#  Check if it alters the original `array_a`."
      ],
      "metadata": {
        "id": "E2ak62QwGsJN"
      },
      "execution_count": 13,
      "outputs": []
    },
    {
      "cell_type": "code",
      "source": [
        "array_a = np.random.randint(1,13, size=(4,3))\n",
        "\n",
        "view_b = array_a[1:3,1:3]\n",
        "\n",
        "view_b_modifi = view_b + 5\n",
        "\n",
        "print(\"original matrix:\\n\", array_a)\n",
        "print(\"Sliced matrix:\\n\", view_b)\n",
        "print(\"Modified view_b:\\n\", view_b_modifi)\n",
        "print(\"Changes in original matrix:\\n\", array_a)"
      ],
      "metadata": {
        "colab": {
          "base_uri": "https://localhost:8080/"
        },
        "id": "NExCkyZuH0K3",
        "outputId": "5685e593-b697-480d-c3d6-a53a52306db6"
      },
      "execution_count": 20,
      "outputs": [
        {
          "output_type": "stream",
          "name": "stdout",
          "text": [
            "original matrix:\n",
            " [[ 4  6 10]\n",
            " [ 7 10 10]\n",
            " [ 2  1  4]\n",
            " [ 7  7  1]]\n",
            "Sliced matrix:\n",
            " [[10 10]\n",
            " [ 1  4]]\n",
            "Modified view_b:\n",
            " [[15 15]\n",
            " [ 6  9]]\n",
            "Changes in original matrix:\n",
            " [[ 4  6 10]\n",
            " [ 7 10 10]\n",
            " [ 2  1  4]\n",
            " [ 7  7  1]]\n"
          ]
        }
      ]
    },
    {
      "cell_type": "markdown",
      "source": [
        "No change in 'array_a'"
      ],
      "metadata": {
        "id": "w1uy6tkyJXKT"
      }
    },
    {
      "cell_type": "code",
      "source": [
        "# 79. Create a NumPy array `orig_array` of shape (2, 4) with values from 1 to 8. Create a reshaped view`reshaped_view` of shape (4, 2) from orig_array. Modify an element in\n",
        "# `reshaped_view` and check if it reflects changes in the original `orig_array`."
      ],
      "metadata": {
        "id": "L2_1kL9sIuYj"
      },
      "execution_count": 21,
      "outputs": []
    },
    {
      "cell_type": "code",
      "source": [
        "orig_array = np.arange(1, 9).reshape(2, 4)\n",
        "\n",
        "reshaped_view = orig_array.reshape(4, 2)\n",
        "\n",
        "reshaped_view[0, 0] = 99\n",
        "\n",
        "print(\"Original array (orig_array):\")\n",
        "print(orig_array)\n",
        "print(\"\\nReshaped view (reshaped_view):\")\n",
        "print(reshaped_view)"
      ],
      "metadata": {
        "colab": {
          "base_uri": "https://localhost:8080/"
        },
        "id": "sm0qcHoRJ3KL",
        "outputId": "5c8ea0ae-e268-44e9-d4bd-1629bceb6ac5"
      },
      "execution_count": 22,
      "outputs": [
        {
          "output_type": "stream",
          "name": "stdout",
          "text": [
            "Original array (orig_array):\n",
            "[[99  2  3  4]\n",
            " [ 5  6  7  8]]\n",
            "\n",
            "Reshaped view (reshaped_view):\n",
            "[[99  2]\n",
            " [ 3  4]\n",
            " [ 5  6]\n",
            " [ 7  8]]\n"
          ]
        }
      ]
    },
    {
      "cell_type": "markdown",
      "source": [
        "It also changes the 'orig_array'."
      ],
      "metadata": {
        "id": "DnkYjIaLKRSn"
      }
    },
    {
      "cell_type": "code",
      "source": [
        "# 80. Create a NumPy array `data` of shape (3, 4) with random integers. Extract a copy `data_copy` of elements greater than 5. Modify an element in `data_copy` and verify if it\n",
        "# affects the original `data`."
      ],
      "metadata": {
        "id": "geD324KhKPQC"
      },
      "execution_count": 23,
      "outputs": []
    },
    {
      "cell_type": "code",
      "source": [
        "data = np.random.randint(1, 11, size=(3, 4))\n",
        "\n",
        "data_copy = data[data > 5].copy()\n",
        "\n",
        "if data_copy.size > 0:\n",
        "    data_copy[0] = 99\n",
        "print(\"Original array (data):\")\n",
        "print(data)\n",
        "print(\"\\nCopy of elements greater than 5 (data_copy):\")\n",
        "print(data_copy)\n",
        "print(\"original array:\\n\",data)"
      ],
      "metadata": {
        "colab": {
          "base_uri": "https://localhost:8080/"
        },
        "id": "zQEpO-wTKlH-",
        "outputId": "844aba8e-631e-4ce4-cae8-bd26b67b29ec"
      },
      "execution_count": 26,
      "outputs": [
        {
          "output_type": "stream",
          "name": "stdout",
          "text": [
            "Original array (data):\n",
            "[[6 7 5 7]\n",
            " [3 1 4 2]\n",
            " [7 3 3 1]]\n",
            "\n",
            "Copy of elements greater than 5 (data_copy):\n",
            "[99  7  7  7]\n",
            "original array:\n",
            " [[6 7 5 7]\n",
            " [3 1 4 2]\n",
            " [7 3 3 1]]\n"
          ]
        }
      ]
    },
    {
      "cell_type": "markdown",
      "source": [
        "It does not affect original 'data'."
      ],
      "metadata": {
        "id": "uqyVcycMLr38"
      }
    },
    {
      "cell_type": "code",
      "source": [
        "# 81. Create two matrices A and B of identical shape containing integers and perform addition and subtraction operations between them."
      ],
      "metadata": {
        "id": "6vqtfM9hLrHC"
      },
      "execution_count": null,
      "outputs": []
    },
    {
      "cell_type": "code",
      "source": [
        "A = np.random.randint(1, 10, size=(3, 3))\n",
        "B = np.random.randint(1, 10, size=(3, 3))\n",
        "\n",
        "C = A + B\n",
        "\n",
        "D = A - B\n",
        "\n",
        "print(\"Matrix A:\\n\",A)\n",
        "print(\"Matrix B:\\n\",B)\n",
        "print(\"Addition of A and B (C = A + B):\\n\",C)\n",
        "print(\"Subtraction of B from A (D = A - B):\\n\",D)"
      ],
      "metadata": {
        "colab": {
          "base_uri": "https://localhost:8080/"
        },
        "id": "d-4OAklyLd_d",
        "outputId": "e98fa545-8f3f-4433-f703-7ffc0da2f689"
      },
      "execution_count": 27,
      "outputs": [
        {
          "output_type": "stream",
          "name": "stdout",
          "text": [
            "Matrix A:\n",
            " [[1 6 6]\n",
            " [2 3 8]\n",
            " [5 1 5]]\n",
            "Matrix B:\n",
            " [[3 1 9]\n",
            " [6 7 3]\n",
            " [2 8 2]]\n",
            "Addition of A and B (C = A + B):\n",
            " [[ 4  7 15]\n",
            " [ 8 10 11]\n",
            " [ 7  9  7]]\n",
            "Subtraction of B from A (D = A - B):\n",
            " [[-2  5 -3]\n",
            " [-4 -4  5]\n",
            " [ 3 -7  3]]\n"
          ]
        }
      ]
    },
    {
      "cell_type": "code",
      "source": [
        "# 82. Generate two matrices `C` (3x2) and `D` (2x4) and perform matrix multiplication."
      ],
      "metadata": {
        "id": "-UkKbCMKM3a3"
      },
      "execution_count": 28,
      "outputs": []
    },
    {
      "cell_type": "code",
      "source": [
        "A = np.random.randint(1, 10, size=(3, 2))\n",
        "B = np.random.randint(1, 10, size=(2,4))\n",
        "\n",
        "C = A @ B\n",
        "\n",
        "print(\"Matrix A:\\n\",A)\n",
        "print(\"Matrix B:\\n\",B)\n",
        "print(\"Matrix multiplacation of A and B is (C):\\n\",C)"
      ],
      "metadata": {
        "colab": {
          "base_uri": "https://localhost:8080/"
        },
        "id": "KBOlGtQJNGkL",
        "outputId": "22c5b1d0-b748-4e67-dc85-a7070f1b51d1"
      },
      "execution_count": 30,
      "outputs": [
        {
          "output_type": "stream",
          "name": "stdout",
          "text": [
            "Matrix A:\n",
            " [[5 9]\n",
            " [5 9]\n",
            " [8 2]]\n",
            "Matrix B:\n",
            " [[9 9 1 4]\n",
            " [5 2 7 8]]\n",
            "Matrix multiplacation of A and B is (C):\n",
            " [[90 63 68 92]\n",
            " [90 63 68 92]\n",
            " [82 76 22 48]]\n"
          ]
        }
      ]
    },
    {
      "cell_type": "code",
      "source": [
        "# 83. Create a matrix `E` and find its transpose."
      ],
      "metadata": {
        "id": "Vw13aCx2NmYN"
      },
      "execution_count": 31,
      "outputs": []
    },
    {
      "cell_type": "code",
      "source": [
        "E = np.random.randint(1, 10, size=(3, 4))\n",
        "\n",
        "E_transpose = E.T\n",
        "\n",
        "print(\"Matrix E (3x4):\")\n",
        "print(E)\n",
        "print(\"\\nTranspose of matrix E (E^T):\")\n",
        "print(E_transpose)"
      ],
      "metadata": {
        "colab": {
          "base_uri": "https://localhost:8080/"
        },
        "id": "zijUwTt6OPY0",
        "outputId": "1b037c38-12f0-4cff-dd91-be4eca1f993a"
      },
      "execution_count": 32,
      "outputs": [
        {
          "output_type": "stream",
          "name": "stdout",
          "text": [
            "Matrix E (3x4):\n",
            "[[6 2 1 8]\n",
            " [9 7 3 5]\n",
            " [8 6 5 4]]\n",
            "\n",
            "Transpose of matrix E (E^T):\n",
            "[[6 9 8]\n",
            " [2 7 6]\n",
            " [1 3 5]\n",
            " [8 5 4]]\n"
          ]
        }
      ]
    },
    {
      "cell_type": "code",
      "source": [
        "# 84. Generate a square matrix `F` and compute its determinant."
      ],
      "metadata": {
        "id": "lhH8nQbUOYIy"
      },
      "execution_count": 33,
      "outputs": []
    },
    {
      "cell_type": "code",
      "source": [
        "F = np.random.randint(1, 10, size=(3, 3))\n",
        "\n",
        "determinant = np.linalg.det(F)\n",
        "\n",
        "print(\"Matrix F (3x3):\")\n",
        "print(F)\n",
        "print(\"\\nDeterminant of matrix F:\")\n",
        "print(determinant)"
      ],
      "metadata": {
        "colab": {
          "base_uri": "https://localhost:8080/"
        },
        "id": "XAi8U8FHOfiC",
        "outputId": "b15e487b-bd7b-459b-d5e2-24d1b665dc6f"
      },
      "execution_count": 34,
      "outputs": [
        {
          "output_type": "stream",
          "name": "stdout",
          "text": [
            "Matrix F (3x3):\n",
            "[[5 8 6]\n",
            " [1 5 7]\n",
            " [4 7 7]]\n",
            "\n",
            "Determinant of matrix F:\n",
            "19.99999999999999\n"
          ]
        }
      ]
    },
    {
      "cell_type": "code",
      "source": [
        "# 85. Create a square matrix `G` and find its inverse."
      ],
      "metadata": {
        "id": "qqC0t1nMOrfw"
      },
      "execution_count": 35,
      "outputs": []
    },
    {
      "cell_type": "code",
      "source": [
        "G = np.random.randint(1, 10, size=(2, 2))\n",
        "\n",
        "G_inverse = np.linalg.inv(G)\n",
        "\n",
        "print(\"Matrix G (2x2):\")\n",
        "print(G)\n",
        "print(\"\\nInverse of matrix G:\")\n",
        "print(G_inverse)"
      ],
      "metadata": {
        "colab": {
          "base_uri": "https://localhost:8080/"
        },
        "id": "jKiJkuh2O4He",
        "outputId": "965cd14e-2ab4-46f5-d947-e43631eaf004"
      },
      "execution_count": 41,
      "outputs": [
        {
          "output_type": "stream",
          "name": "stdout",
          "text": [
            "Matrix G (2x2):\n",
            "[[2 5]\n",
            " [3 3]]\n",
            "\n",
            "Inverse of matrix G:\n",
            "[[-0.33333333  0.55555556]\n",
            " [ 0.33333333 -0.22222222]]\n"
          ]
        }
      ]
    },
    {
      "cell_type": "code",
      "source": [],
      "metadata": {
        "id": "8gimXqp-O_22"
      },
      "execution_count": null,
      "outputs": []
    }
  ]
}